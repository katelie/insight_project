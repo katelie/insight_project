{
 "cells": [
  {
   "cell_type": "code",
   "execution_count": 1,
   "metadata": {
    "collapsed": false
   },
   "outputs": [
    {
     "data": {
      "text/html": [
       "<style>.container { width:100% !important; float:center}</style>"
      ],
      "text/plain": [
       "<IPython.core.display.HTML object>"
      ]
     },
     "execution_count": 1,
     "metadata": {},
     "output_type": "execute_result"
    }
   ],
   "source": [
    "from IPython.core.display import HTML\n",
    "HTML(\"<style>.container { width:100% !important; float:center}</style>\")"
   ]
  },
  {
   "cell_type": "code",
   "execution_count": 105,
   "metadata": {
    "collapsed": false
   },
   "outputs": [],
   "source": [
    "from __future__ import division, print_function\n",
    "\n",
    "import os\n",
    "\n",
    "import pandas as pd\n",
    "import numpy as np\n",
    "import matplotlib.pyplot as plt\n",
    "import seaborn as sns\n",
    "import nltk\n",
    "from nltk.corpus import stopwords\n",
    "from nltk.sentiment.vader import SentimentIntensityAnalyzer\n",
    "from nltk.sentiment import SentimentAnalyzer\n",
    "\n",
    "import sklearn\n",
    "from sklearn.preprocessing import LabelEncoder\n",
    "from sklearn.naive_bayes import MultinomialNB, BernoulliNB\n",
    "from sklearn.feature_extraction.text import CountVectorizer, TfidfTransformer\n",
    "from sklearn.decomposition import PCA\n",
    "from sklearn.pipeline import Pipeline, FeatureUnion\n",
    "from sklearn.linear_model import SGDClassifier\n",
    "from sklearn.metrics import confusion_matrix, precision_recall_fscore_support\n",
    "from sklearn.cross_validation import KFold, StratifiedKFold, cross_val_score\n",
    "\n",
    "\n",
    "\n",
    "\n",
    "%matplotlib inline\n",
    "\n",
    "\n",
    "\n",
    "sns.set_context('talk', font_scale=1.5)\n",
    "sns.set_style('ticks', {'font.family': [u'sans-serif']})\n",
    "\n",
    "subs = ['had trouble','had issue','exchange','recommend','change','easier','gluten free','gluten-free','vegan','vegetarian','easier','replace with','replac','adjust','suggest','swap','switch','instead of','in place of','substitute','replace','i use','to make it','customiz','adjust','instead','exchang','opted to use','better with']\n",
    "add = ['will ad','will do','next time','going to add','add more','better with','includ','i up','should have ad']\n",
    "omit = ['omit','leave out','remov','left out','eliminat','add less','forgot','decreas','dispensed with','delet','reduc','should have left out']\n",
    "\n",
    "punctuation = ['.',',',':','!',';','-','?','\"',\"'\",'(',')','—']   \n",
    "other = ['ive','ve', \"i've\", \"i'v\", 'i’ll', 'i’ve', 'i’v']  # 'deb','hideb','don','didn','twaittry','doesn','thank','heydeb',\n",
    "mystops = stopwords.words('english') + punctuation + other + subs + add + omit\n"
   ]
  },
  {
   "cell_type": "markdown",
   "metadata": {},
   "source": [
    "import & sanity check"
   ]
  },
  {
   "cell_type": "code",
   "execution_count": 123,
   "metadata": {
    "collapsed": false
   },
   "outputs": [],
   "source": [
    "comments = pd.read_csv('/Users/kateliea/Documents/Insight/project/algorithm/training_data.csv',index_col=0)\n",
    "# comments = comments.dropna(how='any')\n",
    "\n",
    "comments = comments.dropna()\n",
    "\n",
    "# comments['category_simple'] = comments.category\n",
    "# comments['category_simple'] = comments.category_simple.replace(['addition','substitution','omission'],'helpful')\n",
    "\n",
    "# comments.category_simple.unique()"
   ]
  },
  {
   "cell_type": "code",
   "execution_count": 124,
   "metadata": {
    "collapsed": false
   },
   "outputs": [
    {
     "data": {
      "text/plain": [
       "Index(['sentence', 'commentID', 'child_id', 'children', 'comment_time',\n",
       "       'recipenumber', 'title', 'url', 'usercomment', 'username', 'usersite',\n",
       "       'usercomment_lower', 'tokens', 'tokens_stemmed', 'sentence_tokens',\n",
       "       'sentence_tokens_stemmed_stops', 'sentence_tokens_stemmed', 'category',\n",
       "       'category_simple', 'sent_neg', 'sent_neu', 'sent_pos', 'sent_compound'],\n",
       "      dtype='object')"
      ]
     },
     "execution_count": 124,
     "metadata": {},
     "output_type": "execute_result"
    }
   ],
   "source": [
    "comments.columns"
   ]
  },
  {
   "cell_type": "code",
   "execution_count": 5,
   "metadata": {
    "collapsed": false
   },
   "outputs": [
    {
     "data": {
      "text/plain": [
       "array([[ 0.    ,  0.687 ,  0.313 ,  0.7121],\n",
       "       [ 0.    ,  0.    ,  1.    ,  0.6476],\n",
       "       [ 0.357 ,  0.643 ,  0.    , -0.416 ],\n",
       "       ..., \n",
       "       [ 0.    ,  0.    ,  1.    ,  0.4926],\n",
       "       [ 0.    ,  0.526 ,  0.474 ,  0.4019],\n",
       "       [ 0.    ,  0.806 ,  0.194 ,  0.6239]])"
      ]
     },
     "execution_count": 5,
     "metadata": {},
     "output_type": "execute_result"
    }
   ],
   "source": [
    "X_sent = comments[['sent_neg', 'sent_neu', 'sent_pos', 'sent_compound']]\n",
    "X_sent.as_matrix()"
   ]
  },
  {
   "cell_type": "markdown",
   "metadata": {},
   "source": [
    "# pipeline - identify 'helpful' vs 'other' comments"
   ]
  },
  {
   "cell_type": "markdown",
   "metadata": {},
   "source": [
    "### define data sets"
   ]
  },
  {
   "cell_type": "code",
   "execution_count": 125,
   "metadata": {
    "collapsed": false
   },
   "outputs": [
    {
     "name": "stdout",
     "output_type": "stream",
     "text": [
      "total comments that should be helpful, 4179\n",
      "total comments that should be other, 70432\n"
     ]
    }
   ],
   "source": [
    "X = comments.sentence_tokens_stemmed\n",
    "Y = comments.category_simple\n",
    "\n",
    "\n",
    "X_sent = comments[['sent_neg', 'sent_neu', 'sent_pos', 'sent_compound']]\n",
    "\n",
    "num_folds = 10\n",
    "num_instances = len(X)\n",
    "seed = 42\n",
    "\n",
    "kfold = KFold(n=num_instances, n_folds=num_folds, random_state=seed)\n",
    "\n",
    "\n",
    "\n",
    "# split = 20000\n",
    "# X_train = comments.sentence_tokens_stemmed[:split] #\\.as_matrix()\n",
    "# target_train = comments.category_simple[:split] #.as_matrix()\n",
    "# target_train.replace(['addition','substitution','omission'],'helpful',inplace=True)\n",
    "\n",
    "\n",
    "# X_test = comments.sentence_tokens_stemmed[split:]\n",
    "# target_test = comments.category_simple[split:]\n",
    "# target_test.replace(['addition','substitution','omission'],'helpful',inplace=True)\n",
    "\n",
    "split = 20000\n",
    "X_train = comments.sentence[:split] #\\.as_matrix()\n",
    "target_train = comments.category_simple[:split] #.as_matrix()\n",
    "target_train.replace(['addition','substitution','omission'],'helpful',inplace=True)\n",
    "\n",
    "\n",
    "X_test = comments.sentence[split:]\n",
    "target_test = comments.category_simple[split:]\n",
    "target_test.replace(['addition','substitution','omission'],'helpful',inplace=True)\n",
    "\n",
    "test_all = comments[split:]\n",
    "\n",
    "# encode classes labels as ints\n",
    "target_test_bin = LabelEncoder().fit_transform(target_test)\n",
    "# list(labelencoder.classes_)\n",
    "\n",
    "len(X_test), len(target_test)\n",
    "\n",
    "print('total comments that should be helpful, %i' % test_all[test_all.category_simple == 'helpful'].category.count())\n",
    "print('total comments that should be other, %i' % test_all[test_all.category_simple == 'other'].category.count())"
   ]
  },
  {
   "cell_type": "markdown",
   "metadata": {},
   "source": [
    "## Naive Bayes classifier"
   ]
  },
  {
   "cell_type": "code",
   "execution_count": 126,
   "metadata": {
    "collapsed": false
   },
   "outputs": [
    {
     "name": "stdout",
     "output_type": "stream",
     "text": [
      "accuracy, 0.9500\n",
      "score, 0.9500\n",
      "confusion matrix [[  459  3720]\n",
      " [   12 70420]]\n",
      "correctly classified helpful 459\n",
      "prob/recall/F1 (array([ 0.97452229,  0.94982466]), array([ 0.10983489,  0.99982962]), array([ 0.19741935,  0.97418587]), array([ 4179, 70432]))\n"
     ]
    }
   ],
   "source": [
    "classifier_helpful_NB = Pipeline([('vectorizer', CountVectorizer(ngram_range=(2,6), max_df=1000000, min_df=3)),\n",
    "                                  ('transformer', TfidfTransformer(norm='l2', smooth_idf=True, sublinear_tf=False, use_idf=True)),\n",
    "                                  ('classifier', MultinomialNB(alpha=1.0, class_prior=[0.1,0.9], fit_prior=True))])\n",
    "\n",
    "\n",
    "# classifier_helpful_NB = Pipeline([('vectorizer', CountVectorizer(ngram_range=(2,6), stop_words=mystops, max_df=1000000, min_df=3)),\n",
    "#                                   ('transformer', TfidfTransformer(norm='l2', smooth_idf=True, sublinear_tf=False, use_idf=True)),\n",
    "#                                   ('classifier', MultinomialNB(alpha=1.0, class_prior=None, fit_prior=True))])\n",
    "\n",
    "classifier_helpful_NB.fit(X_train, target_train) \n",
    "predicted_NB = classifier_helpful_NB.predict(X_test) \n",
    "confmatrix_NB = confusion_matrix(target_test, predicted_NB)\n",
    "probs_NB = classifier_helpful_NB.predict_proba(X_test)\n",
    "\n",
    "predicted_NB_bin = LabelEncoder().fit_transform(predicted_NB)\n",
    "falsepos_NB, truepos_NB, _ = sklearn.metrics.roc_curve(target_test_bin, probs_NB[:,1]) # 2nd column is positive class\n",
    "\n",
    "\n",
    "print('accuracy, %0.4f' % np.mean(predicted_NB == target_test))\n",
    "print('score, %0.4f' % classifier_helpful_NB.score(X_test,target_test))\n",
    "print('confusion matrix', confmatrix_NB)\n",
    "print('correctly classified helpful %i' % test_all[(test_all.category_simple == predicted_NB) & (test_all.category_simple == 'helpful' )].shape[0])\n",
    "print('prob/recall/F1', precision_recall_fscore_support(target_test_bin, predicted_NB_bin))"
   ]
  },
  {
   "cell_type": "code",
   "execution_count": null,
   "metadata": {
    "collapsed": false
   },
   "outputs": [],
   "source": [
    "results_NB = cross_val_score(classifier_helpful_NB, X, Y, cv=kfold)\n",
    "print(results_NB.mean())"
   ]
  },
  {
   "cell_type": "markdown",
   "metadata": {},
   "source": [
    "## stochastic gradient descent classifier (logarithmic)"
   ]
  },
  {
   "cell_type": "code",
   "execution_count": 127,
   "metadata": {
    "collapsed": false
   },
   "outputs": [
    {
     "name": "stdout",
     "output_type": "stream",
     "text": [
      "accuracy, 0.9140\n",
      "score, 0.9140\n",
      "confusion matrix [[ 2865  1314]\n",
      " [ 5100 65332]]\n",
      "correctly classified helpful 2865\n",
      "(array([ 0.35969868,  0.98028389]), array([ 0.68557071,  0.92758973]), array([ 0.47183794,  0.95320912]), array([ 4179, 70432]))\n"
     ]
    },
    {
     "data": {
      "image/png": "[encoded data removed]",
      "text/plain": [
       "<matplotlib.figure.Figure at 0x137cc0a20>"
      ]
     },
     "metadata": {},
     "output_type": "display_data"
    }
   ],
   "source": [
    "classifier_helpful_SGD = Pipeline([('vectorizer', CountVectorizer(ngram_range=(1,10), stop_words=mystops, max_df=1000000, min_df=5)),\n",
    "                                   ('transformer', TfidfTransformer(norm='l2', smooth_idf=True, sublinear_tf=False, use_idf=True)),\n",
    "                                   ('classifier', SGDClassifier(alpha=0.0005, average=False, class_weight={'helpful':8.5, 'other':0.7}, epsilon=0.1,\n",
    "                                eta0=0, fit_intercept=True, l1_ratio=0, learning_rate='optimal', loss='log', n_iter=50, n_jobs=1,\n",
    "                                penalty='l1', power_t=0.5, random_state=42, shuffle=True))])\n",
    "\n",
    "classifier_helpful_SGD = classifier_helpful_SGD.fit(X_train, target_train)\n",
    "predicted_SGD = classifier_helpful_SGD.predict(X_test)\n",
    "confmatrix_SGD = confusion_matrix(target_test, predicted_SGD)\n",
    "probs_SGD = classifier_helpful_SGD.predict_proba(X_test)\n",
    "\n",
    "predicted_SGD_bin = LabelEncoder().fit_transform(predicted_SGD)\n",
    "falsepos_SGD, truepos_SGD, _ = sklearn.metrics.roc_curve(target_test_bin, probs_SGD[:,1]) # 2nd column is positive class\n",
    "\n",
    "\n",
    "print('accuracy, %0.4f' % np.mean(predicted_SGD == target_test))\n",
    "print('score, %0.4f' % classifier_helpful_SGD.score(X_test,target_test))\n",
    "print('confusion matrix', confmatrix_SGD)\n",
    "print('correctly classified helpful %i' % test_all[(test_all.category_simple == predicted_SGD) & (test_all.category_simple == 'helpful' )].shape[0])\n",
    "# print('prob/recall/F1', precision_recall_fscore_support(target_test_bin, predicted_SGD_bin))\n",
    "print(precision_recall_fscore_support(target_test_bin, predicted_SGD_bin))\n",
    "\n",
    "\n",
    "lw = 3\n",
    "fig, ax = plt.subplots(figsize=(6,5))\n",
    "ax.plot([0,1],[0,1],'k--')\n",
    "ax.plot(falsepos_NB, truepos_NB, 'b', label='Naïve Bayes', linewidth=lw)\n",
    "ax.plot(falsepos_SGD, truepos_SGD, 'r', label='logistic reg (SGD)', linewidth=lw)\n",
    "\n",
    "ax.set_xlabel('False positive rate')\n",
    "ax.set_ylabel('True positive rate')\n",
    "ax.set_title('ROC curve')\n",
    "ax.legend(loc='best')\n",
    "sns.despine()\n",
    "\n",
    "plt.savefig('ROC_curve.jpg')"
   ]
  },
  {
   "cell_type": "markdown",
   "metadata": {},
   "source": [
    "save classifier for web app "
   ]
  },
  {
   "cell_type": "code",
   "execution_count": 55,
   "metadata": {
    "collapsed": false
   },
   "outputs": [
    {
     "data": {
      "text/plain": [
       "['commentsclassifier.pkl',\n",
       " 'commentsclassifier.pkl_01.npy',\n",
       " 'commentsclassifier.pkl_02.npy',\n",
       " 'commentsclassifier.pkl_03.npy',\n",
       " 'commentsclassifier.pkl_04.npy',\n",
       " 'commentsclassifier.pkl_05.npy',\n",
       " 'commentsclassifier.pkl_06.npy']"
      ]
     },
     "execution_count": 55,
     "metadata": {},
     "output_type": "execute_result"
    }
   ],
   "source": [
    "from sklearn.externals import joblib\n",
    "joblib.dump(classifier_helpful_SGD, 'commentsclassifier.pkl') "
   ]
  },
  {
   "cell_type": "markdown",
   "metadata": {},
   "source": [
    "## check that things aren't just random"
   ]
  },
  {
   "cell_type": "code",
   "execution_count": 90,
   "metadata": {
    "collapsed": true
   },
   "outputs": [],
   "source": [
    "from random import shuffle"
   ]
  },
  {
   "cell_type": "code",
   "execution_count": 78,
   "metadata": {
    "collapsed": false
   },
   "outputs": [
    {
     "data": {
      "text/plain": [
       "74611"
      ]
     },
     "execution_count": 78,
     "metadata": {},
     "output_type": "execute_result"
    }
   ],
   "source": [
    "random = target_test.reset_index()['category_simple']\n",
    "random[random=='helpful'].count()\n",
    "len(random)"
   ]
  },
  {
   "cell_type": "code",
   "execution_count": 92,
   "metadata": {
    "collapsed": false
   },
   "outputs": [],
   "source": [
    "random = []\n",
    "random = ['other']*69157 + ['helpful']*5454\n",
    "shuffle(random)\n"
   ]
  },
  {
   "cell_type": "code",
   "execution_count": 97,
   "metadata": {
    "collapsed": false
   },
   "outputs": [
    {
     "name": "stdout",
     "output_type": "stream",
     "text": [
      "accuracy, 0.8245\n",
      "score, 0.8245\n",
      "confusion matrix [[  655  4799]\n",
      " [ 8293 60864]]\n",
      "(array([ 0.07320072,  0.9269147 ]), array([ 0.12009534,  0.88008445]), array([ 0.09095959,  0.90289275]), array([ 5454, 69157]))\n"
     ]
    },
    {
     "data": {
      "image/png": "[encoded data removed]",
      "text/plain": [
       "<matplotlib.figure.Figure at 0x13e369dd8>"
      ]
     },
     "metadata": {},
     "output_type": "display_data"
    }
   ],
   "source": [
    "falsepos_rand, truepos_rand, _ = sklearn.metrics.roc_curve(LabelEncoder().fit_transform(random), probs_SGD[:,1]) # 2nd column is positive class\n",
    "confmatrix_SGD = confusion_matrix(random, predicted_SGD)\n",
    "\n",
    "\n",
    "print('accuracy, %0.4f' % np.mean(predicted_SGD == random))\n",
    "print('score, %0.4f' % classifier_helpful_SGD.score(X_test,random))\n",
    "print('confusion matrix', confmatrix_SGD)\n",
    "# print('correctly classified helpful %i' % test_all[(test_all.category_simple == predicted_SGD) & (test_all.category_simple == 'helpful' )].shape[0])\n",
    "# print('prob/recall/F1', precision_recall_fscore_support(target_test_bin, predicted_SGD_bin))\n",
    "print(precision_recall_fscore_support(LabelEncoder().fit_transform(random), predicted_SGD_bin))\n",
    "\n",
    "\n",
    "\n",
    "lw = 3\n",
    "fig, ax = plt.subplots(figsize=(6,5))\n",
    "ax.plot([0,1],[0,1],'k--')\n",
    "ax.plot(falsepos_NB, truepos_NB, 'b', label='Naïve Bayes', linewidth=lw)\n",
    "ax.plot(falsepos_SGD, truepos_SGD, 'r', label='logistic reg (SGD)', linewidth=lw)\n",
    "ax.plot(falsepos_rand, truepos_rand, 'g', label='Random', linewidth=lw)\n",
    "\n",
    "\n",
    "ax.set_xlabel('False positive rate')\n",
    "ax.set_ylabel('True positive rate')\n",
    "ax.set_title('ROC curve')\n",
    "ax.legend(loc='best')\n",
    "sns.despine()\n",
    "\n"
   ]
  },
  {
   "cell_type": "markdown",
   "metadata": {},
   "source": [
    "### monkeying around with adding sentiment"
   ]
  },
  {
   "cell_type": "code",
   "execution_count": 41,
   "metadata": {
    "collapsed": true
   },
   "outputs": [],
   "source": [
    "import string\n",
    "\n",
    "from nltk.corpus import stopwords as sw\n",
    "from nltk.corpus import wordnet as wn\n",
    "from nltk import wordpunct_tokenize\n",
    "from nltk import WordNetLemmatizer\n",
    "from nltk import sent_tokenize\n",
    "from nltk import pos_tag\n",
    "\n",
    "from sklearn.base import BaseEstimator, TransformerMixin\n",
    "\n",
    "\n",
    "class NLTKPreprocessor(BaseEstimator, TransformerMixin):\n",
    "\n",
    "    def __init__(self, stopwords=None, punct=None,\n",
    "                 lower=True, strip=True):\n",
    "        self.lower      = lower\n",
    "        self.strip      = strip\n",
    "        self.stopwords  = stopwords or set(sw.words('english'))\n",
    "        self.punct      = punct or set(string.punctuation)\n",
    "        self.lemmatizer = WordNetLemmatizer()\n",
    "\n",
    "    def fit(self, X, y=None):\n",
    "        return self\n",
    "\n",
    "    def inverse_transform(self, X):\n",
    "        return [\" \".join(doc) for doc in X]\n",
    "\n",
    "    def transform(self, X):\n",
    "        return [\n",
    "            list(self.tokenize(doc)) for doc in X\n",
    "        ]\n",
    "\n",
    "    def tokenize(self, document):\n",
    "        # Break the document into sentences\n",
    "        for sent in sent_tokenize(document):\n",
    "            # Break the sentence into part of speech tagged tokens\n",
    "            for token, tag in pos_tag(wordpunct_tokenize(sent)):\n",
    "                # Apply preprocessing to the token\n",
    "                token = token.lower() if self.lower else token\n",
    "                token = token.strip() if self.strip else token\n",
    "                token = token.strip('_') if self.strip else token\n",
    "                token = token.strip('*') if self.strip else token\n",
    "\n",
    "                # If stopword, ignore token and continue\n",
    "                if token in self.stopwords:\n",
    "                    continue\n",
    "\n",
    "                # If punctuation, ignore token and continue\n",
    "                if all(char in self.punct for char in token):\n",
    "                    continue\n",
    "\n",
    "                # Lemmatize the token and yield\n",
    "                lemma = self.lemmatize(token, tag)\n",
    "                yield lemma\n",
    "\n",
    "    def lemmatize(self, token, tag):\n",
    "        tag = {\n",
    "            'N': wn.NOUN,\n",
    "            'V': wn.VERB,\n",
    "            'R': wn.ADV,\n",
    "            'J': wn.ADJ\n",
    "        }.get(tag[0], wn.NOUN)\n",
    "\n",
    "        return self.lemmatizer.lemmatize(token, tag)"
   ]
  },
  {
   "cell_type": "code",
   "execution_count": 42,
   "metadata": {
    "collapsed": false
   },
   "outputs": [
    {
     "data": {
      "text/plain": [
       "['t', 'r', 'a', 'm', 'p']"
      ]
     },
     "execution_count": 42,
     "metadata": {},
     "output_type": "execute_result"
    }
   ],
   "source": [
    "list(NLTKPreprocessor().lemmatize('tramp', 'N'))"
   ]
  },
  {
   "cell_type": "code",
   "execution_count": 43,
   "metadata": {
    "collapsed": false
   },
   "outputs": [],
   "source": [
    "from sklearn.base import BaseEstimator, TransformerMixin\n",
    "import string\n",
    "\n",
    "\n",
    "class AnalyzeSentiment(BaseEstimator, TransformerMixin):\n",
    "\n",
    "    def __init__(self, stopwords=None, punct=None,\n",
    "                 lower=True, strip=True):\n",
    "        self.lower      = lower\n",
    "        self.strip      = strip\n",
    "        self.stopwords  = mystops\n",
    "        self.punct      = punct or set(string.punctuation)\n",
    "\n",
    "    def fit(self, X, y=None):\n",
    "        return self\n",
    "\n",
    "    def inverse_transform(self, X):\n",
    "        return [\" \".join(doc) for doc in X]\n",
    "\n",
    "    def transform(self, X):\n",
    "        return self\n",
    "    \n",
    "#     def tokenize(self,doc):\n",
    "#         for sent in doc: \n",
    "#             yield self.sent_value(sent)\n",
    "\n",
    "    def sent_value(self, docs):    \n",
    "        features = np.recarray(shape=(len(docs),1),\n",
    "                               dtype=[('sentiment', object)])\n",
    "        \n",
    "        \n",
    "        for i, text in enumerate(docs):\n",
    "            sentiment = SentimentIntensityAnalyzer().polarity_scores(text)\n",
    "            features[i]['sentiment'] = sentiment\n",
    "            \n",
    "        return features\n",
    "\n",
    "#         return features\n",
    "# #         sentiment = SentimentIntensityAnalyzer().polarity_scores(sent).values()\n",
    "#         return [{'compound':SentimentIntensityAnalyzer().polarity_scores(sent)['compound'],\n",
    "#                 'negative':SentimentIntensityAnalyzer().polarity_scores(sent)['neg'], \n",
    "#                 'neutral':SentimentIntensityAnalyzer().polarity_scores(sent)['neu'], \n",
    "#                 'positive':SentimentIntensityAnalyzer().polarity_scores(sent)['pos']}\n",
    "#                for sent in doc]\n",
    "# #         SentimentIntensityAnalyzer().polarity_scores(mysentence).values()"
   ]
  },
  {
   "cell_type": "code",
   "execution_count": 44,
   "metadata": {
    "collapsed": false
   },
   "outputs": [
    {
     "ename": "NameError",
     "evalue": "name 'mysentence' is not defined",
     "output_type": "error",
     "traceback": [
      "\u001b[0;31m---------------------------------------------------------------------------\u001b[0m",
      "\u001b[0;31mNameError\u001b[0m                                 Traceback (most recent call last)",
      "\u001b[0;32m<ipython-input-44-0e0e6e84c14d>\u001b[0m in \u001b[0;36m<module>\u001b[0;34m()\u001b[0m\n\u001b[0;32m----> 1\u001b[0;31m \u001b[0mli\u001b[0m \u001b[0;34m=\u001b[0m \u001b[0mSentimentIntensityAnalyzer\u001b[0m\u001b[0;34m(\u001b[0m\u001b[0;34m)\u001b[0m\u001b[0;34m.\u001b[0m\u001b[0mpolarity_scores\u001b[0m\u001b[0;34m(\u001b[0m\u001b[0mmysentence\u001b[0m\u001b[0;34m)\u001b[0m\u001b[0;34m\u001b[0m\u001b[0m\n\u001b[0m\u001b[1;32m      2\u001b[0m \u001b[0mli\u001b[0m\u001b[0;34m[\u001b[0m\u001b[0;34m'compound'\u001b[0m\u001b[0;34m]\u001b[0m\u001b[0;34m\u001b[0m\u001b[0m\n\u001b[1;32m      3\u001b[0m \u001b[0;34m\u001b[0m\u001b[0m\n\u001b[1;32m      4\u001b[0m \u001b[0;31m# li = np.array(list(li))[-1]\u001b[0m\u001b[0;34m\u001b[0m\u001b[0;34m\u001b[0m\u001b[0m\n\u001b[1;32m      5\u001b[0m \u001b[0;31m# li\u001b[0m\u001b[0;34m\u001b[0m\u001b[0;34m\u001b[0m\u001b[0m\n",
      "\u001b[0;31mNameError\u001b[0m: name 'mysentence' is not defined"
     ]
    }
   ],
   "source": [
    "li = SentimentIntensityAnalyzer().polarity_scores(mysentence)\n",
    "li['compound']\n",
    "\n",
    "# li = np.array(list(li))[-1]\n",
    "# li"
   ]
  },
  {
   "cell_type": "code",
   "execution_count": 45,
   "metadata": {
    "collapsed": false
   },
   "outputs": [
    {
     "data": {
      "text/plain": [
       "[rec.array([({'compound': 0.7121, 'pos': 0.313, 'neu': 0.687, 'neg': 0.0},)], \n",
       "           dtype=[('sentiment', 'O')]),\n",
       " rec.array([({'compound': 0.6476, 'pos': 1.0, 'neu': 0.0, 'neg': 0.0},)], \n",
       "           dtype=[('sentiment', 'O')]),\n",
       " rec.array([({'compound': -0.416, 'pos': 0.0, 'neu': 0.643, 'neg': 0.357},)], \n",
       "           dtype=[('sentiment', 'O')]),\n",
       " rec.array([({'compound': 0.7959, 'pos': 0.587, 'neu': 0.413, 'neg': 0.0},)], \n",
       "           dtype=[('sentiment', 'O')]),\n",
       " rec.array([({'compound': 0.4019, 'pos': 0.252, 'neu': 0.748, 'neg': 0.0},)], \n",
       "           dtype=[('sentiment', 'O')]),\n",
       " rec.array([({'compound': 0.5093, 'pos': 0.148, 'neu': 0.852, 'neg': 0.0},)], \n",
       "           dtype=[('sentiment', 'O')]),\n",
       " rec.array([({'compound': 0.6996, 'pos': 0.234, 'neu': 0.766, 'neg': 0.0},)], \n",
       "           dtype=[('sentiment', 'O')]),\n",
       " rec.array([({'compound': 0.0, 'pos': 0.0, 'neu': 1.0, 'neg': 0.0},)], \n",
       "           dtype=[('sentiment', 'O')]),\n",
       " rec.array([({'compound': 0.6705, 'pos': 0.44, 'neu': 0.56, 'neg': 0.0},)], \n",
       "           dtype=[('sentiment', 'O')]),\n",
       " rec.array([({'compound': 0.5106, 'pos': 0.398, 'neu': 0.602, 'neg': 0.0},)], \n",
       "           dtype=[('sentiment', 'O')])]"
      ]
     },
     "execution_count": 45,
     "metadata": {},
     "output_type": "execute_result"
    }
   ],
   "source": [
    "list(AnalyzeSentiment().sent_value(X_train[:10]))"
   ]
  },
  {
   "cell_type": "code",
   "execution_count": 46,
   "metadata": {
    "collapsed": true
   },
   "outputs": [],
   "source": [
    "mysentence = 'this is a test of greatest proportions'"
   ]
  },
  {
   "cell_type": "code",
   "execution_count": 47,
   "metadata": {
    "collapsed": true
   },
   "outputs": [],
   "source": [
    "wordpipe = Pipeline([('vectorizer', CountVectorizer(ngram_range=(2,6), max_df=1000000, min_df=3)),\n",
    "                                  ('transformer', TfidfTransformer(norm='l2', smooth_idf=True, sublinear_tf=False, use_idf=True))])\n",
    "\n",
    "sentpipe = AnalyzeSentiment()"
   ]
  },
  {
   "cell_type": "code",
   "execution_count": 48,
   "metadata": {
    "collapsed": true
   },
   "outputs": [],
   "source": [
    "features = FeatureUnion([('words', wordpipe), ('sentiment', sentpipe)])"
   ]
  },
  {
   "cell_type": "code",
   "execution_count": 49,
   "metadata": {
    "collapsed": true
   },
   "outputs": [],
   "source": [
    "testpipe = Pipeline([('features', features), ('classifier',MultinomialNB(alpha=1.0, class_prior=[0.1,0.9], fit_prior=True))])"
   ]
  },
  {
   "cell_type": "code",
   "execution_count": 50,
   "metadata": {
    "collapsed": false
   },
   "outputs": [
    {
     "data": {
      "text/plain": [
       "FeatureUnion(n_jobs=1,\n",
       "       transformer_list=[('words', Pipeline(steps=[('vectorizer', CountVectorizer(analyzer='word', binary=False, decode_error='strict',\n",
       "        dtype=<class 'numpy.int64'>, encoding='utf-8', input='content',\n",
       "        lowercase=True, max_df=1000000, max_features=None, min_df=3,\n",
       "        ngram_range=(2, 6), pr... '\"', \"'\", '(', ')', '—', 'ive', 've', \"i've\", \"i'v\", 'i’ll', 'i’ve', 'i’v'],\n",
       "         strip=True))],\n",
       "       transformer_weights=None)"
      ]
     },
     "execution_count": 50,
     "metadata": {},
     "output_type": "execute_result"
    }
   ],
   "source": [
    "features.fit(X_test[:100], target_test[:100])"
   ]
  },
  {
   "cell_type": "code",
   "execution_count": 51,
   "metadata": {
    "collapsed": false
   },
   "outputs": [],
   "source": [
    "testpipe = Pipeline([('features', FeatureUnion([('words', wordpipe), ('sentiment', sentpipe)])), \n",
    "                     ('classifier',MultinomialNB(alpha=1.0, class_prior=[0.1,0.9], fit_prior=True))])"
   ]
  },
  {
   "cell_type": "raw",
   "metadata": {},
   "source": [
    "testpipe.fit(X_train, target_train)\n",
    "pred = testpipe.predict(X_test)"
   ]
  },
  {
   "cell_type": "code",
   "execution_count": null,
   "metadata": {
    "collapsed": false
   },
   "outputs": [],
   "source": [
    "CountVectorizer(ngram_range=(2,6), max_df=1000000, min_df=3).fit(X_train)"
   ]
  },
  {
   "cell_type": "code",
   "execution_count": null,
   "metadata": {
    "collapsed": true
   },
   "outputs": [],
   "source": []
  },
  {
   "cell_type": "markdown",
   "metadata": {},
   "source": [
    "# pipeline - identify 'substitute' vs 'add/omit' versus comments "
   ]
  },
  {
   "cell_type": "code",
   "execution_count": null,
   "metadata": {
    "collapsed": true
   },
   "outputs": [],
   "source": [
    "classifier_helpful_SGD = Pipeline([('vectorizer', CountVectorizer(ngram_range=(1,6), stop_words=mystops, max_df=1000000, min_df=5)),\n",
    "                                   ('transformer', TfidfTransformer(norm='l2', smooth_idf=True, sublinear_tf=False, use_idf=True)),\n",
    "                                   ('classifier', SGDClassifier(alpha=0.0005, average=False, class_weight={'helpful':8.5, 'other':0.7}, epsilon=0.1,\n",
    "                                eta0=0, fit_intercept=True, l1_ratio=0, learning_rate='optimal', loss='log', n_iter=100, n_jobs=1,\n",
    "                                penalty='l2', power_t=0.5, random_state=42, shuffle=True))])\n",
    "\n"
   ]
  },
  {
   "cell_type": "code",
   "execution_count": 99,
   "metadata": {
    "collapsed": false
   },
   "outputs": [
    {
     "name": "stdout",
     "output_type": "stream",
     "text": [
      "(20000, 4873)\n",
      "(20000, 4873)\n",
      "(74611, 15819)\n",
      "(74611, 15819)\n"
     ]
    }
   ],
   "source": [
    "vectorizer = CountVectorizer(ngram_range=(1,6), stop_words=mystops, max_df=1000000, min_df=5)\n",
    "transformer = TfidfTransformer(norm='l2', smooth_idf=True, sublinear_tf=False, use_idf=True)\n",
    "classifier = SGDClassifier(alpha=0.0005, average=False, class_weight={'helpful':8.5, 'other':0.7}, epsilon=0.1,\n",
    "                                eta0=0, fit_intercept=True, l1_ratio=0, learning_rate='optimal', loss='log', n_iter=100, n_jobs=1,\n",
    "                                penalty='l2', power_t=0.5, random_state=42, shuffle=True)\n",
    "\n",
    "\n",
    "X_train_counts = vectorizer.fit_transform(X_train)\n",
    "print(X_train_counts.shape)\n",
    "\n",
    "# transformer = TfidfTransformer(use_idf=False).fit(X_train_counts)\n",
    "\n",
    "X_train_tf = transformer.fit_transform(X_train_counts)\n",
    "print(X_train_tf.shape)\n",
    "\n",
    "\n",
    "\n",
    "\n",
    "X_test_counts = vectorizer.fit_transform(X_test)\n",
    "print(X_test_counts.shape)\n",
    "\n",
    "# transformer = TfidfTransformer(use_idf=False).fit(X_test_counts)\n",
    "\n",
    "X_test_tf = transformer.fit_transform(X_test_counts)\n",
    "print(X_test_tf.shape)\n"
   ]
  },
  {
   "cell_type": "code",
   "execution_count": 100,
   "metadata": {
    "collapsed": false
   },
   "outputs": [
    {
     "data": {
      "text/plain": [
       "scipy.sparse.csr.csr_matrix"
      ]
     },
     "execution_count": 100,
     "metadata": {},
     "output_type": "execute_result"
    }
   ],
   "source": [
    "type(X_test_tf)"
   ]
  },
  {
   "cell_type": "code",
   "execution_count": 101,
   "metadata": {
    "collapsed": true
   },
   "outputs": [],
   "source": [
    "from scipy.sparse import hstack"
   ]
  },
  {
   "cell_type": "code",
   "execution_count": 102,
   "metadata": {
    "collapsed": false
   },
   "outputs": [],
   "source": [
    "all_train = hstack((X_train_tf, X_sent[:split]))\n",
    "all_test = hstack((X_test_tf, X_sent[split:]))"
   ]
  },
  {
   "cell_type": "code",
   "execution_count": 103,
   "metadata": {
    "collapsed": false
   },
   "outputs": [],
   "source": [
    "fit = classifier.fit(all_train, target_train)"
   ]
  },
  {
   "cell_type": "code",
   "execution_count": 104,
   "metadata": {
    "collapsed": false
   },
   "outputs": [
    {
     "ename": "ValueError",
     "evalue": "X has 15823 features per sample; expecting 4877",
     "output_type": "error",
     "traceback": [
      "\u001b[0;31m---------------------------------------------------------------------------\u001b[0m",
      "\u001b[0;31mValueError\u001b[0m                                Traceback (most recent call last)",
      "\u001b[0;32m<ipython-input-104-a27edc801ee7>\u001b[0m in \u001b[0;36m<module>\u001b[0;34m()\u001b[0m\n\u001b[0;32m----> 1\u001b[0;31m \u001b[0mpredict\u001b[0m \u001b[0;34m=\u001b[0m \u001b[0mclassifier\u001b[0m\u001b[0;34m.\u001b[0m\u001b[0mpredict\u001b[0m\u001b[0;34m(\u001b[0m\u001b[0mall_test\u001b[0m\u001b[0;34m)\u001b[0m\u001b[0;34m\u001b[0m\u001b[0m\n\u001b[0m",
      "\u001b[0;32m/Users/kateliea/anaconda/envs/py3/lib/python3.5/site-packages/sklearn/linear_model/base.py\u001b[0m in \u001b[0;36mpredict\u001b[0;34m(self, X)\u001b[0m\n\u001b[1;32m    266\u001b[0m             \u001b[0mPredicted\u001b[0m \u001b[0;32mclass\u001b[0m \u001b[0mlabel\u001b[0m \u001b[0mper\u001b[0m \u001b[0msample\u001b[0m\u001b[0;34m.\u001b[0m\u001b[0;34m\u001b[0m\u001b[0m\n\u001b[1;32m    267\u001b[0m         \"\"\"\n\u001b[0;32m--> 268\u001b[0;31m         \u001b[0mscores\u001b[0m \u001b[0;34m=\u001b[0m \u001b[0mself\u001b[0m\u001b[0;34m.\u001b[0m\u001b[0mdecision_function\u001b[0m\u001b[0;34m(\u001b[0m\u001b[0mX\u001b[0m\u001b[0;34m)\u001b[0m\u001b[0;34m\u001b[0m\u001b[0m\n\u001b[0m\u001b[1;32m    269\u001b[0m         \u001b[0;32mif\u001b[0m \u001b[0mlen\u001b[0m\u001b[0;34m(\u001b[0m\u001b[0mscores\u001b[0m\u001b[0;34m.\u001b[0m\u001b[0mshape\u001b[0m\u001b[0;34m)\u001b[0m \u001b[0;34m==\u001b[0m \u001b[0;36m1\u001b[0m\u001b[0;34m:\u001b[0m\u001b[0;34m\u001b[0m\u001b[0m\n\u001b[1;32m    270\u001b[0m             \u001b[0mindices\u001b[0m \u001b[0;34m=\u001b[0m \u001b[0;34m(\u001b[0m\u001b[0mscores\u001b[0m \u001b[0;34m>\u001b[0m \u001b[0;36m0\u001b[0m\u001b[0;34m)\u001b[0m\u001b[0;34m.\u001b[0m\u001b[0mastype\u001b[0m\u001b[0;34m(\u001b[0m\u001b[0mnp\u001b[0m\u001b[0;34m.\u001b[0m\u001b[0mint\u001b[0m\u001b[0;34m)\u001b[0m\u001b[0;34m\u001b[0m\u001b[0m\n",
      "\u001b[0;32m/Users/kateliea/anaconda/envs/py3/lib/python3.5/site-packages/sklearn/linear_model/base.py\u001b[0m in \u001b[0;36mdecision_function\u001b[0;34m(self, X)\u001b[0m\n\u001b[1;32m    247\u001b[0m         \u001b[0;32mif\u001b[0m \u001b[0mX\u001b[0m\u001b[0;34m.\u001b[0m\u001b[0mshape\u001b[0m\u001b[0;34m[\u001b[0m\u001b[0;36m1\u001b[0m\u001b[0;34m]\u001b[0m \u001b[0;34m!=\u001b[0m \u001b[0mn_features\u001b[0m\u001b[0;34m:\u001b[0m\u001b[0;34m\u001b[0m\u001b[0m\n\u001b[1;32m    248\u001b[0m             raise ValueError(\"X has %d features per sample; expecting %d\"\n\u001b[0;32m--> 249\u001b[0;31m                              % (X.shape[1], n_features))\n\u001b[0m\u001b[1;32m    250\u001b[0m \u001b[0;34m\u001b[0m\u001b[0m\n\u001b[1;32m    251\u001b[0m         scores = safe_sparse_dot(X, self.coef_.T,\n",
      "\u001b[0;31mValueError\u001b[0m: X has 15823 features per sample; expecting 4877"
     ]
    }
   ],
   "source": [
    "predict = classifier.predict(all_test)"
   ]
  },
  {
   "cell_type": "code",
   "execution_count": 38,
   "metadata": {
    "collapsed": false
   },
   "outputs": [
    {
     "data": {
      "text/plain": [
       "(74611, 15818)"
      ]
     },
     "execution_count": 38,
     "metadata": {},
     "output_type": "execute_result"
    }
   ],
   "source": [
    "all_test.shape"
   ]
  },
  {
   "cell_type": "code",
   "execution_count": null,
   "metadata": {
    "collapsed": true
   },
   "outputs": [],
   "source": []
  }
 ],
 "metadata": {
  "anaconda-cloud": {},
  "kernelspec": {
   "display_name": "Python [conda env:py3]",
   "language": "python",
   "name": "conda-env-py3-py"
  },
  "language_info": {
   "codemirror_mode": {
    "name": "ipython",
    "version": 3
   },
   "file_extension": ".py",
   "mimetype": "text/x-python",
   "name": "python",
   "nbconvert_exporter": "python",
   "pygments_lexer": "ipython3",
   "version": "3.5.2"
  }
 },
 "nbformat": 4,
 "nbformat_minor": 0
}
