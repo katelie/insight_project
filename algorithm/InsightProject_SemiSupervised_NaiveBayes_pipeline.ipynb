{
 "cells": [
  {
   "cell_type": "code",
   "execution_count": 24,
   "metadata": {
    "collapsed": false
   },
   "outputs": [
    {
     "data": {
      "text/html": [
       "<style>.container { width:100% !important; float:center}</style>"
      ],
      "text/plain": [
       "<IPython.core.display.HTML object>"
      ]
     },
     "execution_count": 24,
     "metadata": {},
     "output_type": "execute_result"
    }
   ],
   "source": [
    "from IPython.core.display import HTML\n",
    "HTML(\"<style>.container { width:100% !important; float:center}</style>\")"
   ]
  },
  {
   "cell_type": "code",
   "execution_count": 25,
   "metadata": {
    "collapsed": false
   },
   "outputs": [],
   "source": [
    "from __future__ import division, print_function\n",
    "\n",
    "import os\n",
    "\n",
    "import pandas as pd\n",
    "import numpy as np\n",
    "import matplotlib.pyplot as plt\n",
    "import seaborn as sns\n",
    "import nltk\n",
    "from nltk.corpus import stopwords\n",
    "from nltk.sentiment.vader import SentimentIntensityAnalyzer\n",
    "\n",
    "import sklearn\n",
    "from sklearn.preprocessing import LabelEncoder\n",
    "from sklearn.naive_bayes import MultinomialNB, BernoulliNB\n",
    "from sklearn.feature_extraction.text import CountVectorizer, TfidfTransformer\n",
    "from sklearn.decomposition import PCA\n",
    "from sklearn.pipeline import Pipeline, FeatureUnion\n",
    "from sklearn.linear_model import SGDClassifier\n",
    "from sklearn.metrics import confusion_matrix, precision_recall_fscore_support\n",
    "from sklearn.cross_validation import KFold, StratifiedKFold, cross_val_score\n",
    "\n",
    "\n",
    "\n",
    "\n",
    "%matplotlib inline\n",
    "\n",
    "\n",
    "\n",
    "sns.set_context('talk', font_scale=1.5)\n",
    "sns.set_style('ticks', {'font.family': [u'sans-serif']})\n",
    "\n",
    "punctuation = ['.',',',':','!',';','-','?','\"',\"'\",'(',')','—']   \n",
    "other = ['ive','ve', \"i've\", \"i'v\", 'i’ll', 'i’ve', 'i’v']  # 'deb','hideb','don','didn','twaittry','doesn','thank','heydeb',\n",
    "mystops = stopwords.words('english') + punctuation + other\n"
   ]
  },
  {
   "cell_type": "markdown",
   "metadata": {},
   "source": [
    "import & sanity check"
   ]
  },
  {
   "cell_type": "code",
   "execution_count": 31,
   "metadata": {
    "collapsed": false
   },
   "outputs": [],
   "source": [
    "comments_with_sentences_100_classified = pd.read_csv('/Users/kateliea/Documents/Insight/project/algorithm/training_data.csv',index_col=0)\n",
    "# comments_with_sentences_100_classified = comments_with_sentences_100_classified.dropna(how='any')\n",
    "\n",
    "# comments_with_sentences_100_classified = comments_with_sentences_100_classified.dropna()\n",
    "\n",
    "# comments_with_sentences_100_classified['category_simple'] = comments_with_sentences_100_classified.category\n",
    "# comments_with_sentences_100_classified['category_simple'] = comments_with_sentences_100_classified.category_simple.replace(['addition','substitution','omission'],'helpful')\n",
    "\n",
    "# comments_with_sentences_100_classified.category_simple.unique()"
   ]
  },
  {
   "cell_type": "code",
   "execution_count": 32,
   "metadata": {
    "collapsed": false
   },
   "outputs": [
    {
     "data": {
      "text/plain": [
       "Index(['sentence', 'commentID', 'child_id', 'children', 'comment_time',\n",
       "       'recipenumber', 'title', 'url', 'usercomment', 'username', 'usersite',\n",
       "       'usercomment_lower', 'tokens', 'tokens_stemmed', 'sentence_tokens',\n",
       "       'sentence_tokens_stemmed_stops', 'sentence_tokens_stemmed', 'category',\n",
       "       'category_simple'],\n",
       "      dtype='object')"
      ]
     },
     "execution_count": 32,
     "metadata": {},
     "output_type": "execute_result"
    }
   ],
   "source": [
    "comments_with_sentences_100_classified.columns"
   ]
  },
  {
   "cell_type": "markdown",
   "metadata": {},
   "source": [
    "# pipeline - identify 'helpful' vs 'other' comments"
   ]
  },
  {
   "cell_type": "markdown",
   "metadata": {},
   "source": [
    "### define data sets"
   ]
  },
  {
   "cell_type": "code",
   "execution_count": 18,
   "metadata": {
    "collapsed": false
   },
   "outputs": [
    {
     "name": "stdout",
     "output_type": "stream",
     "text": [
      "total comments that should be helpful, 5192\n",
      "total comments that should be other, 69419\n"
     ]
    }
   ],
   "source": [
    "X = comments_with_sentences_100_classified.sentence_tokens_stemmed\n",
    "Y = comments_with_sentences_100_classified.category_simple\n",
    "\n",
    "\n",
    "num_folds = 10\n",
    "num_instances = len(X)\n",
    "seed = 42\n",
    "\n",
    "kfold = KFold(n=num_instances, n_folds=num_folds, random_state=seed)\n",
    "\n",
    "\n",
    "\n",
    "# split = 20000\n",
    "# X_train = comments_with_sentences_100_classified.sentence_tokens_stemmed[:split] #\\.as_matrix()\n",
    "# target_train = comments_with_sentences_100_classified.category_simple[:split] #.as_matrix()\n",
    "# target_train.replace(['addition','substitution','omission'],'helpful',inplace=True)\n",
    "\n",
    "\n",
    "# X_test = comments_with_sentences_100_classified.sentence_tokens_stemmed[split:]\n",
    "# target_test = comments_with_sentences_100_classified.category_simple[split:]\n",
    "# target_test.replace(['addition','substitution','omission'],'helpful',inplace=True)\n",
    "\n",
    "split = 20000\n",
    "X_train = comments_with_sentences_100_classified.sentence_tokens[:split] #\\.as_matrix()\n",
    "target_train = comments_with_sentences_100_classified.category_simple[:split] #.as_matrix()\n",
    "target_train.replace(['addition','substitution','omission'],'helpful',inplace=True)\n",
    "\n",
    "\n",
    "X_test = comments_with_sentences_100_classified.sentence_tokens[split:]\n",
    "target_test = comments_with_sentences_100_classified.category_simple[split:]\n",
    "target_test.replace(['addition','substitution','omission'],'helpful',inplace=True)\n",
    "\n",
    "test_all = comments_with_sentences_100_classified[split:]\n",
    "\n",
    "# encode classes labels as ints\n",
    "target_test_bin = LabelEncoder().fit_transform(target_test)\n",
    "# list(labelencoder.classes_)\n",
    "\n",
    "len(X_test), len(target_test)\n",
    "\n",
    "print('total comments that should be helpful, %i' % test_all[test_all.category_simple == 'helpful'].category.count())\n",
    "print('total comments that should be other, %i' % test_all[test_all.category_simple == 'other'].category.count())"
   ]
  },
  {
   "cell_type": "code",
   "execution_count": null,
   "metadata": {
    "collapsed": true
   },
   "outputs": [],
   "source": []
  },
  {
   "cell_type": "markdown",
   "metadata": {},
   "source": [
    "## Naive Bayes classifier"
   ]
  },
  {
   "cell_type": "code",
   "execution_count": 10,
   "metadata": {
    "collapsed": false
   },
   "outputs": [
    {
     "name": "stdout",
     "output_type": "stream",
     "text": [
      "accuracy, 0.9387\n",
      "score, 0.9387\n",
      "confusion matrix [[  633  4559]\n",
      " [   16 69403]]\n",
      "correctly classified helpful 633\n",
      "prob/recall/F1 (array([ 0.97534669,  0.93836024]), array([ 0.12191834,  0.99976952]), array([ 0.21674371,  0.96809201]), array([ 5192, 69419]))\n"
     ]
    }
   ],
   "source": [
    "classifier_helpful_NB = Pipeline([('vectorizer', CountVectorizer(ngram_range=(2,6), max_df=1000000, min_df=3)),\n",
    "                                  ('transformer', TfidfTransformer(norm='l2', smooth_idf=True, sublinear_tf=False, use_idf=True)),\n",
    "                                  \n",
    "                                  ('classifier', MultinomialNB(alpha=1.0, class_prior=[0.1,0.9], fit_prior=True))])\n",
    "\n",
    "\n",
    "# classifier_helpful_NB = Pipeline([('vectorizer', CountVectorizer(ngram_range=(2,6), stop_words=mystops, max_df=1000000, min_df=3)),\n",
    "#                                   ('transformer', TfidfTransformer(norm='l2', smooth_idf=True, sublinear_tf=False, use_idf=True)),\n",
    "#                                   ('classifier', MultinomialNB(alpha=1.0, class_prior=None, fit_prior=True))])\n",
    "\n",
    "classifier_helpful_NB.fit(X_train, target_train) \n",
    "predicted_NB = classifier_helpful_NB.predict(X_test) \n",
    "confmatrix_NB = confusion_matrix(target_test, predicted_NB)\n",
    "probs_NB = classifier_helpful_NB.predict_proba(X_test)\n",
    "\n",
    "predicted_NB_bin = LabelEncoder().fit_transform(predicted_NB)\n",
    "falsepos_NB, truepos_NB, _ = sklearn.metrics.roc_curve(target_test_bin, probs_NB[:,1]) # 2nd column is positive class\n",
    "\n",
    "\n",
    "print('accuracy, %0.4f' % np.mean(predicted_NB == target_test))\n",
    "print('score, %0.4f' % classifier_helpful_NB.score(X_test,target_test))\n",
    "print('confusion matrix', confmatrix_NB)\n",
    "print('correctly classified helpful %i' % test_all[(test_all.category_simple == predicted_NB) & (test_all.category_simple == 'helpful' )].shape[0])\n",
    "print('prob/recall/F1', precision_recall_fscore_support(target_test_bin, predicted_NB_bin))"
   ]
  },
  {
   "cell_type": "code",
   "execution_count": 395,
   "metadata": {
    "collapsed": false
   },
   "outputs": [
    {
     "name": "stdout",
     "output_type": "stream",
     "text": [
      "0.947321155628\n"
     ]
    }
   ],
   "source": [
    "results_NB = cross_val_score(classifier_helpful_NB, X, Y, cv=kfold)\n",
    "print(results_NB.mean())"
   ]
  },
  {
   "cell_type": "markdown",
   "metadata": {},
   "source": [
    "## stochastic gradient descent classifier (logarithmic)"
   ]
  },
  {
   "cell_type": "code",
   "execution_count": 17,
   "metadata": {
    "collapsed": false
   },
   "outputs": [
    {
     "name": "stdout",
     "output_type": "stream",
     "text": [
      "accuracy, 0.9329\n",
      "score, 0.9329\n",
      "confusion matrix [[ 2762  2430]\n",
      " [ 2578 66841]]\n",
      "correctly classified helpful 2762\n",
      "(array([ 0.51722846,  0.96492039]), array([ 0.53197227,  0.96286319]), array([ 0.52449677,  0.96389069]), array([ 5192, 69419]))\n"
     ]
    },
    {
     "data": {
      "image/png": "[encoded data removed]",
      "text/plain": [
       "<matplotlib.figure.Figure at 0x12f19e978>"
      ]
     },
     "metadata": {},
     "output_type": "display_data"
    }
   ],
   "source": [
    "classifier_helpful_SGD = Pipeline([('vectorizer', CountVectorizer(ngram_range=(2,6), max_df=1000000, min_df=2)),\n",
    "                                   ('transformer', TfidfTransformer(norm='l2', smooth_idf=True, sublinear_tf=False, use_idf=True)),\n",
    "                                   ('classifier', SGDClassifier(alpha=0.0005, average=False, class_weight={'helpful':8.5, 'other':0.7}, epsilon=0.1,\n",
    "                                eta0=0, fit_intercept=True, l1_ratio=0, learning_rate='optimal', loss='log', n_iter=50, n_jobs=1,\n",
    "                                penalty='l2', power_t=0.5, random_state=42, shuffle=True))])\n",
    "\n",
    "\n",
    "# classifier_helpful_SGD = Pipeline([('vectorizer', CountVectorizer(ngram_range=(1,6), stop_words=mystops, max_df=100000, min_df=2)),\n",
    "#                                    ('transformer', TfidfTransformer(norm='l2', smooth_idf=True, sublinear_tf=False, use_idf=True)),\n",
    "#                                    ('classifier', SGDClassifier(alpha=0.0005, average=False, class_weight={'helpful':8.5, 'other':0.7}, epsilon=0.1,\n",
    "#                                 eta0=0, fit_intercept=True, l1_ratio=0, learning_rate='optimal', loss='log', n_iter=50, n_jobs=1,\n",
    "#                                 penalty='l2', power_t=0.5, random_state=42, shuffle=True))])\n",
    "\n",
    "classifier_helpful_SGD = classifier_helpful_SGD.fit(X_train, target_train)\n",
    "predicted_SGD = classifier_helpful_SGD.predict(X_test)\n",
    "confmatrix_SGD = confusion_matrix(target_test, predicted_SGD)\n",
    "probs_SGD = classifier_helpful_SGD.predict_proba(X_test)\n",
    "\n",
    "predicted_SGD_bin = LabelEncoder().fit_transform(predicted_SGD)\n",
    "falsepos_SGD, truepos_SGD, _ = sklearn.metrics.roc_curve(target_test_bin, probs_SGD[:,1]) # 2nd column is positive class\n",
    "\n",
    "\n",
    "print('accuracy, %0.4f' % np.mean(predicted_SGD == target_test))\n",
    "print('score, %0.4f' % classifier_helpful_SGD.score(X_test,target_test))\n",
    "print('confusion matrix', confmatrix_SGD)\n",
    "print('correctly classified helpful %i' % test_all[(test_all.category_simple == predicted_SGD) & (test_all.category_simple == 'helpful' )].shape[0])\n",
    "# print('prob/recall/F1', precision_recall_fscore_support(target_test_bin, predicted_SGD_bin))\n",
    "print(precision_recall_fscore_support(target_test_bin, predicted_SGD_bin))\n",
    "\n",
    "lw = 3\n",
    "fig, ax = plt.subplots(figsize=(6,5))\n",
    "ax.plot([0,1],[0,1],'k--')\n",
    "ax.plot(falsepos_NB, truepos_NB, 'b', label='Naïve Bayes', linewidth=lw)\n",
    "ax.plot(falsepos_SGD, truepos_SGD, 'r', label='logistic reg (SGD)', linewidth=lw)\n",
    "\n",
    "ax.set_xlabel('False positive rate')\n",
    "ax.set_ylabel('True positive rate')\n",
    "ax.set_title('ROC curve')\n",
    "ax.legend(loc='best')\n",
    "sns.despine()\n",
    "\n",
    "# plt.savefig('ROC_curve.jpg')"
   ]
  },
  {
   "cell_type": "markdown",
   "metadata": {},
   "source": [
    "# pipeline - identify 'substitute' vs 'add/omit' versus comments "
   ]
  },
  {
   "cell_type": "code",
   "execution_count": 14,
   "metadata": {
    "collapsed": false
   },
   "outputs": [
    {
     "data": {
      "text/plain": [
       "(3439, 20)"
      ]
     },
     "execution_count": 14,
     "metadata": {},
     "output_type": "execute_result"
    }
   ],
   "source": [
    "a = comments_with_sentences_100_classified[comments_with_sentences_100_classified.title == 'best cocoa brownies']\n",
    "a.shape"
   ]
  },
  {
   "cell_type": "code",
   "execution_count": null,
   "metadata": {
    "collapsed": true
   },
   "outputs": [],
   "source": []
  },
  {
   "cell_type": "code",
   "execution_count": null,
   "metadata": {
    "collapsed": true
   },
   "outputs": [],
   "source": []
  },
  {
   "cell_type": "code",
   "execution_count": 15,
   "metadata": {
    "collapsed": false
   },
   "outputs": [],
   "source": [
    "predicted_SGD = classifier_helpful_SGD.predict(a.sentence_tokens_stemmed)\n"
   ]
  },
  {
   "cell_type": "code",
   "execution_count": 17,
   "metadata": {
    "collapsed": false
   },
   "outputs": [],
   "source": [
    "a.iloc[predicted_SGD == 'helpful'].sentence.to_csv('predicted_helpful_brownies')"
   ]
  },
  {
   "cell_type": "code",
   "execution_count": 18,
   "metadata": {
    "collapsed": true
   },
   "outputs": [],
   "source": [
    "b = pd.read_csv('predicted_helpful_brownies')"
   ]
  },
  {
   "cell_type": "code",
   "execution_count": 19,
   "metadata": {
    "collapsed": false
   },
   "outputs": [
    {
     "data": {
      "text/html": [
       "<div>\n",
       "<table border=\"1\" class=\"dataframe\">\n",
       "  <thead>\n",
       "    <tr style=\"text-align: right;\">\n",
       "      <th></th>\n",
       "      <th>882</th>\n",
       "      <th>i need to make these immediately!</th>\n",
       "    </tr>\n",
       "  </thead>\n",
       "  <tbody>\n",
       "    <tr>\n",
       "      <th>0</th>\n",
       "      <td>886</td>\n",
       "      <td>cocoa is just easier.</td>\n",
       "    </tr>\n",
       "    <tr>\n",
       "      <th>1</th>\n",
       "      <td>894</td>\n",
       "      <td>is this a particular reason to use wood and no...</td>\n",
       "    </tr>\n",
       "    <tr>\n",
       "      <th>2</th>\n",
       "      <td>898</td>\n",
       "      <td>jacob picture — i forgot!</td>\n",
       "    </tr>\n",
       "    <tr>\n",
       "      <th>3</th>\n",
       "      <td>899</td>\n",
       "      <td>i added something that will more than make up ...</td>\n",
       "    </tr>\n",
       "    <tr>\n",
       "      <th>4</th>\n",
       "      <td>903</td>\n",
       "      <td>i did use an 8″ square.</td>\n",
       "    </tr>\n",
       "    <tr>\n",
       "      <th>5</th>\n",
       "      <td>923</td>\n",
       "      <td>i like boxed brownies, too, except for the one...</td>\n",
       "    </tr>\n",
       "    <tr>\n",
       "      <th>6</th>\n",
       "      <td>926</td>\n",
       "      <td>i never use one.</td>\n",
       "    </tr>\n",
       "    <tr>\n",
       "      <th>7</th>\n",
       "      <td>942</td>\n",
       "      <td>i have everything at home, so i think i’ll mak...</td>\n",
       "    </tr>\n",
       "    <tr>\n",
       "      <th>8</th>\n",
       "      <td>944</td>\n",
       "      <td>these are similar to the king arthur flour fud...</td>\n",
       "    </tr>\n",
       "    <tr>\n",
       "      <th>9</th>\n",
       "      <td>945</td>\n",
       "      <td>i am totally a convert and  thumb my nose at u...</td>\n",
       "    </tr>\n",
       "    <tr>\n",
       "      <th>10</th>\n",
       "      <td>946</td>\n",
       "      <td>but i’m not totally brownie snobby – even thou...</td>\n",
       "    </tr>\n",
       "    <tr>\n",
       "      <th>11</th>\n",
       "      <td>958</td>\n",
       "      <td>the missionaries used it because it called for...</td>\n",
       "    </tr>\n",
       "    <tr>\n",
       "      <th>12</th>\n",
       "      <td>964</td>\n",
       "      <td>cocoa?</td>\n",
       "    </tr>\n",
       "    <tr>\n",
       "      <th>13</th>\n",
       "      <td>966</td>\n",
       "      <td>these look wonderful and i’m going to make the...</td>\n",
       "    </tr>\n",
       "    <tr>\n",
       "      <th>14</th>\n",
       "      <td>984</td>\n",
       "      <td>some metal can react with acids in a recipe (a...</td>\n",
       "    </tr>\n",
       "    <tr>\n",
       "      <th>15</th>\n",
       "      <td>985</td>\n",
       "      <td>in other words, there’s no reason to use a woo...</td>\n",
       "    </tr>\n",
       "    <tr>\n",
       "      <th>16</th>\n",
       "      <td>1007</td>\n",
       "      <td>julia, i was taught by my home economics teach...</td>\n",
       "    </tr>\n",
       "    <tr>\n",
       "      <th>17</th>\n",
       "      <td>1035</td>\n",
       "      <td>is using hershey’s cocoa powder kitchen blasph...</td>\n",
       "    </tr>\n",
       "    <tr>\n",
       "      <th>18</th>\n",
       "      <td>1037</td>\n",
       "      <td>deb, can i ask if you used natural or dutch fo...</td>\n",
       "    </tr>\n",
       "    <tr>\n",
       "      <th>19</th>\n",
       "      <td>1038</td>\n",
       "      <td>and what dp cocoa brand you use or prefer?</td>\n",
       "    </tr>\n",
       "    <tr>\n",
       "      <th>20</th>\n",
       "      <td>1039</td>\n",
       "      <td>i have a stash of valhrona that i save for spe...</td>\n",
       "    </tr>\n",
       "    <tr>\n",
       "      <th>21</th>\n",
       "      <td>1044</td>\n",
       "      <td>i use a pernigotti (sp) cocoa that i get at wi...</td>\n",
       "    </tr>\n",
       "    <tr>\n",
       "      <th>22</th>\n",
       "      <td>1052</td>\n",
       "      <td>cocoa powder — using hershey’s is not blasphemy.</td>\n",
       "    </tr>\n",
       "    <tr>\n",
       "      <th>23</th>\n",
       "      <td>1054</td>\n",
       "      <td>i use droste when i need a dutch-process cocoa.</td>\n",
       "    </tr>\n",
       "    <tr>\n",
       "      <th>24</th>\n",
       "      <td>1063</td>\n",
       "      <td>i don’t want to admit what i made instead with...</td>\n",
       "    </tr>\n",
       "    <tr>\n",
       "      <th>25</th>\n",
       "      <td>1067</td>\n",
       "      <td>i usually use the brownie recipe from fry’s co...</td>\n",
       "    </tr>\n",
       "    <tr>\n",
       "      <th>26</th>\n",
       "      <td>1077</td>\n",
       "      <td>and i do like the fact that i can use cocoa po...</td>\n",
       "    </tr>\n",
       "    <tr>\n",
       "      <th>27</th>\n",
       "      <td>1078</td>\n",
       "      <td>btw, i just discovered a video on america’s te...</td>\n",
       "    </tr>\n",
       "    <tr>\n",
       "      <th>28</th>\n",
       "      <td>1081</td>\n",
       "      <td>if you use part dark brown sugar and part whit...</td>\n",
       "    </tr>\n",
       "    <tr>\n",
       "      <th>29</th>\n",
       "      <td>1082</td>\n",
       "      <td>i also add semisweet chocolate chips to mine.</td>\n",
       "    </tr>\n",
       "    <tr>\n",
       "      <th>...</th>\n",
       "      <td>...</td>\n",
       "      <td>...</td>\n",
       "    </tr>\n",
       "    <tr>\n",
       "      <th>467</th>\n",
       "      <td>4216</td>\n",
       "      <td>i make these frequently.</td>\n",
       "    </tr>\n",
       "    <tr>\n",
       "      <th>468</th>\n",
       "      <td>4217</td>\n",
       "      <td>different variations include cinnamon and addi...</td>\n",
       "    </tr>\n",
       "    <tr>\n",
       "      <th>469</th>\n",
       "      <td>4219</td>\n",
       "      <td>cakey substitutes need not make a showing.</td>\n",
       "    </tr>\n",
       "    <tr>\n",
       "      <th>470</th>\n",
       "      <td>4230</td>\n",
       "      <td>and b) would i replace the vanilla extract wit...</td>\n",
       "    </tr>\n",
       "    <tr>\n",
       "      <th>471</th>\n",
       "      <td>4243</td>\n",
       "      <td>i had to try to finish it since i used my good...</td>\n",
       "    </tr>\n",
       "    <tr>\n",
       "      <th>472</th>\n",
       "      <td>4244</td>\n",
       "      <td>alexandra — sure, i’d just swap out the vanill...</td>\n",
       "    </tr>\n",
       "    <tr>\n",
       "      <th>473</th>\n",
       "      <td>4250</td>\n",
       "      <td>is it for ease of removing the brownies from t...</td>\n",
       "    </tr>\n",
       "    <tr>\n",
       "      <th>474</th>\n",
       "      <td>4252</td>\n",
       "      <td>sandy — it’s for ease of removal; i’m sorry th...</td>\n",
       "    </tr>\n",
       "    <tr>\n",
       "      <th>475</th>\n",
       "      <td>4258</td>\n",
       "      <td>i made these yesterday with about 1/2 butter a...</td>\n",
       "    </tr>\n",
       "    <tr>\n",
       "      <th>476</th>\n",
       "      <td>4272</td>\n",
       "      <td>i made these using oil instead of butter for s...</td>\n",
       "    </tr>\n",
       "    <tr>\n",
       "      <th>477</th>\n",
       "      <td>4280</td>\n",
       "      <td>fyi to other users, i used ghiradelli cocoa po...</td>\n",
       "    </tr>\n",
       "    <tr>\n",
       "      <th>478</th>\n",
       "      <td>4283</td>\n",
       "      <td>sometimes i add a bit of chocolate chips and i...</td>\n",
       "    </tr>\n",
       "    <tr>\n",
       "      <th>479</th>\n",
       "      <td>4288</td>\n",
       "      <td>used microwave to melt butter with sugar and c...</td>\n",
       "    </tr>\n",
       "    <tr>\n",
       "      <th>480</th>\n",
       "      <td>4292</td>\n",
       "      <td>i’ve made these brownies a few times now, and ...</td>\n",
       "    </tr>\n",
       "    <tr>\n",
       "      <th>481</th>\n",
       "      <td>4295</td>\n",
       "      <td>next time i might experiment with full-black c...</td>\n",
       "    </tr>\n",
       "    <tr>\n",
       "      <th>482</th>\n",
       "      <td>4306</td>\n",
       "      <td>less sugar, a little addition of brown sugar a...</td>\n",
       "    </tr>\n",
       "    <tr>\n",
       "      <th>483</th>\n",
       "      <td>4313</td>\n",
       "      <td>anyway, quadrupled quantities are 5 sticks of ...</td>\n",
       "    </tr>\n",
       "    <tr>\n",
       "      <th>484</th>\n",
       "      <td>4326</td>\n",
       "      <td>so, that is the cocoa powder that i used in th...</td>\n",
       "    </tr>\n",
       "    <tr>\n",
       "      <th>485</th>\n",
       "      <td>4329</td>\n",
       "      <td>hi, do you think this recipe would work if ful...</td>\n",
       "    </tr>\n",
       "    <tr>\n",
       "      <th>486</th>\n",
       "      <td>4337</td>\n",
       "      <td>i use hershey’s special dark cocoa.</td>\n",
       "    </tr>\n",
       "    <tr>\n",
       "      <th>487</th>\n",
       "      <td>4345</td>\n",
       "      <td>i used a 9″ square cake pan, and there was so ...</td>\n",
       "    </tr>\n",
       "    <tr>\n",
       "      <th>488</th>\n",
       "      <td>4346</td>\n",
       "      <td>using the 8″ pan recommended would not have so...</td>\n",
       "    </tr>\n",
       "    <tr>\n",
       "      <th>489</th>\n",
       "      <td>4351</td>\n",
       "      <td>using an 8 inch pan would definitely make the ...</td>\n",
       "    </tr>\n",
       "    <tr>\n",
       "      <th>490</th>\n",
       "      <td>4356</td>\n",
       "      <td>i followed the recipe faithfully, except that ...</td>\n",
       "    </tr>\n",
       "    <tr>\n",
       "      <th>491</th>\n",
       "      <td>4364</td>\n",
       "      <td>why don’t you make the recipe easier to print ...</td>\n",
       "    </tr>\n",
       "    <tr>\n",
       "      <th>492</th>\n",
       "      <td>4386</td>\n",
       "      <td>i used vegan butter and aquafaba to replace th...</td>\n",
       "    </tr>\n",
       "    <tr>\n",
       "      <th>493</th>\n",
       "      <td>4398</td>\n",
       "      <td>i use either droste or penzeys dutch processed...</td>\n",
       "    </tr>\n",
       "    <tr>\n",
       "      <th>494</th>\n",
       "      <td>4401</td>\n",
       "      <td>do not make these if you’re out of milk in the...</td>\n",
       "    </tr>\n",
       "    <tr>\n",
       "      <th>495</th>\n",
       "      <td>4403</td>\n",
       "      <td>next time, i’m sneaking in a little cayenne or...</td>\n",
       "    </tr>\n",
       "    <tr>\n",
       "      <th>496</th>\n",
       "      <td>4409</td>\n",
       "      <td>what’s the difference or advantage of using a ...</td>\n",
       "    </tr>\n",
       "  </tbody>\n",
       "</table>\n",
       "<p>497 rows × 2 columns</p>\n",
       "</div>"
      ],
      "text/plain": [
       "      882                  i need to make these immediately!\n",
       "0     886                              cocoa is just easier.\n",
       "1     894  is this a particular reason to use wood and no...\n",
       "2     898                          jacob picture — i forgot!\n",
       "3     899  i added something that will more than make up ...\n",
       "4     903                            i did use an 8″ square.\n",
       "5     923  i like boxed brownies, too, except for the one...\n",
       "6     926                                   i never use one.\n",
       "7     942  i have everything at home, so i think i’ll mak...\n",
       "8     944  these are similar to the king arthur flour fud...\n",
       "9     945  i am totally a convert and  thumb my nose at u...\n",
       "10    946  but i’m not totally brownie snobby – even thou...\n",
       "11    958  the missionaries used it because it called for...\n",
       "12    964                                             cocoa?\n",
       "13    966  these look wonderful and i’m going to make the...\n",
       "14    984  some metal can react with acids in a recipe (a...\n",
       "15    985  in other words, there’s no reason to use a woo...\n",
       "16   1007  julia, i was taught by my home economics teach...\n",
       "17   1035  is using hershey’s cocoa powder kitchen blasph...\n",
       "18   1037  deb, can i ask if you used natural or dutch fo...\n",
       "19   1038         and what dp cocoa brand you use or prefer?\n",
       "20   1039  i have a stash of valhrona that i save for spe...\n",
       "21   1044  i use a pernigotti (sp) cocoa that i get at wi...\n",
       "22   1052   cocoa powder — using hershey’s is not blasphemy.\n",
       "23   1054    i use droste when i need a dutch-process cocoa.\n",
       "24   1063  i don’t want to admit what i made instead with...\n",
       "25   1067  i usually use the brownie recipe from fry’s co...\n",
       "26   1077  and i do like the fact that i can use cocoa po...\n",
       "27   1078  btw, i just discovered a video on america’s te...\n",
       "28   1081  if you use part dark brown sugar and part whit...\n",
       "29   1082      i also add semisweet chocolate chips to mine.\n",
       "..    ...                                                ...\n",
       "467  4216                           i make these frequently.\n",
       "468  4217  different variations include cinnamon and addi...\n",
       "469  4219         cakey substitutes need not make a showing.\n",
       "470  4230  and b) would i replace the vanilla extract wit...\n",
       "471  4243  i had to try to finish it since i used my good...\n",
       "472  4244  alexandra — sure, i’d just swap out the vanill...\n",
       "473  4250  is it for ease of removing the brownies from t...\n",
       "474  4252  sandy — it’s for ease of removal; i’m sorry th...\n",
       "475  4258  i made these yesterday with about 1/2 butter a...\n",
       "476  4272  i made these using oil instead of butter for s...\n",
       "477  4280  fyi to other users, i used ghiradelli cocoa po...\n",
       "478  4283  sometimes i add a bit of chocolate chips and i...\n",
       "479  4288  used microwave to melt butter with sugar and c...\n",
       "480  4292  i’ve made these brownies a few times now, and ...\n",
       "481  4295  next time i might experiment with full-black c...\n",
       "482  4306  less sugar, a little addition of brown sugar a...\n",
       "483  4313  anyway, quadrupled quantities are 5 sticks of ...\n",
       "484  4326  so, that is the cocoa powder that i used in th...\n",
       "485  4329  hi, do you think this recipe would work if ful...\n",
       "486  4337                i use hershey’s special dark cocoa.\n",
       "487  4345  i used a 9″ square cake pan, and there was so ...\n",
       "488  4346  using the 8″ pan recommended would not have so...\n",
       "489  4351  using an 8 inch pan would definitely make the ...\n",
       "490  4356  i followed the recipe faithfully, except that ...\n",
       "491  4364  why don’t you make the recipe easier to print ...\n",
       "492  4386  i used vegan butter and aquafaba to replace th...\n",
       "493  4398  i use either droste or penzeys dutch processed...\n",
       "494  4401  do not make these if you’re out of milk in the...\n",
       "495  4403  next time, i’m sneaking in a little cayenne or...\n",
       "496  4409  what’s the difference or advantage of using a ...\n",
       "\n",
       "[497 rows x 2 columns]"
      ]
     },
     "execution_count": 19,
     "metadata": {},
     "output_type": "execute_result"
    }
   ],
   "source": [
    "b"
   ]
  },
  {
   "cell_type": "code",
   "execution_count": null,
   "metadata": {
    "collapsed": true
   },
   "outputs": [],
   "source": []
  }
 ],
 "metadata": {
  "anaconda-cloud": {},
  "kernelspec": {
   "display_name": "Python [conda env:py3]",
   "language": "python",
   "name": "conda-env-py3-py"
  },
  "language_info": {
   "codemirror_mode": {
    "name": "ipython",
    "version": 3
   },
   "file_extension": ".py",
   "mimetype": "text/x-python",
   "name": "python",
   "nbconvert_exporter": "python",
   "pygments_lexer": "ipython3",
   "version": "3.5.2"
  }
 },
 "nbformat": 4,
 "nbformat_minor": 0
}
