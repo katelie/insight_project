{
 "cells": [
  {
   "cell_type": "code",
   "execution_count": 6,
   "metadata": {
    "collapsed": false
   },
   "outputs": [
    {
     "data": {
      "text/html": [
       "<style>.container { width:95% !important; float:center}</style>"
      ],
      "text/plain": [
       "<IPython.core.display.HTML object>"
      ]
     },
     "execution_count": 6,
     "metadata": {},
     "output_type": "execute_result"
    }
   ],
   "source": [
    "from IPython.core.display import HTML\n",
    "HTML(\"<style>.container { width:95% !important; float:center}</style>\")"
   ]
  },
  {
   "cell_type": "code",
   "execution_count": 7,
   "metadata": {
    "collapsed": true
   },
   "outputs": [],
   "source": [
    "from __future__ import division, print_function\n",
    "\n",
    "import os\n",
    "\n",
    "import pandas as pd\n",
    "import numpy as np\n",
    "import matplotlib.pyplot as plt\n",
    "import seaborn as sns\n",
    "from nltk.corpus import stopwords\n",
    "import textblob as tb\n",
    "from textblob import TextBlob\n",
    "from wordcloud import WordCloud\n",
    "\n",
    "\n",
    "from sklearn.preprocessing import LabelEncoder\n",
    "from sklearn.naive_bayes import MultinomialNB, BernoulliNB\n",
    "from sklearn.feature_extraction.text import CountVectorizer, TfidfTransformer\n",
    "\n",
    "\n",
    "\n",
    "%matplotlib inline\n",
    "\n",
    "sns.set_context('notebook', font_scale=1.5)\n",
    "sns.set_style('ticks')\n",
    "\n",
    "punctuation = ['.',',',':','!',';','-','?','\"',\"'\",'(',')','—']   \n",
    "other = ['ive','ve', \"i've\", \"i'v\", 'i’ll', 'i’ve', 'i’v']  # 'deb','hideb','don','didn','twaittry','doesn','thank','heydeb',\n",
    "mystops = stopwords.words('english') + punctuation + other\n"
   ]
  },
  {
   "cell_type": "code",
   "execution_count": 8,
   "metadata": {
    "collapsed": true
   },
   "outputs": [],
   "source": [
    "comments_classified = pd.read_csv('comments_classified_SK_filtered2000_additional.csv',index_col=0)\n",
    "\n",
    "comments_with_sentences_100 = pd.read_csv('comments_with_sentences_100.csv',index_col=0)\n",
    "comments_only_100 = pd.read_csv('comments_only_100.csv',index_col=0)\n",
    "\n",
    "comments_with_sentences_all = pd.read_csv('comments_with_sentences_all.csv',index_col=0)\n",
    "comments_only_all = pd.read_csv('comments_only_all.csv',index_col=0)"
   ]
  },
  {
   "cell_type": "code",
   "execution_count": 9,
   "metadata": {
    "collapsed": true
   },
   "outputs": [],
   "source": [
    "recipes = pd.read_csv('/Users/kateliea/Documents/Insight/project/webscrapers/recipes_smittenkitchen_100.csv', index_col=0)"
   ]
  },
  {
   "cell_type": "code",
   "execution_count": 10,
   "metadata": {
    "collapsed": false
   },
   "outputs": [
    {
     "name": "stdout",
     "output_type": "stream",
     "text": [
      "total comments 227809;  total sentences, 802691\n"
     ]
    }
   ],
   "source": [
    "print('total comments %i;  total sentences, %i' % (comments_only_all.shape[0], comments_with_sentences_all.shape[0]))"
   ]
  },
  {
   "cell_type": "code",
   "execution_count": 11,
   "metadata": {
    "collapsed": false
   },
   "outputs": [],
   "source": [
    "recipes['recipe_ID'] = recipes.index\n",
    "\n",
    "# recipes['recipe_ID'] = recipes['recipe_ID'].apply(lambda x: 'R'+str(x))"
   ]
  },
  {
   "cell_type": "code",
   "execution_count": 12,
   "metadata": {
    "collapsed": false
   },
   "outputs": [
    {
     "data": {
      "text/plain": [
       "Index(['category', 'sentence', 'commentID', 'child_id', 'children',\n",
       "       'comment_time', 'recipenumber', 'title', 'url', 'usercomment',\n",
       "       'username', 'usersite', 'usercomment_lower', 'tokens', 'tokens_stemmed',\n",
       "       'sentence_bigrams', 'sentence_trigrams', 'sentence_tokens',\n",
       "       'sentence_tokens_stemmed', 'category_label'],\n",
       "      dtype='object')"
      ]
     },
     "execution_count": 12,
     "metadata": {},
     "output_type": "execute_result"
    }
   ],
   "source": [
    "comments_classified.columns"
   ]
  },
  {
   "cell_type": "code",
   "execution_count": 13,
   "metadata": {
    "collapsed": true
   },
   "outputs": [],
   "source": [
    "def comment_sentiment(comment): \n",
    "    comment = tb.TextBlob(comment)\n",
    "    return comment.sentiment.polarity"
   ]
  },
  {
   "cell_type": "code",
   "execution_count": 14,
   "metadata": {
    "collapsed": true
   },
   "outputs": [],
   "source": [
    "comments_with_sentences_100['sentiment_polarity_comment'] = comments_with_sentences_100.usercomment.apply(comment_sentiment)\n",
    "comments_with_sentences_100['sentiment_polarity_sentence'] = comments_with_sentences_100.sentence.apply(comment_sentiment)"
   ]
  },
  {
   "cell_type": "markdown",
   "metadata": {},
   "source": [
    "exploratory analysis of TextBlob"
   ]
  },
  {
   "cell_type": "markdown",
   "metadata": {},
   "source": [
    "Sentiment(polarity, subjectivity). The polarity score is a float within the range [-1.0, 1.0]. The subjectivity is a float within the range [0.0, 1.0] where 0.0 is very objective and 1.0 is very subjective.m"
   ]
  },
  {
   "cell_type": "code",
   "execution_count": 15,
   "metadata": {
    "collapsed": false
   },
   "outputs": [
    {
     "data": {
      "text/plain": [
       "TextBlob(\"I am so making this next week-end. I agree with you about lemon and here’s a suggestion that I am going to do when I bake this pie: move the lemon flavor to the crust. Just zest the lemon in the dough while pulsing the butter and flour. i think it should give that lemony edge without intercepting anything in the filling!\")"
      ]
     },
     "execution_count": 15,
     "metadata": {},
     "output_type": "execute_result"
    }
   ],
   "source": [
    "txt = tb.TextBlob(comments_classified.usercomment[130])\n",
    "txt"
   ]
  },
  {
   "cell_type": "code",
   "execution_count": 16,
   "metadata": {
    "collapsed": false
   },
   "outputs": [
    {
     "data": {
      "text/plain": [
       "([('I', 'PRP'),\n",
       "  ('am', 'VBP'),\n",
       "  ('so', 'RB'),\n",
       "  ('making', 'VBG'),\n",
       "  ('this', 'DT'),\n",
       "  ('next', 'JJ'),\n",
       "  ('week-end', 'NN'),\n",
       "  ('I', 'PRP'),\n",
       "  ('agree', 'VBP'),\n",
       "  ('with', 'IN'),\n",
       "  ('you', 'PRP'),\n",
       "  ('about', 'IN'),\n",
       "  ('lemon', 'NN'),\n",
       "  ('and', 'CC'),\n",
       "  ('here’s', 'VB'),\n",
       "  ('a', 'DT'),\n",
       "  ('suggestion', 'NN'),\n",
       "  ('that', 'IN'),\n",
       "  ('I', 'PRP'),\n",
       "  ('am', 'VBP'),\n",
       "  ('going', 'VBG'),\n",
       "  ('to', 'TO'),\n",
       "  ('do', 'VB'),\n",
       "  ('when', 'WRB'),\n",
       "  ('I', 'PRP'),\n",
       "  ('bake', 'VBP'),\n",
       "  ('this', 'DT'),\n",
       "  ('pie', 'NN'),\n",
       "  ('move', 'VB'),\n",
       "  ('the', 'DT'),\n",
       "  ('lemon', 'NN'),\n",
       "  ('flavor', 'NN'),\n",
       "  ('to', 'TO'),\n",
       "  ('the', 'DT'),\n",
       "  ('crust', 'NN'),\n",
       "  ('Just', 'RB'),\n",
       "  ('zest', 'JJS'),\n",
       "  ('the', 'DT'),\n",
       "  ('lemon', 'NN'),\n",
       "  ('in', 'IN'),\n",
       "  ('the', 'DT'),\n",
       "  ('dough', 'NN'),\n",
       "  ('while', 'IN'),\n",
       "  ('pulsing', 'VBG'),\n",
       "  ('the', 'DT'),\n",
       "  ('butter', 'NN'),\n",
       "  ('and', 'CC'),\n",
       "  ('flour', 'NN'),\n",
       "  ('i', 'NN'),\n",
       "  ('think', 'VBP'),\n",
       "  ('it', 'PRP'),\n",
       "  ('should', 'MD'),\n",
       "  ('give', 'VB'),\n",
       "  ('that', 'IN'),\n",
       "  ('lemony', 'NN'),\n",
       "  ('edge', 'NN'),\n",
       "  ('without', 'IN'),\n",
       "  ('intercepting', 'VBG'),\n",
       "  ('anything', 'NN'),\n",
       "  ('in', 'IN'),\n",
       "  ('the', 'DT'),\n",
       "  ('filling', 'NN')],\n",
       " WordList(['lemon flavor', 'lemony edge']))"
      ]
     },
     "execution_count": 16,
     "metadata": {},
     "output_type": "execute_result"
    }
   ],
   "source": [
    "txt.tags, txt.noun_phrases"
   ]
  },
  {
   "cell_type": "code",
   "execution_count": 17,
   "metadata": {
    "collapsed": false
   },
   "outputs": [
    {
     "data": {
      "text/plain": [
       "Sentiment(polarity=0.0, subjectivity=0.0)"
      ]
     },
     "execution_count": 17,
     "metadata": {},
     "output_type": "execute_result"
    }
   ],
   "source": [
    "txt.sentiment"
   ]
  },
  {
   "cell_type": "code",
   "execution_count": 18,
   "metadata": {
    "collapsed": false
   },
   "outputs": [
    {
     "data": {
      "text/plain": [
       "0.4595538414182737"
      ]
     },
     "execution_count": 18,
     "metadata": {},
     "output_type": "execute_result"
    }
   ],
   "source": [
    "comments_with_sentences_100[(comments_with_sentences_100.sentiment_polarity_sentence > 0) & (comments_with_sentences_100.title=='best cocoa brownies')].sentiment_polarity_sentence.mean()"
   ]
  },
  {
   "cell_type": "markdown",
   "metadata": {},
   "source": [
    "calculate positive/negative mean sentiment for recipe"
   ]
  },
  {
   "cell_type": "code",
   "execution_count": 19,
   "metadata": {
    "collapsed": true
   },
   "outputs": [],
   "source": [
    "title = recipes.title[2]\n",
    "\n",
    "positive = 100*comments_with_sentences_100[\n",
    "    (comments_with_sentences_100.sentiment_polarity_sentence > 0) \n",
    "    & (comments_with_sentences_100.title==title)].sentiment_polarity_sentence.mean()\n",
    "negative = 100*comments_with_sentences_100[\n",
    "    (comments_with_sentences_100.sentiment_polarity_sentence < 0) \n",
    "    & (comments_with_sentences_100.title==title)].sentiment_polarity_sentence.mean()\n"
   ]
  },
  {
   "cell_type": "code",
   "execution_count": 20,
   "metadata": {
    "collapsed": false
   },
   "outputs": [
    {
     "data": {
      "text/plain": [
       "993"
      ]
     },
     "execution_count": 20,
     "metadata": {},
     "output_type": "execute_result"
    }
   ],
   "source": [
    "recipes['numberofcomments'].loc[recipes.title=='best cocoa brownies'].values[0]"
   ]
  },
  {
   "cell_type": "code",
   "execution_count": 21,
   "metadata": {
    "collapsed": false
   },
   "outputs": [
    {
     "data": {
      "text/plain": [
       "2    3506.751321\n",
       "Name: numberofcomments, dtype: float64"
      ]
     },
     "execution_count": 21,
     "metadata": {},
     "output_type": "execute_result"
    }
   ],
   "source": [
    "(positive - negative)*(recipes[recipes.title==title].numberofcomments)"
   ]
  },
  {
   "cell_type": "raw",
   "metadata": {},
   "source": [
    "positive = 100*comments_with_sentences_100[\n",
    "    (comments_with_sentences_100.sentiment_polarity_sentence > 0) \n",
    "    & (comments_with_sentences_100.title=='best cocoa brownies')].sentiment_polarity_sentence.mean()\n",
    "negative = 100*comments_with_sentences_100[\n",
    "    (comments_with_sentences_100.sentiment_polarity_sentence < 0) \n",
    "    & (comments_with_sentences_100.title=='best cocoa brownies')].sentiment_polarity_sentence.mean()\n",
    "\n",
    "\n",
    "width = 0.2\n",
    "lw=0\n",
    "\n",
    "with sns.axes_style({'font.family': [u'sans-serif']}):\n",
    "    sns.set_context('notebook', font_scale=1.5)\n",
    "    fig, ax = plt.subplots(figsize=(5,1))\n",
    "    ax.barh(0, positive, color='orange', linewidth=lw)\n",
    "    ax.barh(0, negative, color='blue', linewidth=lw)\n",
    "\n",
    "    ax.set_xlim((-60,60))\n",
    "    ax.set_yticks(ticks=[])\n",
    "    ax.set_title('recipe happiness')\n",
    "    sns.despine(offset=20, trim=True, left=True)"
   ]
  },
  {
   "cell_type": "code",
   "execution_count": 50,
   "metadata": {
    "collapsed": false
   },
   "outputs": [],
   "source": [
    "def happiness_graph(recipe):\n",
    "    width = 0.2\n",
    "    lw=0\n",
    "    fig, ax = plt.subplots()\n",
    "    \n",
    "    name = recipe['recipe_title']\n",
    "    positive = recipe['mean_positivity_sentences']\n",
    "    negative = recipe['mean_negativity_sentences']\n",
    "    \n",
    "    with sns.axes_style({'font.family': [u'sans-serif']}):\n",
    "        sns.set_context('notebook', font_scale=1.5)\n",
    "        ax.barh(0, 100*positive, color='orange', linewidth=lw)\n",
    "        ax.barh(0, 100*negative, color='blue', linewidth=lw)\n",
    "\n",
    "        ax.set_xlim((-60,60))\n",
    "        ax.set_yticks(ticks=[])\n",
    "        ax.set_title('recipe happiness (%)')\n",
    "        sns.despine(offset=20, trim=True, left=True)\n",
    "        \n",
    "        ax.spines['bottom'].set_color('white')\n",
    "        ax.spines['left'].set_color('white')\n",
    "        \n",
    "        ax.tick_params(axis='x', colors='white')\n",
    "        ax.tick_params(axis='y', colors='white')\n",
    "        ax.yaxis.label.set_color('white')\n",
    "        ax.xaxis.label.set_color('white')\n",
    "        ax.title.set_color('white')\n",
    "        \n",
    "    plt.savefig('/Users/kateliea/Documents/Insight/project/images/' + name + '.png', transparent=True)\n",
    "    plt.close()"
   ]
  },
  {
   "cell_type": "code",
   "execution_count": null,
   "metadata": {
    "collapsed": true
   },
   "outputs": [],
   "source": []
  },
  {
   "cell_type": "code",
   "execution_count": null,
   "metadata": {
    "collapsed": true
   },
   "outputs": [],
   "source": []
  },
  {
   "cell_type": "code",
   "execution_count": 23,
   "metadata": {
    "collapsed": false
   },
   "outputs": [
    {
     "data": {
      "text/plain": [
       "Index(['article_id', 'author', 'author_url', 'directions', 'firstimageURL',\n",
       "       'ingredients', 'introductory_text', 'numberofcomments', 'published',\n",
       "       'recipe_notes', 'servings', 'time', 'title', 'updated', 'url',\n",
       "       'recipe_ID'],\n",
       "      dtype='object')"
      ]
     },
     "execution_count": 23,
     "metadata": {},
     "output_type": "execute_result"
    }
   ],
   "source": [
    "recipes.columns"
   ]
  },
  {
   "cell_type": "markdown",
   "metadata": {},
   "source": [
    "create a data table with the recipe sentiment, ranked by happiness score \n",
    "\n",
    "include name for happiness plot"
   ]
  },
  {
   "cell_type": "code",
   "execution_count": 44,
   "metadata": {
    "collapsed": false
   },
   "outputs": [],
   "source": [
    "# recipe_ranks = pd.DataFrame()\n",
    "recipe_ranks = {}\n",
    "\n",
    "for i, recipe_title in enumerate(comments_with_sentences_100.title.unique()):\n",
    "        recipe_sentiment = {}\n",
    "        \n",
    "        recipe_sentiment['recipe_title'] = recipe_title\n",
    "\n",
    "        recipe_sentiment['recipe_ID'] = recipes[recipes.title == recipe_title].recipe_ID.values[0]\n",
    "        \n",
    "        recipe_sentiment['numberofcomments'] = recipes[recipes.title == recipe_title].numberofcomments.values[0]\n",
    "        \n",
    "        recipe_sentiment['mean_positivity_sentences'] = comments_with_sentences_100[\n",
    "                    (comments_with_sentences_100.sentiment_polarity_sentence > 0) \n",
    "                    & (comments_with_sentences_100.title == recipe_title)].sentiment_polarity_sentence.mean()\n",
    "        \n",
    "        recipe_sentiment['mean_positivity_comment'] = comments_with_sentences_100[\n",
    "                    (comments_with_sentences_100.sentiment_polarity_comment > 0) \n",
    "                    & (comments_with_sentences_100.title == recipe_title)].sentiment_polarity_comment.mean()\n",
    "\n",
    "        recipe_sentiment['mean_negativity_sentences'] = comments_with_sentences_100[\n",
    "                    (comments_with_sentences_100.sentiment_polarity_sentence < 0) \n",
    "                    & (comments_with_sentences_100.title == recipe_title)].sentiment_polarity_sentence.mean()\n",
    "        \n",
    "        recipe_sentiment['mean_negativity_comment'] = comments_with_sentences_100[\n",
    "                    (comments_with_sentences_100.sentiment_polarity_comment < 0) \n",
    "                    & (comments_with_sentences_100.title == recipe_title)].sentiment_polarity_comment.mean()\n",
    "        \n",
    "        recipe_sentiment['sentence_rank'] = (recipe_sentiment['mean_positivity_sentences'] + recipe_sentiment['mean_negativity_sentences'])*(recipes[recipes.title==recipe_title].numberofcomments.values[0]/recipes.numberofcomments.mean())\n",
    "        recipe_sentiment['comment_rank'] = (recipe_sentiment['mean_positivity_comment'] + recipe_sentiment['mean_negativity_comment'])*(recipes[recipes.title==recipe_title].numberofcomments.values[0]/recipes.numberofcomments.mean())\n",
    "        \n",
    "        recipe_sentiment['plot_name'] = recipe_title + '.jpg'\n",
    "        \n",
    "        \n",
    "        recipe_ranks[i] = recipe_sentiment\n",
    "               \n",
    "ranks = pd.DataFrame.from_dict(recipe_ranks,orient='index')\n",
    "\n",
    "ranks.to_csv('Recipe_sentiment_ranks.csv')"
   ]
  },
  {
   "cell_type": "code",
   "execution_count": 51,
   "metadata": {
    "collapsed": false
   },
   "outputs": [],
   "source": [
    "for recipe in recipe_ranks: \n",
    "    happiness_graph(recipe_ranks[recipe])"
   ]
  },
  {
   "cell_type": "code",
   "execution_count": 26,
   "metadata": {
    "collapsed": false
   },
   "outputs": [
    {
     "data": {
      "text/html": [
       "<div>\n",
       "<table border=\"1\" class=\"dataframe\">\n",
       "  <thead>\n",
       "    <tr style=\"text-align: right;\">\n",
       "      <th></th>\n",
       "      <th>mean_negativity_sentences</th>\n",
       "      <th>mean_positivity_comment</th>\n",
       "      <th>plot_name</th>\n",
       "      <th>recipe_title</th>\n",
       "      <th>numberofcomments</th>\n",
       "      <th>sentence_rank</th>\n",
       "      <th>recipe_ID</th>\n",
       "      <th>comment_rank</th>\n",
       "      <th>mean_positivity_sentences</th>\n",
       "      <th>mean_negativity_comment</th>\n",
       "    </tr>\n",
       "  </thead>\n",
       "  <tbody>\n",
       "    <tr>\n",
       "      <th>0</th>\n",
       "      <td>-0.227809</td>\n",
       "      <td>0.320051</td>\n",
       "      <td>sweet potato buttermilk pie.jpg</td>\n",
       "      <td>sweet potato buttermilk pie</td>\n",
       "      <td>259</td>\n",
       "      <td>0.174760</td>\n",
       "      <td>0</td>\n",
       "      <td>0.073021</td>\n",
       "      <td>0.415227</td>\n",
       "      <td>-0.241741</td>\n",
       "    </tr>\n",
       "    <tr>\n",
       "      <th>1</th>\n",
       "      <td>-0.222290</td>\n",
       "      <td>0.341266</td>\n",
       "      <td>best cocoa brownies.jpg</td>\n",
       "      <td>best cocoa brownies</td>\n",
       "      <td>993</td>\n",
       "      <td>0.848226</td>\n",
       "      <td>1</td>\n",
       "      <td>0.535390</td>\n",
       "      <td>0.459554</td>\n",
       "      <td>-0.191508</td>\n",
       "    </tr>\n",
       "    <tr>\n",
       "      <th>2</th>\n",
       "      <td>-0.323480</td>\n",
       "      <td>0.255622</td>\n",
       "      <td>sav’h.jpg</td>\n",
       "      <td>sav’h</td>\n",
       "      <td>47</td>\n",
       "      <td>0.016778</td>\n",
       "      <td>2</td>\n",
       "      <td>0.032678</td>\n",
       "      <td>0.422637</td>\n",
       "      <td>-0.062500</td>\n",
       "    </tr>\n",
       "    <tr>\n",
       "      <th>3</th>\n",
       "      <td>-0.298049</td>\n",
       "      <td>0.330228</td>\n",
       "      <td>classic cobb salad.jpg</td>\n",
       "      <td>classic cobb salad</td>\n",
       "      <td>217</td>\n",
       "      <td>0.113329</td>\n",
       "      <td>3</td>\n",
       "      <td>0.132741</td>\n",
       "      <td>0.443110</td>\n",
       "      <td>-0.160319</td>\n",
       "    </tr>\n",
       "    <tr>\n",
       "      <th>4</th>\n",
       "      <td>-0.248137</td>\n",
       "      <td>0.368366</td>\n",
       "      <td>cumin seed roasted cauliflower with yogurt.jpg</td>\n",
       "      <td>cumin seed roasted cauliflower with yogurt</td>\n",
       "      <td>222</td>\n",
       "      <td>0.182365</td>\n",
       "      <td>4</td>\n",
       "      <td>0.184199</td>\n",
       "      <td>0.476307</td>\n",
       "      <td>-0.137902</td>\n",
       "    </tr>\n",
       "    <tr>\n",
       "      <th>5</th>\n",
       "      <td>-0.217418</td>\n",
       "      <td>0.262694</td>\n",
       "      <td>chocolate pavlova.jpg</td>\n",
       "      <td>chocolate pavlova</td>\n",
       "      <td>112</td>\n",
       "      <td>0.070291</td>\n",
       "      <td>5</td>\n",
       "      <td>0.039967</td>\n",
       "      <td>0.391740</td>\n",
       "      <td>-0.163575</td>\n",
       "    </tr>\n",
       "    <tr>\n",
       "      <th>6</th>\n",
       "      <td>-0.300111</td>\n",
       "      <td>0.367544</td>\n",
       "      <td>homemade merguez with herby yogurt.jpg</td>\n",
       "      <td>homemade merguez with herby yogurt</td>\n",
       "      <td>44</td>\n",
       "      <td>0.028154</td>\n",
       "      <td>6</td>\n",
       "      <td>0.025435</td>\n",
       "      <td>0.477839</td>\n",
       "      <td>-0.206981</td>\n",
       "    </tr>\n",
       "    <tr>\n",
       "      <th>7</th>\n",
       "      <td>-0.242268</td>\n",
       "      <td>0.314451</td>\n",
       "      <td>fudgy chocolate sheet cake.jpg</td>\n",
       "      <td>fudgy chocolate sheet cake</td>\n",
       "      <td>327</td>\n",
       "      <td>0.240947</td>\n",
       "      <td>7</td>\n",
       "      <td>0.198771</td>\n",
       "      <td>0.446933</td>\n",
       "      <td>-0.145611</td>\n",
       "    </tr>\n",
       "    <tr>\n",
       "      <th>8</th>\n",
       "      <td>-0.207342</td>\n",
       "      <td>0.330390</td>\n",
       "      <td>israeli salad + pita chips.jpg</td>\n",
       "      <td>israeli salad + pita chips</td>\n",
       "      <td>77</td>\n",
       "      <td>0.060714</td>\n",
       "      <td>8</td>\n",
       "      <td>0.067367</td>\n",
       "      <td>0.426355</td>\n",
       "      <td>-0.087379</td>\n",
       "    </tr>\n",
       "    <tr>\n",
       "      <th>9</th>\n",
       "      <td>-0.221274</td>\n",
       "      <td>0.317312</td>\n",
       "      <td>failproof crepes + a crepe party.jpg</td>\n",
       "      <td>failproof crepes + a crepe party</td>\n",
       "      <td>157</td>\n",
       "      <td>0.114078</td>\n",
       "      <td>9</td>\n",
       "      <td>0.100213</td>\n",
       "      <td>0.423098</td>\n",
       "      <td>-0.140018</td>\n",
       "    </tr>\n",
       "    <tr>\n",
       "      <th>10</th>\n",
       "      <td>-0.224447</td>\n",
       "      <td>0.285120</td>\n",
       "      <td>zucchini bread.jpg</td>\n",
       "      <td>zucchini bread</td>\n",
       "      <td>474</td>\n",
       "      <td>0.305137</td>\n",
       "      <td>10</td>\n",
       "      <td>0.284698</td>\n",
       "      <td>0.403255</td>\n",
       "      <td>-0.118289</td>\n",
       "    </tr>\n",
       "    <tr>\n",
       "      <th>11</th>\n",
       "      <td>-0.193648</td>\n",
       "      <td>0.323584</td>\n",
       "      <td>zucchini, tomato and rice gratin.jpg</td>\n",
       "      <td>zucchini, tomato and rice gratin</td>\n",
       "      <td>358</td>\n",
       "      <td>0.337209</td>\n",
       "      <td>11</td>\n",
       "      <td>0.268222</td>\n",
       "      <td>0.455277</td>\n",
       "      <td>-0.115480</td>\n",
       "    </tr>\n",
       "    <tr>\n",
       "      <th>12</th>\n",
       "      <td>-0.213788</td>\n",
       "      <td>0.368112</td>\n",
       "      <td>red wine chocolate cake.jpg</td>\n",
       "      <td>red wine chocolate cake</td>\n",
       "      <td>842</td>\n",
       "      <td>0.798623</td>\n",
       "      <td>12</td>\n",
       "      <td>0.816769</td>\n",
       "      <td>0.477239</td>\n",
       "      <td>-0.098675</td>\n",
       "    </tr>\n",
       "    <tr>\n",
       "      <th>13</th>\n",
       "      <td>-0.190170</td>\n",
       "      <td>0.362176</td>\n",
       "      <td>burst tomato galette with corn and zucchini.jpg</td>\n",
       "      <td>burst tomato galette with corn and zucchini</td>\n",
       "      <td>299</td>\n",
       "      <td>0.312359</td>\n",
       "      <td>13</td>\n",
       "      <td>0.235818</td>\n",
       "      <td>0.480340</td>\n",
       "      <td>-0.143110</td>\n",
       "    </tr>\n",
       "    <tr>\n",
       "      <th>14</th>\n",
       "      <td>-0.263961</td>\n",
       "      <td>0.374208</td>\n",
       "      <td>zucchini bread pancakes.jpg</td>\n",
       "      <td>zucchini bread pancakes</td>\n",
       "      <td>254</td>\n",
       "      <td>0.197276</td>\n",
       "      <td>14</td>\n",
       "      <td>0.207496</td>\n",
       "      <td>0.479691</td>\n",
       "      <td>-0.147302</td>\n",
       "    </tr>\n",
       "    <tr>\n",
       "      <th>15</th>\n",
       "      <td>-0.222954</td>\n",
       "      <td>0.303921</td>\n",
       "      <td>build your own smitten kitchen.jpg</td>\n",
       "      <td>build your own smitten kitchen</td>\n",
       "      <td>366</td>\n",
       "      <td>0.283744</td>\n",
       "      <td>15</td>\n",
       "      <td>0.248384</td>\n",
       "      <td>0.438289</td>\n",
       "      <td>-0.115420</td>\n",
       "    </tr>\n",
       "    <tr>\n",
       "      <th>16</th>\n",
       "      <td>-0.265476</td>\n",
       "      <td>0.276520</td>\n",
       "      <td>piri piri chicken.jpg</td>\n",
       "      <td>piri piri chicken</td>\n",
       "      <td>131</td>\n",
       "      <td>0.079397</td>\n",
       "      <td>16</td>\n",
       "      <td>0.064747</td>\n",
       "      <td>0.433822</td>\n",
       "      <td>-0.139235</td>\n",
       "    </tr>\n",
       "    <tr>\n",
       "      <th>17</th>\n",
       "      <td>-0.202748</td>\n",
       "      <td>0.321818</td>\n",
       "      <td>confetti cookies.jpg</td>\n",
       "      <td>confetti cookies</td>\n",
       "      <td>218</td>\n",
       "      <td>0.200589</td>\n",
       "      <td>17</td>\n",
       "      <td>0.184619</td>\n",
       "      <td>0.458324</td>\n",
       "      <td>-0.086590</td>\n",
       "    </tr>\n",
       "    <tr>\n",
       "      <th>18</th>\n",
       "      <td>-0.213715</td>\n",
       "      <td>0.404688</td>\n",
       "      <td>freedom, ringing.jpg</td>\n",
       "      <td>freedom, ringing</td>\n",
       "      <td>31</td>\n",
       "      <td>0.030334</td>\n",
       "      <td>18</td>\n",
       "      <td>0.023155</td>\n",
       "      <td>0.485509</td>\n",
       "      <td>-0.197222</td>\n",
       "    </tr>\n",
       "    <tr>\n",
       "      <th>19</th>\n",
       "      <td>-0.241762</td>\n",
       "      <td>0.308727</td>\n",
       "      <td>plum squares with marzipan crumble.jpg</td>\n",
       "      <td>plum squares with marzipan crumble</td>\n",
       "      <td>104</td>\n",
       "      <td>0.065479</td>\n",
       "      <td>19</td>\n",
       "      <td>0.038921</td>\n",
       "      <td>0.416641</td>\n",
       "      <td>-0.204778</td>\n",
       "    </tr>\n",
       "    <tr>\n",
       "      <th>20</th>\n",
       "      <td>-0.243939</td>\n",
       "      <td>0.320643</td>\n",
       "      <td>tomato sauce with onion and butter.jpg</td>\n",
       "      <td>tomato sauce with onion and butter</td>\n",
       "      <td>848</td>\n",
       "      <td>0.558428</td>\n",
       "      <td>20</td>\n",
       "      <td>0.616788</td>\n",
       "      <td>0.426850</td>\n",
       "      <td>-0.118616</td>\n",
       "    </tr>\n",
       "    <tr>\n",
       "      <th>21</th>\n",
       "      <td>-0.258655</td>\n",
       "      <td>0.298185</td>\n",
       "      <td>slow-roasted tomatoes.jpg</td>\n",
       "      <td>slow-roasted tomatoes</td>\n",
       "      <td>247</td>\n",
       "      <td>0.153283</td>\n",
       "      <td>21</td>\n",
       "      <td>0.148038</td>\n",
       "      <td>0.431027</td>\n",
       "      <td>-0.131712</td>\n",
       "    </tr>\n",
       "    <tr>\n",
       "      <th>22</th>\n",
       "      <td>-0.229261</td>\n",
       "      <td>0.318350</td>\n",
       "      <td>broccoli slaw.jpg</td>\n",
       "      <td>broccoli slaw</td>\n",
       "      <td>406</td>\n",
       "      <td>0.332028</td>\n",
       "      <td>22</td>\n",
       "      <td>0.261141</td>\n",
       "      <td>0.456414</td>\n",
       "      <td>-0.139693</td>\n",
       "    </tr>\n",
       "    <tr>\n",
       "      <th>23</th>\n",
       "      <td>-0.212756</td>\n",
       "      <td>0.388448</td>\n",
       "      <td>white bean roasted red pepper dip.jpg</td>\n",
       "      <td>white bean roasted red pepper dip</td>\n",
       "      <td>123</td>\n",
       "      <td>0.119503</td>\n",
       "      <td>23</td>\n",
       "      <td>0.106437</td>\n",
       "      <td>0.482620</td>\n",
       "      <td>-0.148090</td>\n",
       "    </tr>\n",
       "    <tr>\n",
       "      <th>24</th>\n",
       "      <td>-0.212904</td>\n",
       "      <td>0.333661</td>\n",
       "      <td>perfect blueberry muffins.jpg</td>\n",
       "      <td>perfect blueberry muffins</td>\n",
       "      <td>607</td>\n",
       "      <td>0.526798</td>\n",
       "      <td>24</td>\n",
       "      <td>0.398965</td>\n",
       "      <td>0.453964</td>\n",
       "      <td>-0.151096</td>\n",
       "    </tr>\n",
       "    <tr>\n",
       "      <th>25</th>\n",
       "      <td>-0.180473</td>\n",
       "      <td>0.261648</td>\n",
       "      <td>how to julienne.jpg</td>\n",
       "      <td>how to julienne</td>\n",
       "      <td>75</td>\n",
       "      <td>0.058513</td>\n",
       "      <td>25</td>\n",
       "      <td>0.036356</td>\n",
       "      <td>0.397175</td>\n",
       "      <td>-0.127007</td>\n",
       "    </tr>\n",
       "    <tr>\n",
       "      <th>26</th>\n",
       "      <td>-0.210865</td>\n",
       "      <td>0.340543</td>\n",
       "      <td>quick zucchini sauté.jpg</td>\n",
       "      <td>quick zucchini sauté</td>\n",
       "      <td>168</td>\n",
       "      <td>0.138384</td>\n",
       "      <td>26</td>\n",
       "      <td>0.046902</td>\n",
       "      <td>0.439661</td>\n",
       "      <td>-0.262999</td>\n",
       "    </tr>\n",
       "    <tr>\n",
       "      <th>27</th>\n",
       "      <td>-0.234151</td>\n",
       "      <td>0.322740</td>\n",
       "      <td>acorn squash with chile-lime vinaigrette.jpg</td>\n",
       "      <td>acorn squash with chile-lime vinaigrette</td>\n",
       "      <td>79</td>\n",
       "      <td>0.065257</td>\n",
       "      <td>27</td>\n",
       "      <td>0.064533</td>\n",
       "      <td>0.463591</td>\n",
       "      <td>-0.095847</td>\n",
       "    </tr>\n",
       "    <tr>\n",
       "      <th>28</th>\n",
       "      <td>-0.217641</td>\n",
       "      <td>0.314607</td>\n",
       "      <td>salted brown butter crispy treats.jpg</td>\n",
       "      <td>salted brown butter crispy treats</td>\n",
       "      <td>583</td>\n",
       "      <td>0.451646</td>\n",
       "      <td>28</td>\n",
       "      <td>0.376543</td>\n",
       "      <td>0.432820</td>\n",
       "      <td>-0.135210</td>\n",
       "    </tr>\n",
       "    <tr>\n",
       "      <th>29</th>\n",
       "      <td>-0.275172</td>\n",
       "      <td>0.298272</td>\n",
       "      <td>cherry clafoutis.jpg</td>\n",
       "      <td>cherry clafoutis</td>\n",
       "      <td>90</td>\n",
       "      <td>0.053539</td>\n",
       "      <td>29</td>\n",
       "      <td>-0.000772</td>\n",
       "      <td>0.440406</td>\n",
       "      <td>-0.300655</td>\n",
       "    </tr>\n",
       "    <tr>\n",
       "      <th>...</th>\n",
       "      <td>...</td>\n",
       "      <td>...</td>\n",
       "      <td>...</td>\n",
       "      <td>...</td>\n",
       "      <td>...</td>\n",
       "      <td>...</td>\n",
       "      <td>...</td>\n",
       "      <td>...</td>\n",
       "      <td>...</td>\n",
       "      <td>...</td>\n",
       "    </tr>\n",
       "    <tr>\n",
       "      <th>70</th>\n",
       "      <td>-0.176370</td>\n",
       "      <td>0.298582</td>\n",
       "      <td>bourbon peach hand pies.jpg</td>\n",
       "      <td>bourbon peach hand pies</td>\n",
       "      <td>303</td>\n",
       "      <td>0.292751</td>\n",
       "      <td>70</td>\n",
       "      <td>0.188746</td>\n",
       "      <td>0.444734</td>\n",
       "      <td>-0.125559</td>\n",
       "    </tr>\n",
       "    <tr>\n",
       "      <th>71</th>\n",
       "      <td>-0.259634</td>\n",
       "      <td>0.359494</td>\n",
       "      <td>ratatouille’s ratatouille.jpg</td>\n",
       "      <td>ratatouille’s ratatouille</td>\n",
       "      <td>480</td>\n",
       "      <td>0.362069</td>\n",
       "      <td>71</td>\n",
       "      <td>0.213936</td>\n",
       "      <td>0.469151</td>\n",
       "      <td>-0.235696</td>\n",
       "    </tr>\n",
       "    <tr>\n",
       "      <th>72</th>\n",
       "      <td>-0.215824</td>\n",
       "      <td>0.285592</td>\n",
       "      <td>new york cheesecake.jpg</td>\n",
       "      <td>new york cheesecake</td>\n",
       "      <td>659</td>\n",
       "      <td>0.447501</td>\n",
       "      <td>72</td>\n",
       "      <td>0.331776</td>\n",
       "      <td>0.404440</td>\n",
       "      <td>-0.145753</td>\n",
       "    </tr>\n",
       "    <tr>\n",
       "      <th>73</th>\n",
       "      <td>-0.238760</td>\n",
       "      <td>0.320014</td>\n",
       "      <td>homemade oreos.jpg</td>\n",
       "      <td>homemade oreos</td>\n",
       "      <td>614</td>\n",
       "      <td>0.463311</td>\n",
       "      <td>73</td>\n",
       "      <td>0.330208</td>\n",
       "      <td>0.448352</td>\n",
       "      <td>-0.170635</td>\n",
       "    </tr>\n",
       "    <tr>\n",
       "      <th>74</th>\n",
       "      <td>-0.224103</td>\n",
       "      <td>0.337030</td>\n",
       "      <td>chocolate peanut butter cake.jpg</td>\n",
       "      <td>chocolate peanut butter cake</td>\n",
       "      <td>1237</td>\n",
       "      <td>1.001462</td>\n",
       "      <td>74</td>\n",
       "      <td>0.776213</td>\n",
       "      <td>0.448975</td>\n",
       "      <td>-0.162737</td>\n",
       "    </tr>\n",
       "    <tr>\n",
       "      <th>75</th>\n",
       "      <td>-0.252849</td>\n",
       "      <td>0.287027</td>\n",
       "      <td>oven fries.jpg</td>\n",
       "      <td>oven fries</td>\n",
       "      <td>166</td>\n",
       "      <td>0.091851</td>\n",
       "      <td>75</td>\n",
       "      <td>0.039699</td>\n",
       "      <td>0.406538</td>\n",
       "      <td>-0.220601</td>\n",
       "    </tr>\n",
       "    <tr>\n",
       "      <th>76</th>\n",
       "      <td>-0.281079</td>\n",
       "      <td>0.348429</td>\n",
       "      <td>nectarine brown butter buckle.jpg</td>\n",
       "      <td>nectarine brown butter buckle</td>\n",
       "      <td>265</td>\n",
       "      <td>0.180933</td>\n",
       "      <td>76</td>\n",
       "      <td>0.196900</td>\n",
       "      <td>0.470724</td>\n",
       "      <td>-0.142048</td>\n",
       "    </tr>\n",
       "    <tr>\n",
       "      <th>77</th>\n",
       "      <td>-0.232179</td>\n",
       "      <td>0.302134</td>\n",
       "      <td>blueberry bread and butter pudding.jpg</td>\n",
       "      <td>blueberry bread and butter pudding</td>\n",
       "      <td>85</td>\n",
       "      <td>0.058158</td>\n",
       "      <td>77</td>\n",
       "      <td>0.042286</td>\n",
       "      <td>0.422226</td>\n",
       "      <td>-0.163953</td>\n",
       "    </tr>\n",
       "    <tr>\n",
       "      <th>78</th>\n",
       "      <td>-0.193284</td>\n",
       "      <td>0.297798</td>\n",
       "      <td>summer squash pizza.jpg</td>\n",
       "      <td>summer squash pizza</td>\n",
       "      <td>204</td>\n",
       "      <td>0.176773</td>\n",
       "      <td>78</td>\n",
       "      <td>0.129351</td>\n",
       "      <td>0.433972</td>\n",
       "      <td>-0.121678</td>\n",
       "    </tr>\n",
       "    <tr>\n",
       "      <th>79</th>\n",
       "      <td>-0.314496</td>\n",
       "      <td>0.326613</td>\n",
       "      <td>peach melba popsicles.jpg</td>\n",
       "      <td>peach melba popsicles</td>\n",
       "      <td>62</td>\n",
       "      <td>0.024764</td>\n",
       "      <td>79</td>\n",
       "      <td>0.040685</td>\n",
       "      <td>0.425437</td>\n",
       "      <td>-0.144343</td>\n",
       "    </tr>\n",
       "    <tr>\n",
       "      <th>80</th>\n",
       "      <td>-0.255210</td>\n",
       "      <td>0.367989</td>\n",
       "      <td>strawberry shortcakes.jpg</td>\n",
       "      <td>strawberry shortcakes</td>\n",
       "      <td>201</td>\n",
       "      <td>0.160291</td>\n",
       "      <td>80</td>\n",
       "      <td>0.123301</td>\n",
       "      <td>0.476714</td>\n",
       "      <td>-0.197600</td>\n",
       "    </tr>\n",
       "    <tr>\n",
       "      <th>81</th>\n",
       "      <td>-0.232620</td>\n",
       "      <td>0.328945</td>\n",
       "      <td>sweet and smoky oven spareribs.jpg</td>\n",
       "      <td>sweet and smoky oven spareribs</td>\n",
       "      <td>310</td>\n",
       "      <td>0.223175</td>\n",
       "      <td>81</td>\n",
       "      <td>0.217765</td>\n",
       "      <td>0.432585</td>\n",
       "      <td>-0.133828</td>\n",
       "    </tr>\n",
       "    <tr>\n",
       "      <th>82</th>\n",
       "      <td>-0.258177</td>\n",
       "      <td>0.349250</td>\n",
       "      <td>how to poach an egg, smitten kitchen-style.jpg</td>\n",
       "      <td>how to poach an egg, smitten kitchen-style</td>\n",
       "      <td>508</td>\n",
       "      <td>0.335601</td>\n",
       "      <td>82</td>\n",
       "      <td>0.427790</td>\n",
       "      <td>0.441674</td>\n",
       "      <td>-0.115346</td>\n",
       "    </tr>\n",
       "    <tr>\n",
       "      <th>83</th>\n",
       "      <td>-0.252497</td>\n",
       "      <td>0.378544</td>\n",
       "      <td>roasted carrot and avocado salad.jpg</td>\n",
       "      <td>roasted carrot and avocado salad</td>\n",
       "      <td>142</td>\n",
       "      <td>0.127191</td>\n",
       "      <td>83</td>\n",
       "      <td>0.108257</td>\n",
       "      <td>0.501290</td>\n",
       "      <td>-0.166788</td>\n",
       "    </tr>\n",
       "    <tr>\n",
       "      <th>84</th>\n",
       "      <td>-0.208712</td>\n",
       "      <td>0.303528</td>\n",
       "      <td>blackberry cheesecake galette.jpg</td>\n",
       "      <td>blackberry cheesecake galette</td>\n",
       "      <td>215</td>\n",
       "      <td>0.178130</td>\n",
       "      <td>84</td>\n",
       "      <td>0.136616</td>\n",
       "      <td>0.438839</td>\n",
       "      <td>-0.127033</td>\n",
       "    </tr>\n",
       "    <tr>\n",
       "      <th>85</th>\n",
       "      <td>-0.189312</td>\n",
       "      <td>0.326424</td>\n",
       "      <td>eggplant with yogurt and tomato relish.jpg</td>\n",
       "      <td>eggplant with yogurt and tomato relish</td>\n",
       "      <td>93</td>\n",
       "      <td>0.089180</td>\n",
       "      <td>85</td>\n",
       "      <td>0.062531</td>\n",
       "      <td>0.455664</td>\n",
       "      <td>-0.139665</td>\n",
       "    </tr>\n",
       "    <tr>\n",
       "      <th>86</th>\n",
       "      <td>-0.253485</td>\n",
       "      <td>0.339055</td>\n",
       "      <td>almond-crisped peaches + uk book tour.jpg</td>\n",
       "      <td>almond-crisped peaches + uk book tour</td>\n",
       "      <td>270</td>\n",
       "      <td>0.210319</td>\n",
       "      <td>86</td>\n",
       "      <td>0.078498</td>\n",
       "      <td>0.469849</td>\n",
       "      <td>-0.258301</td>\n",
       "    </tr>\n",
       "    <tr>\n",
       "      <th>87</th>\n",
       "      <td>-0.224107</td>\n",
       "      <td>0.310868</td>\n",
       "      <td>potato pizza, even better.jpg</td>\n",
       "      <td>potato pizza, even better</td>\n",
       "      <td>113</td>\n",
       "      <td>0.087795</td>\n",
       "      <td>87</td>\n",
       "      <td>0.054267</td>\n",
       "      <td>0.439913</td>\n",
       "      <td>-0.177477</td>\n",
       "    </tr>\n",
       "    <tr>\n",
       "      <th>88</th>\n",
       "      <td>-0.246640</td>\n",
       "      <td>0.326031</td>\n",
       "      <td>key lime pie popsicles.jpg</td>\n",
       "      <td>key lime pie popsicles</td>\n",
       "      <td>168</td>\n",
       "      <td>0.103315</td>\n",
       "      <td>88</td>\n",
       "      <td>0.116951</td>\n",
       "      <td>0.417453</td>\n",
       "      <td>-0.132672</td>\n",
       "    </tr>\n",
       "    <tr>\n",
       "      <th>89</th>\n",
       "      <td>-0.245230</td>\n",
       "      <td>0.410989</td>\n",
       "      <td>tomato salad with crushed croutons.jpg</td>\n",
       "      <td>tomato salad with crushed croutons</td>\n",
       "      <td>194</td>\n",
       "      <td>0.190436</td>\n",
       "      <td>89</td>\n",
       "      <td>0.037652</td>\n",
       "      <td>0.517887</td>\n",
       "      <td>-0.357080</td>\n",
       "    </tr>\n",
       "    <tr>\n",
       "      <th>90</th>\n",
       "      <td>-0.229911</td>\n",
       "      <td>0.325453</td>\n",
       "      <td>apple cranberry crisp.jpg</td>\n",
       "      <td>apple cranberry crisp</td>\n",
       "      <td>60</td>\n",
       "      <td>0.035335</td>\n",
       "      <td>90</td>\n",
       "      <td>0.043859</td>\n",
       "      <td>0.393491</td>\n",
       "      <td>-0.122415</td>\n",
       "    </tr>\n",
       "    <tr>\n",
       "      <th>91</th>\n",
       "      <td>-0.229276</td>\n",
       "      <td>0.271032</td>\n",
       "      <td>rugelach pinwheels.jpg</td>\n",
       "      <td>rugelach pinwheels</td>\n",
       "      <td>166</td>\n",
       "      <td>0.104588</td>\n",
       "      <td>91</td>\n",
       "      <td>0.090611</td>\n",
       "      <td>0.404278</td>\n",
       "      <td>-0.119418</td>\n",
       "    </tr>\n",
       "    <tr>\n",
       "      <th>92</th>\n",
       "      <td>-0.217342</td>\n",
       "      <td>0.287393</td>\n",
       "      <td>nutmeg-maple cream pie.jpg</td>\n",
       "      <td>nutmeg-maple cream pie</td>\n",
       "      <td>185</td>\n",
       "      <td>0.124922</td>\n",
       "      <td>92</td>\n",
       "      <td>0.128180</td>\n",
       "      <td>0.404901</td>\n",
       "      <td>-0.094942</td>\n",
       "    </tr>\n",
       "    <tr>\n",
       "      <th>93</th>\n",
       "      <td>-0.231019</td>\n",
       "      <td>0.340007</td>\n",
       "      <td>peach pie.jpg</td>\n",
       "      <td>peach pie</td>\n",
       "      <td>320</td>\n",
       "      <td>0.260008</td>\n",
       "      <td>93</td>\n",
       "      <td>0.253090</td>\n",
       "      <td>0.456706</td>\n",
       "      <td>-0.120324</td>\n",
       "    </tr>\n",
       "    <tr>\n",
       "      <th>94</th>\n",
       "      <td>-0.227790</td>\n",
       "      <td>0.318100</td>\n",
       "      <td>my favorite buttermilk biscuits.jpg</td>\n",
       "      <td>my favorite buttermilk biscuits</td>\n",
       "      <td>448</td>\n",
       "      <td>0.330915</td>\n",
       "      <td>94</td>\n",
       "      <td>0.321360</td>\n",
       "      <td>0.432957</td>\n",
       "      <td>-0.118857</td>\n",
       "    </tr>\n",
       "    <tr>\n",
       "      <th>95</th>\n",
       "      <td>-0.231152</td>\n",
       "      <td>0.298721</td>\n",
       "      <td>project wedding cake: the cake is baked.jpg</td>\n",
       "      <td>project wedding cake: the cake is baked</td>\n",
       "      <td>440</td>\n",
       "      <td>0.289954</td>\n",
       "      <td>95</td>\n",
       "      <td>0.260914</td>\n",
       "      <td>0.414192</td>\n",
       "      <td>-0.134013</td>\n",
       "    </tr>\n",
       "    <tr>\n",
       "      <th>96</th>\n",
       "      <td>-0.282612</td>\n",
       "      <td>0.328804</td>\n",
       "      <td>scalloped tomatoes with croutons.jpg</td>\n",
       "      <td>scalloped tomatoes with croutons</td>\n",
       "      <td>357</td>\n",
       "      <td>0.218542</td>\n",
       "      <td>96</td>\n",
       "      <td>0.112642</td>\n",
       "      <td>0.452646</td>\n",
       "      <td>-0.241164</td>\n",
       "    </tr>\n",
       "    <tr>\n",
       "      <th>97</th>\n",
       "      <td>-0.234385</td>\n",
       "      <td>0.358152</td>\n",
       "      <td>blue and red berry ricotta galette.jpg</td>\n",
       "      <td>blue and red berry ricotta galette</td>\n",
       "      <td>177</td>\n",
       "      <td>0.160769</td>\n",
       "      <td>97</td>\n",
       "      <td>0.159532</td>\n",
       "      <td>0.486674</td>\n",
       "      <td>-0.107804</td>\n",
       "    </tr>\n",
       "    <tr>\n",
       "      <th>98</th>\n",
       "      <td>-0.278637</td>\n",
       "      <td>0.370059</td>\n",
       "      <td>raspberry limeade slushies.jpg</td>\n",
       "      <td>raspberry limeade slushies</td>\n",
       "      <td>196</td>\n",
       "      <td>0.129246</td>\n",
       "      <td>98</td>\n",
       "      <td>0.121295</td>\n",
       "      <td>0.461797</td>\n",
       "      <td>-0.198167</td>\n",
       "    </tr>\n",
       "    <tr>\n",
       "      <th>99</th>\n",
       "      <td>-0.178856</td>\n",
       "      <td>0.311873</td>\n",
       "      <td>ice cream sandwich cookies.jpg</td>\n",
       "      <td>ice cream sandwich cookies</td>\n",
       "      <td>88</td>\n",
       "      <td>0.091919</td>\n",
       "      <td>99</td>\n",
       "      <td>0.067720</td>\n",
       "      <td>0.468985</td>\n",
       "      <td>-0.098123</td>\n",
       "    </tr>\n",
       "  </tbody>\n",
       "</table>\n",
       "<p>100 rows × 10 columns</p>\n",
       "</div>"
      ],
      "text/plain": [
       "    mean_negativity_sentences  mean_positivity_comment  \\\n",
       "0                   -0.227809                 0.320051   \n",
       "1                   -0.222290                 0.341266   \n",
       "2                   -0.323480                 0.255622   \n",
       "3                   -0.298049                 0.330228   \n",
       "4                   -0.248137                 0.368366   \n",
       "5                   -0.217418                 0.262694   \n",
       "6                   -0.300111                 0.367544   \n",
       "7                   -0.242268                 0.314451   \n",
       "8                   -0.207342                 0.330390   \n",
       "9                   -0.221274                 0.317312   \n",
       "10                  -0.224447                 0.285120   \n",
       "11                  -0.193648                 0.323584   \n",
       "12                  -0.213788                 0.368112   \n",
       "13                  -0.190170                 0.362176   \n",
       "14                  -0.263961                 0.374208   \n",
       "15                  -0.222954                 0.303921   \n",
       "16                  -0.265476                 0.276520   \n",
       "17                  -0.202748                 0.321818   \n",
       "18                  -0.213715                 0.404688   \n",
       "19                  -0.241762                 0.308727   \n",
       "20                  -0.243939                 0.320643   \n",
       "21                  -0.258655                 0.298185   \n",
       "22                  -0.229261                 0.318350   \n",
       "23                  -0.212756                 0.388448   \n",
       "24                  -0.212904                 0.333661   \n",
       "25                  -0.180473                 0.261648   \n",
       "26                  -0.210865                 0.340543   \n",
       "27                  -0.234151                 0.322740   \n",
       "28                  -0.217641                 0.314607   \n",
       "29                  -0.275172                 0.298272   \n",
       "..                        ...                      ...   \n",
       "70                  -0.176370                 0.298582   \n",
       "71                  -0.259634                 0.359494   \n",
       "72                  -0.215824                 0.285592   \n",
       "73                  -0.238760                 0.320014   \n",
       "74                  -0.224103                 0.337030   \n",
       "75                  -0.252849                 0.287027   \n",
       "76                  -0.281079                 0.348429   \n",
       "77                  -0.232179                 0.302134   \n",
       "78                  -0.193284                 0.297798   \n",
       "79                  -0.314496                 0.326613   \n",
       "80                  -0.255210                 0.367989   \n",
       "81                  -0.232620                 0.328945   \n",
       "82                  -0.258177                 0.349250   \n",
       "83                  -0.252497                 0.378544   \n",
       "84                  -0.208712                 0.303528   \n",
       "85                  -0.189312                 0.326424   \n",
       "86                  -0.253485                 0.339055   \n",
       "87                  -0.224107                 0.310868   \n",
       "88                  -0.246640                 0.326031   \n",
       "89                  -0.245230                 0.410989   \n",
       "90                  -0.229911                 0.325453   \n",
       "91                  -0.229276                 0.271032   \n",
       "92                  -0.217342                 0.287393   \n",
       "93                  -0.231019                 0.340007   \n",
       "94                  -0.227790                 0.318100   \n",
       "95                  -0.231152                 0.298721   \n",
       "96                  -0.282612                 0.328804   \n",
       "97                  -0.234385                 0.358152   \n",
       "98                  -0.278637                 0.370059   \n",
       "99                  -0.178856                 0.311873   \n",
       "\n",
       "                                          plot_name  \\\n",
       "0                   sweet potato buttermilk pie.jpg   \n",
       "1                           best cocoa brownies.jpg   \n",
       "2                                         sav’h.jpg   \n",
       "3                            classic cobb salad.jpg   \n",
       "4    cumin seed roasted cauliflower with yogurt.jpg   \n",
       "5                             chocolate pavlova.jpg   \n",
       "6            homemade merguez with herby yogurt.jpg   \n",
       "7                    fudgy chocolate sheet cake.jpg   \n",
       "8                    israeli salad + pita chips.jpg   \n",
       "9              failproof crepes + a crepe party.jpg   \n",
       "10                               zucchini bread.jpg   \n",
       "11             zucchini, tomato and rice gratin.jpg   \n",
       "12                      red wine chocolate cake.jpg   \n",
       "13  burst tomato galette with corn and zucchini.jpg   \n",
       "14                      zucchini bread pancakes.jpg   \n",
       "15               build your own smitten kitchen.jpg   \n",
       "16                            piri piri chicken.jpg   \n",
       "17                             confetti cookies.jpg   \n",
       "18                             freedom, ringing.jpg   \n",
       "19           plum squares with marzipan crumble.jpg   \n",
       "20           tomato sauce with onion and butter.jpg   \n",
       "21                        slow-roasted tomatoes.jpg   \n",
       "22                                broccoli slaw.jpg   \n",
       "23            white bean roasted red pepper dip.jpg   \n",
       "24                    perfect blueberry muffins.jpg   \n",
       "25                              how to julienne.jpg   \n",
       "26                         quick zucchini sauté.jpg   \n",
       "27     acorn squash with chile-lime vinaigrette.jpg   \n",
       "28            salted brown butter crispy treats.jpg   \n",
       "29                             cherry clafoutis.jpg   \n",
       "..                                              ...   \n",
       "70                      bourbon peach hand pies.jpg   \n",
       "71                    ratatouille’s ratatouille.jpg   \n",
       "72                          new york cheesecake.jpg   \n",
       "73                               homemade oreos.jpg   \n",
       "74                 chocolate peanut butter cake.jpg   \n",
       "75                                   oven fries.jpg   \n",
       "76                nectarine brown butter buckle.jpg   \n",
       "77           blueberry bread and butter pudding.jpg   \n",
       "78                          summer squash pizza.jpg   \n",
       "79                        peach melba popsicles.jpg   \n",
       "80                        strawberry shortcakes.jpg   \n",
       "81               sweet and smoky oven spareribs.jpg   \n",
       "82   how to poach an egg, smitten kitchen-style.jpg   \n",
       "83             roasted carrot and avocado salad.jpg   \n",
       "84                blackberry cheesecake galette.jpg   \n",
       "85       eggplant with yogurt and tomato relish.jpg   \n",
       "86        almond-crisped peaches + uk book tour.jpg   \n",
       "87                    potato pizza, even better.jpg   \n",
       "88                       key lime pie popsicles.jpg   \n",
       "89           tomato salad with crushed croutons.jpg   \n",
       "90                        apple cranberry crisp.jpg   \n",
       "91                           rugelach pinwheels.jpg   \n",
       "92                       nutmeg-maple cream pie.jpg   \n",
       "93                                    peach pie.jpg   \n",
       "94              my favorite buttermilk biscuits.jpg   \n",
       "95      project wedding cake: the cake is baked.jpg   \n",
       "96             scalloped tomatoes with croutons.jpg   \n",
       "97           blue and red berry ricotta galette.jpg   \n",
       "98                   raspberry limeade slushies.jpg   \n",
       "99                   ice cream sandwich cookies.jpg   \n",
       "\n",
       "                                   recipe_title  numberofcomments  \\\n",
       "0                   sweet potato buttermilk pie               259   \n",
       "1                           best cocoa brownies               993   \n",
       "2                                         sav’h                47   \n",
       "3                            classic cobb salad               217   \n",
       "4    cumin seed roasted cauliflower with yogurt               222   \n",
       "5                             chocolate pavlova               112   \n",
       "6            homemade merguez with herby yogurt                44   \n",
       "7                    fudgy chocolate sheet cake               327   \n",
       "8                    israeli salad + pita chips                77   \n",
       "9              failproof crepes + a crepe party               157   \n",
       "10                               zucchini bread               474   \n",
       "11             zucchini, tomato and rice gratin               358   \n",
       "12                      red wine chocolate cake               842   \n",
       "13  burst tomato galette with corn and zucchini               299   \n",
       "14                      zucchini bread pancakes               254   \n",
       "15               build your own smitten kitchen               366   \n",
       "16                            piri piri chicken               131   \n",
       "17                             confetti cookies               218   \n",
       "18                             freedom, ringing                31   \n",
       "19           plum squares with marzipan crumble               104   \n",
       "20           tomato sauce with onion and butter               848   \n",
       "21                        slow-roasted tomatoes               247   \n",
       "22                                broccoli slaw               406   \n",
       "23            white bean roasted red pepper dip               123   \n",
       "24                    perfect blueberry muffins               607   \n",
       "25                              how to julienne                75   \n",
       "26                         quick zucchini sauté               168   \n",
       "27     acorn squash with chile-lime vinaigrette                79   \n",
       "28            salted brown butter crispy treats               583   \n",
       "29                             cherry clafoutis                90   \n",
       "..                                          ...               ...   \n",
       "70                      bourbon peach hand pies               303   \n",
       "71                    ratatouille’s ratatouille               480   \n",
       "72                          new york cheesecake               659   \n",
       "73                               homemade oreos               614   \n",
       "74                 chocolate peanut butter cake              1237   \n",
       "75                                   oven fries               166   \n",
       "76                nectarine brown butter buckle               265   \n",
       "77           blueberry bread and butter pudding                85   \n",
       "78                          summer squash pizza               204   \n",
       "79                        peach melba popsicles                62   \n",
       "80                        strawberry shortcakes               201   \n",
       "81               sweet and smoky oven spareribs               310   \n",
       "82   how to poach an egg, smitten kitchen-style               508   \n",
       "83             roasted carrot and avocado salad               142   \n",
       "84                blackberry cheesecake galette               215   \n",
       "85       eggplant with yogurt and tomato relish                93   \n",
       "86        almond-crisped peaches + uk book tour               270   \n",
       "87                    potato pizza, even better               113   \n",
       "88                       key lime pie popsicles               168   \n",
       "89           tomato salad with crushed croutons               194   \n",
       "90                        apple cranberry crisp                60   \n",
       "91                           rugelach pinwheels               166   \n",
       "92                       nutmeg-maple cream pie               185   \n",
       "93                                    peach pie               320   \n",
       "94              my favorite buttermilk biscuits               448   \n",
       "95      project wedding cake: the cake is baked               440   \n",
       "96             scalloped tomatoes with croutons               357   \n",
       "97           blue and red berry ricotta galette               177   \n",
       "98                   raspberry limeade slushies               196   \n",
       "99                   ice cream sandwich cookies                88   \n",
       "\n",
       "    sentence_rank  recipe_ID  comment_rank  mean_positivity_sentences  \\\n",
       "0        0.174760          0      0.073021                   0.415227   \n",
       "1        0.848226          1      0.535390                   0.459554   \n",
       "2        0.016778          2      0.032678                   0.422637   \n",
       "3        0.113329          3      0.132741                   0.443110   \n",
       "4        0.182365          4      0.184199                   0.476307   \n",
       "5        0.070291          5      0.039967                   0.391740   \n",
       "6        0.028154          6      0.025435                   0.477839   \n",
       "7        0.240947          7      0.198771                   0.446933   \n",
       "8        0.060714          8      0.067367                   0.426355   \n",
       "9        0.114078          9      0.100213                   0.423098   \n",
       "10       0.305137         10      0.284698                   0.403255   \n",
       "11       0.337209         11      0.268222                   0.455277   \n",
       "12       0.798623         12      0.816769                   0.477239   \n",
       "13       0.312359         13      0.235818                   0.480340   \n",
       "14       0.197276         14      0.207496                   0.479691   \n",
       "15       0.283744         15      0.248384                   0.438289   \n",
       "16       0.079397         16      0.064747                   0.433822   \n",
       "17       0.200589         17      0.184619                   0.458324   \n",
       "18       0.030334         18      0.023155                   0.485509   \n",
       "19       0.065479         19      0.038921                   0.416641   \n",
       "20       0.558428         20      0.616788                   0.426850   \n",
       "21       0.153283         21      0.148038                   0.431027   \n",
       "22       0.332028         22      0.261141                   0.456414   \n",
       "23       0.119503         23      0.106437                   0.482620   \n",
       "24       0.526798         24      0.398965                   0.453964   \n",
       "25       0.058513         25      0.036356                   0.397175   \n",
       "26       0.138384         26      0.046902                   0.439661   \n",
       "27       0.065257         27      0.064533                   0.463591   \n",
       "28       0.451646         28      0.376543                   0.432820   \n",
       "29       0.053539         29     -0.000772                   0.440406   \n",
       "..            ...        ...           ...                        ...   \n",
       "70       0.292751         70      0.188746                   0.444734   \n",
       "71       0.362069         71      0.213936                   0.469151   \n",
       "72       0.447501         72      0.331776                   0.404440   \n",
       "73       0.463311         73      0.330208                   0.448352   \n",
       "74       1.001462         74      0.776213                   0.448975   \n",
       "75       0.091851         75      0.039699                   0.406538   \n",
       "76       0.180933         76      0.196900                   0.470724   \n",
       "77       0.058158         77      0.042286                   0.422226   \n",
       "78       0.176773         78      0.129351                   0.433972   \n",
       "79       0.024764         79      0.040685                   0.425437   \n",
       "80       0.160291         80      0.123301                   0.476714   \n",
       "81       0.223175         81      0.217765                   0.432585   \n",
       "82       0.335601         82      0.427790                   0.441674   \n",
       "83       0.127191         83      0.108257                   0.501290   \n",
       "84       0.178130         84      0.136616                   0.438839   \n",
       "85       0.089180         85      0.062531                   0.455664   \n",
       "86       0.210319         86      0.078498                   0.469849   \n",
       "87       0.087795         87      0.054267                   0.439913   \n",
       "88       0.103315         88      0.116951                   0.417453   \n",
       "89       0.190436         89      0.037652                   0.517887   \n",
       "90       0.035335         90      0.043859                   0.393491   \n",
       "91       0.104588         91      0.090611                   0.404278   \n",
       "92       0.124922         92      0.128180                   0.404901   \n",
       "93       0.260008         93      0.253090                   0.456706   \n",
       "94       0.330915         94      0.321360                   0.432957   \n",
       "95       0.289954         95      0.260914                   0.414192   \n",
       "96       0.218542         96      0.112642                   0.452646   \n",
       "97       0.160769         97      0.159532                   0.486674   \n",
       "98       0.129246         98      0.121295                   0.461797   \n",
       "99       0.091919         99      0.067720                   0.468985   \n",
       "\n",
       "    mean_negativity_comment  \n",
       "0                 -0.241741  \n",
       "1                 -0.191508  \n",
       "2                 -0.062500  \n",
       "3                 -0.160319  \n",
       "4                 -0.137902  \n",
       "5                 -0.163575  \n",
       "6                 -0.206981  \n",
       "7                 -0.145611  \n",
       "8                 -0.087379  \n",
       "9                 -0.140018  \n",
       "10                -0.118289  \n",
       "11                -0.115480  \n",
       "12                -0.098675  \n",
       "13                -0.143110  \n",
       "14                -0.147302  \n",
       "15                -0.115420  \n",
       "16                -0.139235  \n",
       "17                -0.086590  \n",
       "18                -0.197222  \n",
       "19                -0.204778  \n",
       "20                -0.118616  \n",
       "21                -0.131712  \n",
       "22                -0.139693  \n",
       "23                -0.148090  \n",
       "24                -0.151096  \n",
       "25                -0.127007  \n",
       "26                -0.262999  \n",
       "27                -0.095847  \n",
       "28                -0.135210  \n",
       "29                -0.300655  \n",
       "..                      ...  \n",
       "70                -0.125559  \n",
       "71                -0.235696  \n",
       "72                -0.145753  \n",
       "73                -0.170635  \n",
       "74                -0.162737  \n",
       "75                -0.220601  \n",
       "76                -0.142048  \n",
       "77                -0.163953  \n",
       "78                -0.121678  \n",
       "79                -0.144343  \n",
       "80                -0.197600  \n",
       "81                -0.133828  \n",
       "82                -0.115346  \n",
       "83                -0.166788  \n",
       "84                -0.127033  \n",
       "85                -0.139665  \n",
       "86                -0.258301  \n",
       "87                -0.177477  \n",
       "88                -0.132672  \n",
       "89                -0.357080  \n",
       "90                -0.122415  \n",
       "91                -0.119418  \n",
       "92                -0.094942  \n",
       "93                -0.120324  \n",
       "94                -0.118857  \n",
       "95                -0.134013  \n",
       "96                -0.241164  \n",
       "97                -0.107804  \n",
       "98                -0.198167  \n",
       "99                -0.098123  \n",
       "\n",
       "[100 rows x 10 columns]"
      ]
     },
     "execution_count": 26,
     "metadata": {},
     "output_type": "execute_result"
    }
   ],
   "source": [
    "ranks"
   ]
  },
  {
   "cell_type": "code",
   "execution_count": 27,
   "metadata": {
    "collapsed": false
   },
   "outputs": [
    {
     "data": {
      "text/plain": [
       "(1237, 31, 277.76)"
      ]
     },
     "execution_count": 27,
     "metadata": {},
     "output_type": "execute_result"
    }
   ],
   "source": [
    "ranks.numberofcomments.max(), ranks.numberofcomments.min(), ranks.numberofcomments.mean()"
   ]
  },
  {
   "cell_type": "code",
   "execution_count": 28,
   "metadata": {
    "collapsed": false
   },
   "outputs": [
    {
     "data": {
      "text/plain": [
       "(1.0014616243669396, 0.016778357286231269, 0.2082712382563939)"
      ]
     },
     "execution_count": 28,
     "metadata": {},
     "output_type": "execute_result"
    }
   ],
   "source": [
    "ranks.sentence_rank.max(), ranks.sentence_rank.min(), ranks.sentence_rank.mean()"
   ]
  },
  {
   "cell_type": "code",
   "execution_count": 29,
   "metadata": {
    "collapsed": false
   },
   "outputs": [
    {
     "data": {
      "text/plain": [
       "(0.86852582425090097, -0.008230820515504382, 0.17752501259600553)"
      ]
     },
     "execution_count": 29,
     "metadata": {},
     "output_type": "execute_result"
    }
   ],
   "source": [
    "ranks.comment_rank.max(), ranks.comment_rank.min(), ranks.comment_rank.mean()"
   ]
  },
  {
   "cell_type": "code",
   "execution_count": 58,
   "metadata": {
    "collapsed": false
   },
   "outputs": [
    {
     "data": {
      "text/html": [
       "<div>\n",
       "<table border=\"1\" class=\"dataframe\">\n",
       "  <thead>\n",
       "    <tr style=\"text-align: right;\">\n",
       "      <th></th>\n",
       "      <th>mean_negativity_sentences</th>\n",
       "      <th>mean_positivity_comment</th>\n",
       "      <th>plot_name</th>\n",
       "      <th>recipe_title</th>\n",
       "      <th>numberofcomments</th>\n",
       "      <th>sentence_rank</th>\n",
       "      <th>recipe_ID</th>\n",
       "      <th>comment_rank</th>\n",
       "      <th>mean_positivity_sentences</th>\n",
       "      <th>mean_negativity_comment</th>\n",
       "    </tr>\n",
       "  </thead>\n",
       "  <tbody>\n",
       "    <tr>\n",
       "      <th>82</th>\n",
       "      <td>-0.258177</td>\n",
       "      <td>0.349250</td>\n",
       "      <td>how to poach an egg, smitten kitchen-style.jpg</td>\n",
       "      <td>how to poach an egg, smitten kitchen-style</td>\n",
       "      <td>508</td>\n",
       "      <td>0.335601</td>\n",
       "      <td>82</td>\n",
       "      <td>0.427790</td>\n",
       "      <td>0.441674</td>\n",
       "      <td>-0.115346</td>\n",
       "    </tr>\n",
       "    <tr>\n",
       "      <th>1</th>\n",
       "      <td>-0.222290</td>\n",
       "      <td>0.341266</td>\n",
       "      <td>best cocoa brownies.jpg</td>\n",
       "      <td>best cocoa brownies</td>\n",
       "      <td>993</td>\n",
       "      <td>0.848226</td>\n",
       "      <td>1</td>\n",
       "      <td>0.535390</td>\n",
       "      <td>0.459554</td>\n",
       "      <td>-0.191508</td>\n",
       "    </tr>\n",
       "    <tr>\n",
       "      <th>20</th>\n",
       "      <td>-0.243939</td>\n",
       "      <td>0.320643</td>\n",
       "      <td>tomato sauce with onion and butter.jpg</td>\n",
       "      <td>tomato sauce with onion and butter</td>\n",
       "      <td>848</td>\n",
       "      <td>0.558428</td>\n",
       "      <td>20</td>\n",
       "      <td>0.616788</td>\n",
       "      <td>0.426850</td>\n",
       "      <td>-0.118616</td>\n",
       "    </tr>\n",
       "    <tr>\n",
       "      <th>74</th>\n",
       "      <td>-0.224103</td>\n",
       "      <td>0.337030</td>\n",
       "      <td>chocolate peanut butter cake.jpg</td>\n",
       "      <td>chocolate peanut butter cake</td>\n",
       "      <td>1237</td>\n",
       "      <td>1.001462</td>\n",
       "      <td>74</td>\n",
       "      <td>0.776213</td>\n",
       "      <td>0.448975</td>\n",
       "      <td>-0.162737</td>\n",
       "    </tr>\n",
       "    <tr>\n",
       "      <th>12</th>\n",
       "      <td>-0.213788</td>\n",
       "      <td>0.368112</td>\n",
       "      <td>red wine chocolate cake.jpg</td>\n",
       "      <td>red wine chocolate cake</td>\n",
       "      <td>842</td>\n",
       "      <td>0.798623</td>\n",
       "      <td>12</td>\n",
       "      <td>0.816769</td>\n",
       "      <td>0.477239</td>\n",
       "      <td>-0.098675</td>\n",
       "    </tr>\n",
       "    <tr>\n",
       "      <th>55</th>\n",
       "      <td>-0.227755</td>\n",
       "      <td>0.387276</td>\n",
       "      <td>cinnamon toast french toast + book preview.jpg</td>\n",
       "      <td>cinnamon toast french toast + book preview</td>\n",
       "      <td>937</td>\n",
       "      <td>0.747399</td>\n",
       "      <td>55</td>\n",
       "      <td>0.868526</td>\n",
       "      <td>0.449310</td>\n",
       "      <td>-0.129815</td>\n",
       "    </tr>\n",
       "  </tbody>\n",
       "</table>\n",
       "</div>"
      ],
      "text/plain": [
       "    mean_negativity_sentences  mean_positivity_comment  \\\n",
       "82                  -0.258177                 0.349250   \n",
       "1                   -0.222290                 0.341266   \n",
       "20                  -0.243939                 0.320643   \n",
       "74                  -0.224103                 0.337030   \n",
       "12                  -0.213788                 0.368112   \n",
       "55                  -0.227755                 0.387276   \n",
       "\n",
       "                                         plot_name  \\\n",
       "82  how to poach an egg, smitten kitchen-style.jpg   \n",
       "1                          best cocoa brownies.jpg   \n",
       "20          tomato sauce with onion and butter.jpg   \n",
       "74                chocolate peanut butter cake.jpg   \n",
       "12                     red wine chocolate cake.jpg   \n",
       "55  cinnamon toast french toast + book preview.jpg   \n",
       "\n",
       "                                  recipe_title  numberofcomments  \\\n",
       "82  how to poach an egg, smitten kitchen-style               508   \n",
       "1                          best cocoa brownies               993   \n",
       "20          tomato sauce with onion and butter               848   \n",
       "74                chocolate peanut butter cake              1237   \n",
       "12                     red wine chocolate cake               842   \n",
       "55  cinnamon toast french toast + book preview               937   \n",
       "\n",
       "    sentence_rank  recipe_ID  comment_rank  mean_positivity_sentences  \\\n",
       "82       0.335601         82      0.427790                   0.441674   \n",
       "1        0.848226          1      0.535390                   0.459554   \n",
       "20       0.558428         20      0.616788                   0.426850   \n",
       "74       1.001462         74      0.776213                   0.448975   \n",
       "12       0.798623         12      0.816769                   0.477239   \n",
       "55       0.747399         55      0.868526                   0.449310   \n",
       "\n",
       "    mean_negativity_comment  \n",
       "82                -0.115346  \n",
       "1                 -0.191508  \n",
       "20                -0.118616  \n",
       "74                -0.162737  \n",
       "12                -0.098675  \n",
       "55                -0.129815  "
      ]
     },
     "execution_count": 58,
     "metadata": {},
     "output_type": "execute_result"
    }
   ],
   "source": [
    "ranks.sort_values('comment_rank').tail(6)"
   ]
  },
  {
   "cell_type": "code",
   "execution_count": 35,
   "metadata": {
    "collapsed": false
   },
   "outputs": [
    {
     "data": {
      "text/html": [
       "<div>\n",
       "<table border=\"1\" class=\"dataframe\">\n",
       "  <thead>\n",
       "    <tr style=\"text-align: right;\">\n",
       "      <th></th>\n",
       "      <th>recipe_title</th>\n",
       "      <th>sentence_rank</th>\n",
       "    </tr>\n",
       "  </thead>\n",
       "  <tbody>\n",
       "    <tr>\n",
       "      <th>74</th>\n",
       "      <td>chocolate peanut butter cake</td>\n",
       "      <td>1.001462</td>\n",
       "    </tr>\n",
       "    <tr>\n",
       "      <th>1</th>\n",
       "      <td>best cocoa brownies</td>\n",
       "      <td>0.848226</td>\n",
       "    </tr>\n",
       "    <tr>\n",
       "      <th>12</th>\n",
       "      <td>red wine chocolate cake</td>\n",
       "      <td>0.798623</td>\n",
       "    </tr>\n",
       "    <tr>\n",
       "      <th>55</th>\n",
       "      <td>cinnamon toast french toast + book preview</td>\n",
       "      <td>0.747399</td>\n",
       "    </tr>\n",
       "    <tr>\n",
       "      <th>20</th>\n",
       "      <td>tomato sauce with onion and butter</td>\n",
       "      <td>0.558428</td>\n",
       "    </tr>\n",
       "  </tbody>\n",
       "</table>\n",
       "</div>"
      ],
      "text/plain": [
       "                                  recipe_title  sentence_rank\n",
       "74                chocolate peanut butter cake       1.001462\n",
       "1                          best cocoa brownies       0.848226\n",
       "12                     red wine chocolate cake       0.798623\n",
       "55  cinnamon toast french toast + book preview       0.747399\n",
       "20          tomato sauce with onion and butter       0.558428"
      ]
     },
     "execution_count": 35,
     "metadata": {},
     "output_type": "execute_result"
    }
   ],
   "source": [
    "ranks[['recipe_title','sentence_rank']].sort_values('sentence_rank', ascending=False).head(5)"
   ]
  },
  {
   "cell_type": "code",
   "execution_count": 32,
   "metadata": {
    "collapsed": true
   },
   "outputs": [],
   "source": [
    "ranks.to_csv('Recipe_sentiment_ranks.csv')"
   ]
  },
  {
   "cell_type": "code",
   "execution_count": null,
   "metadata": {
    "collapsed": true
   },
   "outputs": [],
   "source": []
  },
  {
   "cell_type": "code",
   "execution_count": 33,
   "metadata": {
    "collapsed": false
   },
   "outputs": [
    {
     "ename": "NameError",
     "evalue": "name 'phrase' is not defined",
     "output_type": "error",
     "traceback": [
      "\u001b[0;31m---------------------------------------------------------------------------\u001b[0m",
      "\u001b[0;31mNameError\u001b[0m                                 Traceback (most recent call last)",
      "\u001b[0;32m<ipython-input-33-92042dd610b4>\u001b[0m in \u001b[0;36m<module>\u001b[0;34m()\u001b[0m\n\u001b[0;32m----> 1\u001b[0;31m \u001b[0mcomments_with_sentences_100\u001b[0m\u001b[0;34m.\u001b[0m\u001b[0mloc\u001b[0m\u001b[0;34m[\u001b[0m\u001b[0mcomments_with_sentences_100\u001b[0m\u001b[0;34m.\u001b[0m\u001b[0msentence\u001b[0m\u001b[0;34m.\u001b[0m\u001b[0mstr\u001b[0m\u001b[0;34m.\u001b[0m\u001b[0mcontains\u001b[0m\u001b[0;34m(\u001b[0m\u001b[0mphrase\u001b[0m\u001b[0;34m)\u001b[0m \u001b[0;34m==\u001b[0m \u001b[0;32mTrue\u001b[0m\u001b[0;34m,\u001b[0m \u001b[0;34m'category'\u001b[0m\u001b[0;34m]\u001b[0m \u001b[0;34m=\u001b[0m \u001b[0;34m'substitute'\u001b[0m\u001b[0;34m\u001b[0m\u001b[0m\n\u001b[0m",
      "\u001b[0;31mNameError\u001b[0m: name 'phrase' is not defined"
     ]
    }
   ],
   "source": [
    "comments_with_sentences_100.loc[comments_with_sentences_100.sentence.str.contains(phrase) == True, 'category'] = 'substitute'"
   ]
  },
  {
   "cell_type": "code",
   "execution_count": null,
   "metadata": {
    "collapsed": true
   },
   "outputs": [],
   "source": [
    "phrase = 'reduc'"
   ]
  },
  {
   "cell_type": "code",
   "execution_count": null,
   "metadata": {
    "collapsed": true
   },
   "outputs": [],
   "source": [
    "comments_with_sentences_100[comments_with_sentences_100.sentence.str.contains(phrase)] # = 'add'"
   ]
  },
  {
   "cell_type": "markdown",
   "metadata": {
    "collapsed": true
   },
   "source": [
    "## a dictionary of related words to classify with"
   ]
  },
  {
   "cell_type": "code",
   "execution_count": 36,
   "metadata": {
    "collapsed": true
   },
   "outputs": [],
   "source": [
    "subs = ['had trouble','had issue','exchange','recommend','change','easier','gluten free','gluten-free','vegan','vegetarian','easier','replace with','replac','adjust','suggest','swap','switch','instead of','in place of','substitute','replace','i use','to make it','customiz','adjust','instead','exchang','opted to use','better with']\n",
    "\n",
    "add = ['will ad','will do','next time','going to add','add more','better with','includ','i up','should have ad']\n",
    "\n",
    "omit = ['omit','leave out','remov','left out','eliminat','add less','forgot','decreas','dispensed with','delet','reduc','should have left out']"
   ]
  },
  {
   "cell_type": "code",
   "execution_count": 38,
   "metadata": {
    "collapsed": false
   },
   "outputs": [
    {
     "data": {
      "text/plain": [
       "47"
      ]
     },
     "execution_count": 38,
     "metadata": {},
     "output_type": "execute_result"
    }
   ],
   "source": [
    "len(set(add+subs+omit))"
   ]
  },
  {
   "cell_type": "code",
   "execution_count": null,
   "metadata": {
    "collapsed": false
   },
   "outputs": [],
   "source": [
    "# for _, row in comments_with_sentences_100[:1].iterrows():\n",
    "#     print(row['usercomment'])\n",
    "# #     for phrase in subs: \n",
    "        \n",
    "#         if row.usercomment.str.contains(phrase):\n",
    "#             row.category = 'substitute'\n",
    "\n",
    "comments_with_sentences_100['category'] = 'other'\n",
    "\n",
    "for phrase in omit: \n",
    "    comments_with_sentences_100.loc[comments_with_sentences_100.sentence.str.contains(phrase) == True, 'category'] = 'omission'\n",
    "    \n",
    "for phrase in subs: \n",
    "    comments_with_sentences_100.loc[comments_with_sentences_100.sentence.str.contains(phrase) == True, 'category'] = 'substitution'\n",
    "    \n",
    "for phrase in add: \n",
    "    comments_with_sentences_100.loc[comments_with_sentences_100.sentence.str.contains(phrase) == True, 'category'] = 'addition'\n",
    "    \n"
   ]
  },
  {
   "cell_type": "code",
   "execution_count": null,
   "metadata": {
    "collapsed": false
   },
   "outputs": [],
   "source": [
    "comments_with_sentences_100.loc[comments_with_sentences_100.sentence.str.contains(phrase) == True]"
   ]
  },
  {
   "cell_type": "code",
   "execution_count": null,
   "metadata": {
    "collapsed": false
   },
   "outputs": [],
   "source": [
    "print('other, %i; additions, %i; substitutions, %i; omissions, %i' % (comments_with_sentences_100[comments_with_sentences_100.category == 'other'].sentence.count(), comments_with_sentences_100[comments_with_sentences_100.category == 'addition'].sentence.count(), comments_with_sentences_100[comments_with_sentences_100.category == 'substitution'].sentence.count(), comments_with_sentences_100[comments_with_sentences_100.category == 'omission'].sentence.count()))"
   ]
  },
  {
   "cell_type": "code",
   "execution_count": 52,
   "metadata": {
    "collapsed": false
   },
   "outputs": [
    {
     "data": {
      "text/plain": [
       "(97316, 18)"
      ]
     },
     "execution_count": 52,
     "metadata": {},
     "output_type": "execute_result"
    }
   ],
   "source": [
    "comments_with_sentences_100.shape"
   ]
  },
  {
   "cell_type": "code",
   "execution_count": null,
   "metadata": {
    "collapsed": true
   },
   "outputs": [],
   "source": [
    "comments_with_sentences_100.to_csv('comments_with_sentences_100_classified_4classes.csv')"
   ]
  },
  {
   "cell_type": "code",
   "execution_count": 54,
   "metadata": {
    "collapsed": false
   },
   "outputs": [
    {
     "data": {
      "text/plain": [
       "Index(['Unnamed: 0', 'mean_negativity_sentences', 'mean_positivity_comment',\n",
       "       'plot_name', 'recipe_title', 'numberofcomments', 'sentence_rank',\n",
       "       'recipe_ID', 'comment_rank', 'mean_positivity_sentences',\n",
       "       'mean_negativity_comment'],\n",
       "      dtype='object')"
      ]
     },
     "execution_count": 54,
     "metadata": {},
     "output_type": "execute_result"
    }
   ],
   "source": [
    "recipe_ranks = pd.read_csv('Recipe_sentiment_ranks.csv')\n",
    "recipe_ranks.columns"
   ]
  },
  {
   "cell_type": "code",
   "execution_count": 56,
   "metadata": {
    "collapsed": false
   },
   "outputs": [
    {
     "data": {
      "text/plain": [
       "array([[<matplotlib.axes._subplots.AxesSubplot object at 0x128cbe588>]], dtype=object)"
      ]
     },
     "execution_count": 56,
     "metadata": {},
     "output_type": "execute_result"
    },
    {
     "data": {
      "image/png": "[encoded data removed]",
      "text/plain": [
       "<matplotlib.figure.Figure at 0x118445400>"
      ]
     },
     "metadata": {},
     "output_type": "display_data"
    }
   ],
   "source": [
    "recipe_ranks.hist('comment_rank')"
   ]
  },
  {
   "cell_type": "code",
   "execution_count": 59,
   "metadata": {
    "collapsed": false
   },
   "outputs": [
    {
     "data": {
      "text/plain": [
       "array([[<matplotlib.axes._subplots.AxesSubplot object at 0x118445f28>]], dtype=object)"
      ]
     },
     "execution_count": 59,
     "metadata": {},
     "output_type": "execute_result"
    },
    {
     "data": {
      "image/png": "[encoded data removed]",
      "text/plain": [
       "<matplotlib.figure.Figure at 0x1312100f0>"
      ]
     },
     "metadata": {},
     "output_type": "display_data"
    }
   ],
   "source": [
    "recipe_ranks.hist('numberofcomments')"
   ]
  },
  {
   "cell_type": "code",
   "execution_count": null,
   "metadata": {
    "collapsed": true
   },
   "outputs": [],
   "source": []
  }
 ],
 "metadata": {
  "anaconda-cloud": {},
  "kernelspec": {
   "display_name": "Python [conda env:py3]",
   "language": "python",
   "name": "conda-env-py3-py"
  },
  "language_info": {
   "codemirror_mode": {
    "name": "ipython",
    "version": 3
   },
   "file_extension": ".py",
   "mimetype": "text/x-python",
   "name": "python",
   "nbconvert_exporter": "python",
   "pygments_lexer": "ipython3",
   "version": "3.5.2"
  }
 },
 "nbformat": 4,
 "nbformat_minor": 1
}
