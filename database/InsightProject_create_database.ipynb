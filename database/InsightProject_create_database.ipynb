{
 "cells": [
  {
   "cell_type": "code",
   "execution_count": 1,
   "metadata": {
    "collapsed": false
   },
   "outputs": [
    {
     "data": {
      "text/plain": [
       "MetaData(bind=None)"
      ]
     },
     "execution_count": 1,
     "metadata": {},
     "output_type": "execute_result"
    }
   ],
   "source": [
    "from __future__ import print_function, division\n",
    "import sqlalchemy as sql\n",
    "from sqlalchemy import create_engine\n",
    "from sqlalchemy_utils import database_exists, create_database\n",
    "import psycopg2\n",
    "import pandas as pd\n",
    "\n",
    "sql.MetaData()"
   ]
  },
  {
   "cell_type": "code",
   "execution_count": 2,
   "metadata": {
    "collapsed": true
   },
   "outputs": [],
   "source": [
    "dbname = 'insight_project'\n",
    "username = 'kateliea'"
   ]
  },
  {
   "cell_type": "code",
   "execution_count": 3,
   "metadata": {
    "collapsed": false
   },
   "outputs": [
    {
     "name": "stdout",
     "output_type": "stream",
     "text": [
      "postgres://kateliea@localhost/insight_project\n"
     ]
    }
   ],
   "source": [
    "engine = create_engine('postgres://%s@localhost/%s' % (username, dbname))\n",
    "print(engine.url)"
   ]
  },
  {
   "cell_type": "code",
   "execution_count": 4,
   "metadata": {
    "collapsed": false
   },
   "outputs": [
    {
     "name": "stdout",
     "output_type": "stream",
     "text": [
      "True\n"
     ]
    }
   ],
   "source": [
    "if not database_exists(engine.url):\n",
    "    create_database(engine.url)\n",
    "print(database_exists(engine.url))"
   ]
  },
  {
   "cell_type": "code",
   "execution_count": 5,
   "metadata": {
    "collapsed": false
   },
   "outputs": [],
   "source": [
    "train = pd.read_csv('/Users/kateliea/Documents/Insight/project/algorithm/training_data.csv', index_col=0)"
   ]
  },
  {
   "cell_type": "code",
   "execution_count": 6,
   "metadata": {
    "collapsed": false
   },
   "outputs": [
    {
     "data": {
      "text/plain": [
       "Index([u'sentence', u'commentID', u'child_id', u'children', u'comment_time',\n",
       "       u'recipenumber', u'title', u'url', u'usercomment', u'username',\n",
       "       u'usersite', u'usercomment_lower', u'tokens', u'tokens_stemmed',\n",
       "       u'sentence_tokens', u'sentence_tokens_stemmed_stops',\n",
       "       u'sentence_tokens_stemmed', u'category', u'category_simple',\n",
       "       u'sent_neg', u'sent_neu', u'sent_pos', u'sent_compound'],\n",
       "      dtype='object')"
      ]
     },
     "execution_count": 6,
     "metadata": {},
     "output_type": "execute_result"
    }
   ],
   "source": [
    "train.columns"
   ]
  },
  {
   "cell_type": "code",
   "execution_count": 7,
   "metadata": {
    "collapsed": true
   },
   "outputs": [],
   "source": [
    "train.to_sql('training_data_table',engine,if_exists='replace')"
   ]
  },
  {
   "cell_type": "raw",
   "metadata": {},
   "source": [
    "pd.read_csv('/Users/kateliea/Documents/Insight/project/algorithm/training_data.csv').to_sql('')"
   ]
  },
  {
   "cell_type": "code",
   "execution_count": 8,
   "metadata": {
    "collapsed": false
   },
   "outputs": [
    {
     "data": {
      "text/plain": [
       "[u'sentences_table',\n",
       " u'recipes_table',\n",
       " u'comments_table',\n",
       " u'training_data_table']"
      ]
     },
     "execution_count": 8,
     "metadata": {},
     "output_type": "execute_result"
    }
   ],
   "source": [
    "engine.table_names()"
   ]
  },
  {
   "cell_type": "code",
   "execution_count": 9,
   "metadata": {
    "collapsed": true
   },
   "outputs": [],
   "source": [
    "# connect:\n",
    "con = None\n",
    "con = psycopg2.connect(database = dbname, user = username)"
   ]
  },
  {
   "cell_type": "code",
   "execution_count": 10,
   "metadata": {
    "collapsed": false
   },
   "outputs": [
    {
     "data": {
      "text/html": [
       "<div>\n",
       "<table border=\"1\" class=\"dataframe\">\n",
       "  <thead>\n",
       "    <tr style=\"text-align: right;\">\n",
       "      <th></th>\n",
       "      <th>index</th>\n",
       "      <th>sentence</th>\n",
       "      <th>commentID</th>\n",
       "      <th>child_id</th>\n",
       "      <th>children</th>\n",
       "      <th>comment_time</th>\n",
       "      <th>recipenumber</th>\n",
       "      <th>title</th>\n",
       "      <th>url</th>\n",
       "      <th>usercomment</th>\n",
       "      <th>...</th>\n",
       "      <th>tokens_stemmed</th>\n",
       "      <th>sentence_tokens</th>\n",
       "      <th>sentence_tokens_stemmed_stops</th>\n",
       "      <th>sentence_tokens_stemmed</th>\n",
       "      <th>category</th>\n",
       "      <th>category_simple</th>\n",
       "      <th>sent_neg</th>\n",
       "      <th>sent_neu</th>\n",
       "      <th>sent_pos</th>\n",
       "      <th>sent_compound</th>\n",
       "    </tr>\n",
       "  </thead>\n",
       "  <tbody>\n",
       "    <tr>\n",
       "      <th>0</th>\n",
       "      <td>0</td>\n",
       "      <td>oh my – a little piece of heaven right there a...</td>\n",
       "      <td>0</td>\n",
       "      <td>0</td>\n",
       "      <td>no</td>\n",
       "      <td>2009-11-17 11:44:00</td>\n",
       "      <td>0</td>\n",
       "      <td>sweet potato buttermilk pie</td>\n",
       "      <td>https://smittenkitchen.com/2009/11/sweet-potat...</td>\n",
       "      <td>Oh my – a little piece of heaven right there a...</td>\n",
       "      <td>...</td>\n",
       "      <td>oh my – a littl piec of heaven right there and...</td>\n",
       "      <td>oh my – a little piece of heaven right there a...</td>\n",
       "      <td>oh – littl piec heaven right time holiday</td>\n",
       "      <td>oh my – a littl piec of heaven right there and...</td>\n",
       "      <td>other</td>\n",
       "      <td>other</td>\n",
       "      <td>0.000</td>\n",
       "      <td>0.687</td>\n",
       "      <td>0.313</td>\n",
       "      <td>0.7121</td>\n",
       "    </tr>\n",
       "    <tr>\n",
       "      <th>1</th>\n",
       "      <td>1</td>\n",
       "      <td>yes, please!</td>\n",
       "      <td>1</td>\n",
       "      <td>0</td>\n",
       "      <td>no</td>\n",
       "      <td>2009-11-17 11:44:00</td>\n",
       "      <td>0</td>\n",
       "      <td>sweet potato buttermilk pie</td>\n",
       "      <td>https://smittenkitchen.com/2009/11/sweet-potat...</td>\n",
       "      <td>yes, please!</td>\n",
       "      <td>...</td>\n",
       "      <td>ye , pleas !</td>\n",
       "      <td>yes , please !</td>\n",
       "      <td>ye pleas</td>\n",
       "      <td>ye , pleas !</td>\n",
       "      <td>other</td>\n",
       "      <td>other</td>\n",
       "      <td>0.000</td>\n",
       "      <td>0.000</td>\n",
       "      <td>1.000</td>\n",
       "      <td>0.6476</td>\n",
       "    </tr>\n",
       "    <tr>\n",
       "      <th>2</th>\n",
       "      <td>2</td>\n",
       "      <td>ive never made sweet potato pie!</td>\n",
       "      <td>2</td>\n",
       "      <td>0</td>\n",
       "      <td>no</td>\n",
       "      <td>2009-11-17 11:44:00</td>\n",
       "      <td>0</td>\n",
       "      <td>sweet potato buttermilk pie</td>\n",
       "      <td>https://smittenkitchen.com/2009/11/sweet-potat...</td>\n",
       "      <td>Ive never made sweet potato pie! I’d love to t...</td>\n",
       "      <td>...</td>\n",
       "      <td>ive never made sweet potato pie ! i’d love to ...</td>\n",
       "      <td>ive never made sweet potato pie !</td>\n",
       "      <td>never made sweet potato pie</td>\n",
       "      <td>ive never made sweet potato pie !</td>\n",
       "      <td>other</td>\n",
       "      <td>other</td>\n",
       "      <td>0.357</td>\n",
       "      <td>0.643</td>\n",
       "      <td>0.000</td>\n",
       "      <td>-0.4160</td>\n",
       "    </tr>\n",
       "    <tr>\n",
       "      <th>3</th>\n",
       "      <td>3</td>\n",
       "      <td>i’d love to try for the holidays!</td>\n",
       "      <td>2</td>\n",
       "      <td>0</td>\n",
       "      <td>no</td>\n",
       "      <td>2009-11-17 11:44:00</td>\n",
       "      <td>0</td>\n",
       "      <td>sweet potato buttermilk pie</td>\n",
       "      <td>https://smittenkitchen.com/2009/11/sweet-potat...</td>\n",
       "      <td>Ive never made sweet potato pie! I’d love to t...</td>\n",
       "      <td>...</td>\n",
       "      <td>ive never made sweet potato pie ! i’d love to ...</td>\n",
       "      <td>i’d love to try for the holidays !</td>\n",
       "      <td>i’d love tri holiday</td>\n",
       "      <td>i’d love to tri for the holiday !</td>\n",
       "      <td>other</td>\n",
       "      <td>other</td>\n",
       "      <td>0.000</td>\n",
       "      <td>0.413</td>\n",
       "      <td>0.587</td>\n",
       "      <td>0.7959</td>\n",
       "    </tr>\n",
       "    <tr>\n",
       "      <th>4</th>\n",
       "      <td>4</td>\n",
       "      <td>this is definitely going on my must make list.</td>\n",
       "      <td>3</td>\n",
       "      <td>0</td>\n",
       "      <td>no</td>\n",
       "      <td>2009-11-17 11:44:00</td>\n",
       "      <td>0</td>\n",
       "      <td>sweet potato buttermilk pie</td>\n",
       "      <td>https://smittenkitchen.com/2009/11/sweet-potat...</td>\n",
       "      <td>This is definitely going on my Must Make list....</td>\n",
       "      <td>...</td>\n",
       "      <td>thi is definit go on my must make list . here ...</td>\n",
       "      <td>this is definitely going on my must make list .</td>\n",
       "      <td>definit go must make list</td>\n",
       "      <td>thi is definit go on my must make list .</td>\n",
       "      <td>other</td>\n",
       "      <td>other</td>\n",
       "      <td>0.000</td>\n",
       "      <td>0.748</td>\n",
       "      <td>0.252</td>\n",
       "      <td>0.4019</td>\n",
       "    </tr>\n",
       "  </tbody>\n",
       "</table>\n",
       "<p>5 rows × 24 columns</p>\n",
       "</div>"
      ],
      "text/plain": [
       "   index                                           sentence  commentID  \\\n",
       "0      0  oh my – a little piece of heaven right there a...          0   \n",
       "1      1                                       yes, please!          1   \n",
       "2      2                   ive never made sweet potato pie!          2   \n",
       "3      3                  i’d love to try for the holidays!          2   \n",
       "4      4     this is definitely going on my must make list.          3   \n",
       "\n",
       "   child_id children         comment_time  recipenumber  \\\n",
       "0         0       no  2009-11-17 11:44:00             0   \n",
       "1         0       no  2009-11-17 11:44:00             0   \n",
       "2         0       no  2009-11-17 11:44:00             0   \n",
       "3         0       no  2009-11-17 11:44:00             0   \n",
       "4         0       no  2009-11-17 11:44:00             0   \n",
       "\n",
       "                         title  \\\n",
       "0  sweet potato buttermilk pie   \n",
       "1  sweet potato buttermilk pie   \n",
       "2  sweet potato buttermilk pie   \n",
       "3  sweet potato buttermilk pie   \n",
       "4  sweet potato buttermilk pie   \n",
       "\n",
       "                                                 url  \\\n",
       "0  https://smittenkitchen.com/2009/11/sweet-potat...   \n",
       "1  https://smittenkitchen.com/2009/11/sweet-potat...   \n",
       "2  https://smittenkitchen.com/2009/11/sweet-potat...   \n",
       "3  https://smittenkitchen.com/2009/11/sweet-potat...   \n",
       "4  https://smittenkitchen.com/2009/11/sweet-potat...   \n",
       "\n",
       "                                         usercomment      ...       \\\n",
       "0  Oh my – a little piece of heaven right there a...      ...        \n",
       "1                                       yes, please!      ...        \n",
       "2  Ive never made sweet potato pie! I’d love to t...      ...        \n",
       "3  Ive never made sweet potato pie! I’d love to t...      ...        \n",
       "4  This is definitely going on my Must Make list....      ...        \n",
       "\n",
       "                                      tokens_stemmed  \\\n",
       "0  oh my – a littl piec of heaven right there and...   \n",
       "1                                       ye , pleas !   \n",
       "2  ive never made sweet potato pie ! i’d love to ...   \n",
       "3  ive never made sweet potato pie ! i’d love to ...   \n",
       "4  thi is definit go on my must make list . here ...   \n",
       "\n",
       "                                     sentence_tokens  \\\n",
       "0  oh my – a little piece of heaven right there a...   \n",
       "1                                     yes , please !   \n",
       "2                  ive never made sweet potato pie !   \n",
       "3                 i’d love to try for the holidays !   \n",
       "4    this is definitely going on my must make list .   \n",
       "\n",
       "               sentence_tokens_stemmed_stops  \\\n",
       "0  oh – littl piec heaven right time holiday   \n",
       "1                                   ye pleas   \n",
       "2                never made sweet potato pie   \n",
       "3                       i’d love tri holiday   \n",
       "4                  definit go must make list   \n",
       "\n",
       "                             sentence_tokens_stemmed category category_simple  \\\n",
       "0  oh my – a littl piec of heaven right there and...    other           other   \n",
       "1                                       ye , pleas !    other           other   \n",
       "2                  ive never made sweet potato pie !    other           other   \n",
       "3                  i’d love to tri for the holiday !    other           other   \n",
       "4           thi is definit go on my must make list .    other           other   \n",
       "\n",
       "  sent_neg sent_neu sent_pos sent_compound  \n",
       "0    0.000    0.687    0.313        0.7121  \n",
       "1    0.000    0.000    1.000        0.6476  \n",
       "2    0.357    0.643    0.000       -0.4160  \n",
       "3    0.000    0.413    0.587        0.7959  \n",
       "4    0.000    0.748    0.252        0.4019  \n",
       "\n",
       "[5 rows x 24 columns]"
      ]
     },
     "execution_count": 10,
     "metadata": {},
     "output_type": "execute_result"
    }
   ],
   "source": [
    "# query:\n",
    "sql_query = \"\"\"\n",
    "SELECT * FROM training_data_table;\n",
    "\"\"\"\n",
    "data = pd.read_sql_query(sql_query,con)\n",
    "\n",
    "data.head()"
   ]
  },
  {
   "cell_type": "code",
   "execution_count": 11,
   "metadata": {
    "collapsed": false
   },
   "outputs": [],
   "source": [
    "query = \"\"\"\n",
    "      SELECT title, url FROM recipes_table; \n",
    "      \"\"\"\n",
    "query_results = pd.read_sql_query(query,con)\n",
    "recipes = []\n",
    "for i in range(0,query_results.shape[0]):\n",
    "    recipes.append(dict(index=i, recipe_title=query_results.iloc[i]['title'].decode('utf-8'), url=query_results.iloc[i]['url'].decode('utf-8')))\n"
   ]
  },
  {
   "cell_type": "code",
   "execution_count": 12,
   "metadata": {
    "collapsed": false
   },
   "outputs": [
    {
     "ename": "UnicodeEncodeError",
     "evalue": "'ascii' codec can't encode character u'\\xa0' in position 16: ordinal not in range(128)",
     "output_type": "error",
     "traceback": [
      "\u001b[0;31m---------------------------------------------------------------------------\u001b[0m",
      "\u001b[0;31mUnicodeEncodeError\u001b[0m                        Traceback (most recent call last)",
      "\u001b[0;32m<ipython-input-12-d3602b580516>\u001b[0m in \u001b[0;36m<module>\u001b[0;34m()\u001b[0m\n\u001b[0;32m----> 1\u001b[0;31m \u001b[0;34m(\u001b[0m\u001b[0mrecipes\u001b[0m\u001b[0;34m[\u001b[0m\u001b[0;36m0\u001b[0m\u001b[0;34m]\u001b[0m\u001b[0;34m[\u001b[0m\u001b[0;34m'recipe_title'\u001b[0m\u001b[0;34m]\u001b[0m\u001b[0;34m)\u001b[0m\u001b[0;34m.\u001b[0m\u001b[0mdecode\u001b[0m\u001b[0;34m(\u001b[0m\u001b[0;34m'utf-8'\u001b[0m\u001b[0;34m)\u001b[0m\u001b[0;34m\u001b[0m\u001b[0m\n\u001b[0m",
      "\u001b[0;32m/Users/kateliea/anaconda/envs/py2ins/lib/python2.7/encodings/utf_8.pyc\u001b[0m in \u001b[0;36mdecode\u001b[0;34m(input, errors)\u001b[0m\n\u001b[1;32m     14\u001b[0m \u001b[0;34m\u001b[0m\u001b[0m\n\u001b[1;32m     15\u001b[0m \u001b[0;32mdef\u001b[0m \u001b[0mdecode\u001b[0m\u001b[0;34m(\u001b[0m\u001b[0minput\u001b[0m\u001b[0;34m,\u001b[0m \u001b[0merrors\u001b[0m\u001b[0;34m=\u001b[0m\u001b[0;34m'strict'\u001b[0m\u001b[0;34m)\u001b[0m\u001b[0;34m:\u001b[0m\u001b[0;34m\u001b[0m\u001b[0m\n\u001b[0;32m---> 16\u001b[0;31m     \u001b[0;32mreturn\u001b[0m \u001b[0mcodecs\u001b[0m\u001b[0;34m.\u001b[0m\u001b[0mutf_8_decode\u001b[0m\u001b[0;34m(\u001b[0m\u001b[0minput\u001b[0m\u001b[0;34m,\u001b[0m \u001b[0merrors\u001b[0m\u001b[0;34m,\u001b[0m \u001b[0mTrue\u001b[0m\u001b[0;34m)\u001b[0m\u001b[0;34m\u001b[0m\u001b[0m\n\u001b[0m\u001b[1;32m     17\u001b[0m \u001b[0;34m\u001b[0m\u001b[0m\n\u001b[1;32m     18\u001b[0m \u001b[0;32mclass\u001b[0m \u001b[0mIncrementalEncoder\u001b[0m\u001b[0;34m(\u001b[0m\u001b[0mcodecs\u001b[0m\u001b[0;34m.\u001b[0m\u001b[0mIncrementalEncoder\u001b[0m\u001b[0;34m)\u001b[0m\u001b[0;34m:\u001b[0m\u001b[0;34m\u001b[0m\u001b[0m\n",
      "\u001b[0;31mUnicodeEncodeError\u001b[0m: 'ascii' codec can't encode character u'\\xa0' in position 16: ordinal not in range(128)"
     ]
    }
   ],
   "source": [
    "(recipes[0]['recipe_title']).decode('utf-8')"
   ]
  },
  {
   "cell_type": "code",
   "execution_count": 13,
   "metadata": {
    "collapsed": false
   },
   "outputs": [],
   "source": [
    "recipes = sorted(recipes)"
   ]
  },
  {
   "cell_type": "code",
   "execution_count": null,
   "metadata": {
    "collapsed": true
   },
   "outputs": [],
   "source": [
    "recipes"
   ]
  },
  {
   "cell_type": "code",
   "execution_count": null,
   "metadata": {
    "collapsed": true
   },
   "outputs": [],
   "source": []
  }
 ],
 "metadata": {
  "anaconda-cloud": {},
  "kernelspec": {
   "display_name": "Python [conda env:py2ins]",
   "language": "python",
   "name": "conda-env-py2ins-py"
  },
  "language_info": {
   "codemirror_mode": {
    "name": "ipython",
    "version": 2
   },
   "file_extension": ".py",
   "mimetype": "text/x-python",
   "name": "python",
   "nbconvert_exporter": "python",
   "pygments_lexer": "ipython2",
   "version": "2.7.12"
  }
 },
 "nbformat": 4,
 "nbformat_minor": 1
}
