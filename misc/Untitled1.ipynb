{
 "cells": [
  {
   "cell_type": "code",
   "execution_count": 1,
   "metadata": {
    "collapsed": false
   },
   "outputs": [
    {
     "data": {
      "text/html": [
       "<style>.container { width:100% !important; float:center}</style>"
      ],
      "text/plain": [
       "<IPython.core.display.HTML object>"
      ]
     },
     "execution_count": 1,
     "metadata": {},
     "output_type": "execute_result"
    }
   ],
   "source": [
    "from IPython.core.display import HTML\n",
    "HTML(\"<style>.container { width:100% !important; float:center}</style>\")"
   ]
  },
  {
   "cell_type": "code",
   "execution_count": 2,
   "metadata": {
    "collapsed": true
   },
   "outputs": [],
   "source": [
    "from __future__ import division, print_function\n",
    "\n",
    "# from sys import argv\n",
    "# import os\n",
    "# import glob\n",
    "# import math\n",
    "import re\n",
    "import pandas as pd\n",
    "# import numpy as np\n",
    "# import scipy as sp\n",
    "# import scipy.stats as sps\n",
    "# import matplotlib.pyplot as plt\n",
    "# import seaborn as sns\n",
    "# import simplejson as jsn\n",
    "import requests \n",
    "from time import sleep\n",
    "import json\n",
    "import re\n",
    "from urllib import urlretrieve, urlopen \n",
    "from bs4 import BeautifulSoup\n",
    "import datetime\n",
    "import time\n",
    "\n",
    "# %matplotlib inline\n",
    "\n",
    "# sns.set_context('notebook')\n",
    "# sns.set_style('ticks')"
   ]
  },
  {
   "cell_type": "code",
   "execution_count": 3,
   "metadata": {
    "collapsed": true
   },
   "outputs": [],
   "source": [
    "def OpenPage(url):\n",
    "    try: \n",
    "        html = urlopen(url)\n",
    "    except HTTPError as e: \n",
    "        return None\n",
    "\n",
    "    try:\n",
    "        pageData = BeautifulSoup(html, 'lxml') #,\"html.parser\")\n",
    "    except AttributeError as e: \n",
    "        return None\n",
    "    return pageData\n",
    "\n",
    "\n",
    "def TryFind(search):\n",
    "    try: \n",
    "        result = search\n",
    "    except (AttributeError, TypeError) as (e,te): \n",
    "        return None\n",
    "    return result\n",
    "\n",
    "\n",
    "def GetText(search):\n",
    "    if search == None:\n",
    "        return 'none'\n",
    "    else: \n",
    "        try: \n",
    "            text = search.get_text().strip()\n",
    "        except AttributeError as e: \n",
    "            return None\n",
    "        return text\n",
    "    \n",
    "    \n",
    "def GetLink(search):\n",
    "    if search == None:\n",
    "        return 'none'\n",
    "    else:\n",
    "        try: \n",
    "            link = search.attrs['href']\n",
    "        except AttributeError as e:\n",
    "            return None\n",
    "        return link\n",
    "\n",
    "\n",
    "def ScrapeSitemap(url):\n",
    "    '''returns urls under <loc> tag in sitemap, as text string'''\n",
    "    sitemap = OpenPage(url)\n",
    "    taglist = sitemap.findAll('loc')\n",
    "    urllist = [elem.text for elem in taglist]\n",
    "    return urllist\n",
    "\n",
    "\n",
    "def URLFilter(urllist, expression):\n",
    "    '''filters url list via regex to eliminate non-recipe pages (category aggregations, misc posts, etc)'''\n",
    "    matches = []\n",
    "    for url in urllist: \n",
    "        match = re.match(expression, url)\n",
    "        if match: \n",
    "            matches += [match.group(0)]\n",
    "    return matches"
   ]
  },
  {
   "cell_type": "code",
   "execution_count": 5,
   "metadata": {
    "collapsed": true
   },
   "outputs": [],
   "source": [
    "def CommentData_SK(comment, ID, children, child_id):\n",
    "    '''get the data from each comment - '''\n",
    "    comment_info = {}\n",
    "\n",
    "    name = TryFind(comment.find('b',{'class':'fn author-name'}))\n",
    "    if TryFind(name.find('a')) == None:\n",
    "        comment_info['username'] = GetText(TryFind(comment.find('b',{'class':'fn author-name'})))\n",
    "        comment_info['usersite'] = 'none'\n",
    "\n",
    "    else: \n",
    "        comment_info['username'] = TryFind(comment.find('a')).contents[0]\n",
    "        comment_info['usersite'] = TryFind(comment.find('a')).attrs['href']\n",
    "\n",
    "        \n",
    "    comment_info['usercomment'] = GetText(TryFind(comment.find('div',{'class':'comment-content'}).find('p')))\n",
    "    comment_info['children'] = children\n",
    "    comment_info['child_id'] = child_id\n",
    "    comment_info['commentID'] = ID\n",
    "\n",
    "    return comment_info\n",
    "\n",
    "\n",
    "def GetComments_SK(soup):\n",
    "    '''get comments and their place in the hierarchy'''\n",
    "\n",
    "    comments_data = {}\n",
    "\n",
    "    allcomments = TryFind(soup.find('ol',{'class':'comment-list'}))\n",
    "    number_of_comments = len(allcomments.findAll('article',{'class':'comment-body'}))\n",
    "\n",
    "    comment = allcomments.find('article',{'class':'comment-body'})\n",
    "\n",
    "    for comment_ID in range(0, number_of_comments):\n",
    "\n",
    "        nextComment = comment.findNext('article',{'class':'comment-body'})\n",
    "\n",
    "#         # look for parents\n",
    "#         if comment_ID!= 1: \n",
    "#             if comment.parent.parent['class'][0] == 'children':\n",
    "#                 comment_has_parent, parent_id = 'yes', 0\n",
    "#         else: comment_has_parent, parent_id = 'no', 0\n",
    "\n",
    "\n",
    "        # look for children\n",
    "        if comment_ID < number_of_comments-1:\n",
    "            if nextComment.parent.parent['class'][0] == 'children':\n",
    "                comment_has_children, child_id = 'yes', comment_ID+1\n",
    "            else: comment_has_children, child_id = 'no', 0 \n",
    "\n",
    "        comments_data[comment_ID] = CommentData_SK(comment, comment_ID, comment_has_children, child_id)\n",
    "\n",
    "        comment = comment.findNext('article')\n",
    "\n",
    "    return comments_data, number_of_comments"
   ]
  },
  {
   "cell_type": "code",
   "execution_count": 4,
   "metadata": {
    "collapsed": true
   },
   "outputs": [],
   "source": [
    "url = 'https://smittenkitchen.com'\n",
    "sk_sitemap = 'https://smittenkitchen.com/sitemap.xml'\n",
    "\n",
    "# for SK, recipes are listed in <url>/yr/mo/<name> format, other aggregations/lists do not have this same formatting \n",
    "sk_regex = 'https://smittenkitchen.com/[0-9]{3,}.*'\n",
    "\n",
    "\n",
    "urls_sk = URLFilter(ScrapeSitemap(sk_sitemap), sk_regex)"
   ]
  },
  {
   "cell_type": "code",
   "execution_count": 7,
   "metadata": {
    "collapsed": true
   },
   "outputs": [],
   "source": [
    "url = urls_sk[0]\n",
    "soup = OpenPage(url)\n",
    "\n",
    "allcomments = TryFind(soup.find('ol',{'class':'comment-list'}))\n",
    "number_of_comments = len(allcomments.findAll('article',{'class':'comment-body'}))\n",
    "\n",
    "comment = allcomments.find('article',{'class':'comment-body'})\n"
   ]
  },
  {
   "cell_type": "code",
   "execution_count": 13,
   "metadata": {
    "collapsed": false
   },
   "outputs": [],
   "source": [
    "a = comment.find('footer',{'class':'comment-footer comment-metadata'}).find('time',{'class':'comment-time'})"
   ]
  },
  {
   "cell_type": "code",
   "execution_count": 20,
   "metadata": {
    "collapsed": false
   },
   "outputs": [
    {
     "data": {
      "text/plain": [
       "<time class=\"comment-time\">\\n<a href=\" https://smittenkitchen.com/2010/04/classic-cobb-salad/#comment-707336\">\\n<span class=\"date\">April 14, 2010</span>\\n\\t\\t\\t\\t\\t\\tat\\t\\t\\t\\t\\t\\t<span class=\"time\">10:14 pm</span>\\n</a>\\n</time>"
      ]
     },
     "execution_count": 20,
     "metadata": {},
     "output_type": "execute_result"
    }
   ],
   "source": [
    "time."
   ]
  },
  {
   "cell_type": "code",
   "execution_count": null,
   "metadata": {
    "collapsed": true
   },
   "outputs": [],
   "source": []
  }
 ],
 "metadata": {
  "kernelspec": {
   "display_name": "Python [py2ins]",
   "language": "python",
   "name": "Python [py2ins]"
  },
  "language_info": {
   "codemirror_mode": {
    "name": "ipython",
    "version": 2
   },
   "file_extension": ".py",
   "mimetype": "text/x-python",
   "name": "python",
   "nbconvert_exporter": "python",
   "pygments_lexer": "ipython2",
   "version": "2.7.12"
  }
 },
 "nbformat": 4,
 "nbformat_minor": 0
}
