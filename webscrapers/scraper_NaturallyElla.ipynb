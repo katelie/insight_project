{
 "cells": [
  {
   "cell_type": "code",
   "execution_count": 1,
   "metadata": {
    "collapsed": false,
    "nbpresent": {
     "id": "eb315e31-1018-4bdf-a24c-267366440e89"
    }
   },
   "outputs": [
    {
     "data": {
      "text/html": [
       "<style>.container { width:100% !important; float:center}</style>"
      ],
      "text/plain": [
       "<IPython.core.display.HTML object>"
      ]
     },
     "execution_count": 1,
     "metadata": {},
     "output_type": "execute_result"
    }
   ],
   "source": [
    "from IPython.core.display import HTML\n",
    "HTML(\"<style>.container { width:100% !important; float:center}</style>\")"
   ]
  },
  {
   "cell_type": "code",
   "execution_count": 2,
   "metadata": {
    "collapsed": false,
    "nbpresent": {
     "id": "1c820c69-2d74-4779-a5d3-5f42b2cdd688"
    }
   },
   "outputs": [],
   "source": [
    "from __future__ import division, print_function\n",
    "\n",
    "# from sys import argv\n",
    "# import os\n",
    "# import glob\n",
    "# import math\n",
    "import re\n",
    "import pandas as pd\n",
    "# import numpy as np\n",
    "# import scipy as sp\n",
    "# import scipy.stats as sps\n",
    "# import matplotlib.pyplot as plt\n",
    "# import seaborn as sns\n",
    "# import simplejson as jsn\n",
    "import requests \n",
    "from time import sleep\n",
    "import json\n",
    "import re\n",
    "from urllib import urlretrieve, urlopen \n",
    "from bs4 import BeautifulSoup\n",
    "import datetime\n",
    "import time\n",
    "\n",
    "# %matplotlib inline\n",
    "\n",
    "# sns.set_context('notebook')\n",
    "# sns.set_style('ticks')"
   ]
  },
  {
   "cell_type": "markdown",
   "metadata": {},
   "source": [
    "## general"
   ]
  },
  {
   "cell_type": "code",
   "execution_count": 3,
   "metadata": {
    "collapsed": false
   },
   "outputs": [],
   "source": [
    "def OpenPage(url):\n",
    "    try: \n",
    "        html = urlopen(url)\n",
    "    except HTTPError as e: \n",
    "        return None\n",
    "\n",
    "    try:\n",
    "        pageData = BeautifulSoup(html,\"html.parser\")  #, 'lxml') #\n",
    "    except AttributeError as e: \n",
    "        return None\n",
    "    return pageData\n",
    "\n",
    "\n",
    "def TryFind(search):\n",
    "    try: \n",
    "        result = search\n",
    "    except AttributeError as e: \n",
    "        return None\n",
    "    if result == None: \n",
    "        return None\n",
    "    return result\n",
    "\n",
    "\n",
    "def GetText(search):\n",
    "    if search == None:\n",
    "        return None\n",
    "    else: \n",
    "        try: \n",
    "            text = search.get_text().strip()\n",
    "        except AttributeError as e: \n",
    "            return None\n",
    "        return text\n",
    "    \n",
    "    \n",
    "def GetLink(search):\n",
    "    if search == None:\n",
    "        return None\n",
    "    else:\n",
    "        try: \n",
    "            link = search.attrs['href']\n",
    "        except AttributeError as e:\n",
    "            return None\n",
    "        return link\n",
    "\n",
    "\n",
    "def ScrapeSitemap(url):\n",
    "    '''returns urls under <loc> tag in sitemap, as text string'''\n",
    "    sitemap = OpenPage(url)\n",
    "    taglist = sitemap.findAll('loc')\n",
    "    urllist = [elem.text for elem in taglist]\n",
    "    return urllist\n",
    "\n",
    "\n",
    "def URLFilter(urllist, expression):\n",
    "    '''filters url list via regex to eliminate non-recipe pages (category aggregations, misc posts, etc)'''\n",
    "    matches = []\n",
    "    for url in urllist: \n",
    "        match = re.match(expression, url)\n",
    "        if match: \n",
    "            matches += [match.group(0)]\n",
    "    return matches"
   ]
  },
  {
   "cell_type": "markdown",
   "metadata": {},
   "source": [
    "## SK-specific"
   ]
  },
  {
   "cell_type": "code",
   "execution_count": 4,
   "metadata": {
    "collapsed": false
   },
   "outputs": [],
   "source": [
    "def GetEntryDescription_SK(soup):\n",
    "    '''get the stuff thats an appendage to the actual recipe body (blog-y part)'''\n",
    "    \n",
    "    recipe_text = []\n",
    "    for paragraph in TryFind(soup.select('div.smittenkitchen-print-hide > p')):\n",
    "        expression = '.*(\\s)*.*[Aa]go:.*'\n",
    "        if paragraph.a:\n",
    "            text = paragraph.get_text().strip()\n",
    "            match = re.match(expression, text)\n",
    "            if match: \n",
    "                continue\n",
    "            else: recipe_text += [GetText(paragraph)]\n",
    "        \n",
    "        else: recipe_text += [GetText(paragraph)]\n",
    "    return ''.join(recipe_text)\n",
    "\n",
    "\n",
    "def GetRecipe_old(soup):\n",
    "    '''get directions & ingredients separately'''\n",
    "    \n",
    "    intro, ingredients, directions, meta = [], [], [], []\n",
    "    \n",
    "    for item in TryFind(soup.select('div.entry-content > p')):\n",
    "        if item.br:\n",
    "            ingredients += [GetText(item)]\n",
    "        else: \n",
    "            directions += [GetText(item)]\n",
    "    recipe_servings = 'NA'\n",
    "    recipe_time = 'NA'\n",
    "    intro = 'NA'\n",
    "\n",
    "    return intro, ingredients, ''.join(directions), recipe_servings, recipe_time \n",
    "\n",
    "\n",
    "def GetRecipe_new(soup):\n",
    "    '''get directions & ingredients separately'''\n",
    "    intro = []\n",
    "    for item in TryFind(soup.findAll('div',{'class':'jetpack-recipe-notes'})):\n",
    "        if item.a: \n",
    "            intro += GetText(item)\n",
    "        else: intro += GetText(item)\n",
    "    intro = ''.join(intro)\n",
    "    \n",
    "    ingredients = []    \n",
    "    for item in TryFind(soup.findAll('li',{'class':'jetpack-recipe-ingredient'})):\n",
    "        if item.a: \n",
    "            ingredients += [GetText(item)]\n",
    "        else: ingredients += [GetText(item)]\n",
    "\n",
    "            \n",
    "    directions = []\n",
    "    for item in TryFind(soup.find('div',{'class':'jetpack-recipe-directions'}).findAll('p')):\n",
    "        if item == None: \n",
    "            directions += 'none'\n",
    "        elif item.a: \n",
    "            directions += [GetText(item)]\n",
    "        else: directions += [GetText(item)]\n",
    "\n",
    "            \n",
    "    recipe_meta = {}\n",
    "    recipe_servings = GetText(TryFind(soup.find('li',{'class':'jetpack-recipe-servings'})))\n",
    "    recipe_time = GetText(TryFind(soup.find('li',{'class':'jetpack-recipe-time'})))\n",
    "            \n",
    "    return ''.join(intro), ingredients, ''.join(directions), recipe_servings, recipe_time\n",
    "\n",
    "\n",
    "\n",
    "def GetRecipeData_SK(soup):\n",
    "    '''SK underwent a site redesign; find the right way to scrape the recipe data'''\n",
    "    \n",
    "    if TryFind(soup.find('div',{'class':'hrecipe jetpack-recipe'})) == None: \n",
    "#         print('old')\n",
    "        intro, ingredients, directions, recipe_servings, recipe_time = GetRecipe_old(soup)\n",
    "\n",
    "    elif (TryFind(soup.find('div',{'class':'hrecipe jetpack-recipe'})) != None) & (TryFind(soup.find('div',{'class':'hrecipe jetpack-recipe'})) != None) & (TryFind(soup.find('div',{'class':'hrecipe jetpack-recipe-directions'})) != None): \n",
    "#         print('new')\n",
    "        intro, ingredients, directions, recipe_servings, recipe_time = GetRecipe_new(soup)\n",
    "        \n",
    "    else: \n",
    "#         print('old')\n",
    "        intro, ingredients, directions, recipe_servings, recipe_time = GetRecipe_old(soup)\n",
    "    \n",
    "    return intro, ingredients, directions, recipe_servings, recipe_time\n",
    "\n",
    "\n",
    "\n",
    "def CommentData_SK(comment, ID, children, child_id):\n",
    "    '''get the data from each comment - '''\n",
    "    comment_info = {}\n",
    "\n",
    "    name = TryFind(comment.find('b',{'class':'fn author-name'}))\n",
    "    if TryFind(name.find('a')) == None:\n",
    "        comment_info['username'] = GetText(TryFind(comment.find('b',{'class':'fn author-name'})))\n",
    "        comment_info['usersite'] = 'none'\n",
    "\n",
    "    else: \n",
    "        comment_info['username'] = TryFind(comment.find('a')).contents[0]\n",
    "        comment_info['usersite'] = TryFind(comment.find('a')).attrs['href']\n",
    "\n",
    "        \n",
    "    comment_info['usercomment'] = GetText(TryFind(comment.find('div',{'class':'comment-content'}).find('p')))\n",
    "    comment_info['children'] = children\n",
    "    comment_info['child_id'] = child_id\n",
    "    comment_info['commentID'] = ID\n",
    "\n",
    "    return comment_info"
   ]
  },
  {
   "cell_type": "code",
   "execution_count": 13,
   "metadata": {
    "collapsed": false
   },
   "outputs": [],
   "source": [
    "def GetComments_SK(soup):\n",
    "    '''get comments and their place in the hierarchy'''\n",
    "\n",
    "    comments_data = {}\n",
    "    comment_has_children, child_id = 'no', 0 \n",
    "\n",
    "    allcomments = TryFind(soup.find('ol',{'class':'comment-list'}))\n",
    "    number_of_comments = len(allcomments.findAll('article',{'class':'comment-body'}))\n",
    "\n",
    "    comment = allcomments.find('article',{'class':'comment-body'})\n",
    "\n",
    "    for comment_ID in range(0, number_of_comments):\n",
    "\n",
    "        nextComment = comment.findNext('article',{'class':'comment-body'})\n",
    "\n",
    "        if comment_ID < number_of_comments-1:\n",
    "            if nextComment.parent.parent['class'][0] == 'children':\n",
    "                comment_has_children, child_id = 'yes', comment_ID+1\n",
    "            else: comment_has_children, child_id = 'no', 0 \n",
    "        else: comment_has_children, child_id = 'no', 0 \n",
    "\n",
    "        comments_data[comment_ID] = CommentData_SK(comment, comment_ID, comment_has_children, child_id)\n",
    "\n",
    "        comment = comment.findNext('article')\n",
    "\n",
    "    return comments_data, number_of_comments"
   ]
  },
  {
   "cell_type": "code",
   "execution_count": 7,
   "metadata": {
    "collapsed": false,
    "nbpresent": {
     "id": "01441769-651a-4c71-afea-9c8b5bbb8cac"
    }
   },
   "outputs": [],
   "source": [
    "def GetRecipe_SK(soup, ID):\n",
    "    '''get all the post data from a given url'''\n",
    "    recipe = {}\n",
    "    recipe_data = {}\n",
    "    \n",
    "    recipe_data['title'] = TryFind(TryFind(soup.find('h1',{'class':'entry-title'})).find('a').contents[0])    \n",
    "    recipe_data['url'] = GetLink(TryFind(soup.find('h1',{'class':'entry-title'})).find('a'))\n",
    "    recipe_data['article_id'] = TryFind(TryFind(soup.find('article')).attrs['id'])\n",
    "    recipe_data['published'] = TryFind(soup.find('time')).attrs['datetime']\n",
    "#                 TryFind(TryFind(soup.find('time',{'class':'entry-date published'})).attrs['datetime'])\n",
    "    recipe_data['updated'] = TryFind(TryFind(soup.find('time',{'class':'updated'})).attrs['datetime'])\n",
    "    recipe_data['author'] = TryFind(TryFind(soup.find('span',{'class':'author vcard'})).find('a').contents[0])\n",
    "    recipe_data['author_url'] = GetLink(TryFind(soup.find('span',{'class':'author vcard'})).find('a'))\n",
    "    \n",
    "    recipe_data['introductory_text'] = GetEntryDescription_SK(soup)\n",
    "    \n",
    "    recipe_intro, recipe_ingredients, recipe_directions, recipe_servings, recipe_time = GetRecipeData_SK(soup)\n",
    "    \n",
    "    recipe_data['recipe_notes'] = recipe_intro\n",
    "    recipe_data['ingredients'] = recipe_ingredients\n",
    "    recipe_data['directions'] = recipe_directions\n",
    "    recipe_data['servings'] = recipe_servings\n",
    "    recipe_data['time'] = recipe_time\n",
    "    \n",
    "    recipe[ID] = recipe_data\n",
    "    \n",
    "    return recipe, recipe_data['title']\n"
   ]
  },
  {
   "cell_type": "markdown",
   "metadata": {},
   "source": [
    "## set preliminaries"
   ]
  },
  {
   "cell_type": "markdown",
   "metadata": {
    "nbpresent": {
     "id": "4478f82a-239d-406e-8743-49adf79a7a33"
    }
   },
   "source": [
    "## get URLs"
   ]
  },
  {
   "cell_type": "code",
   "execution_count": 8,
   "metadata": {
    "collapsed": true,
    "nbpresent": {
     "id": "9d11fd9c-e186-4b9c-afae-3bc98a8e9a97"
    }
   },
   "outputs": [],
   "source": [
    "url = 'https://smittenkitchen.com'\n",
    "sk_sitemap = 'https://smittenkitchen.com/sitemap.xml'\n",
    "\n",
    "# for SK, recipes are listed in <url>/yr/mo/<name> format, other aggregations/lists do not have this same formatting \n",
    "sk_regex = 'https://smittenkitchen.com/[0-9]{3,}.*'\n",
    "\n",
    "\n",
    "urls_sk = URLFilter(ScrapeSitemap(sk_sitemap), sk_regex)"
   ]
  },
  {
   "cell_type": "code",
   "execution_count": 9,
   "metadata": {
    "collapsed": false
   },
   "outputs": [
    {
     "data": {
      "text/plain": [
       "(984, u'https://smittenkitchen.com/2010/04/classic-cobb-salad/')"
      ]
     },
     "execution_count": 9,
     "metadata": {},
     "output_type": "execute_result"
    }
   ],
   "source": [
    "len(urls_sk), urls_sk[0]"
   ]
  },
  {
   "cell_type": "markdown",
   "metadata": {},
   "source": [
    "# Scraper"
   ]
  },
  {
   "cell_type": "code",
   "execution_count": null,
   "metadata": {
    "collapsed": false
   },
   "outputs": [],
   "source": [
    "CommentsFrame = pd.DataFrame()\n",
    "RecipeFrame = pd.DataFrame()\n",
    "\n",
    "for recipenumber, url in enumerate(urls_sk): \n",
    "    soup = OpenPage(url)\n",
    "    \n",
    "    comments, commentnumber = GetComments_SK(soup)\n",
    "    recipe, title = GetRecipe_SK(soup, recipenumber)\n",
    "\n",
    "\n",
    "    CommentsFrame_temp = pd.DataFrame.from_dict(comments,orient='index')\n",
    "    RecipeFrame_temp = pd.DataFrame.from_dict(recipe,orient='index')\n",
    "\n",
    "    CommentsFrame_temp['recipeName'] = title\n",
    "    CommentsFrame_temp['recipeID'] = recipenumber\n",
    "    CommentsFrame_temp['recipeURL'] = url\n",
    "\n",
    "    RecipeFrame_temp['numberofcomments'] = commentnumber\n",
    "\n",
    "\n",
    "    CommentsFrame = pd.concat([CommentsFrame, CommentsFrame_temp], ignore_index=True)\n",
    "    RecipeFrame = pd.concat([RecipeFrame, RecipeFrame_temp], ignore_index=True)   \n",
    "\n",
    "    time.sleep(5)\n",
    "    \n",
    "CommentsFrame.to_csv('SmittenKitchen_Comments.csv')\n",
    "RecipeFrame.to_csv('SmittenKitchen_Recipes.csv')"
   ]
  },
  {
   "cell_type": "markdown",
   "metadata": {
    "nbpresent": {
     "id": "25dde0b0-b43c-4228-8f71-cecb3f982a5e"
    }
   },
   "source": [
    "### testing"
   ]
  },
  {
   "cell_type": "raw",
   "metadata": {},
   "source": [
    "recipenumber, url"
   ]
  },
  {
   "cell_type": "raw",
   "metadata": {},
   "source": [
    "TryFind(soup.find('div',{'class':'jetpack-recipe-directions'}))"
   ]
  },
  {
   "cell_type": "raw",
   "metadata": {},
   "source": [
    "GetRecipeData_SK(OpenPage('https://smittenkitchen.com/2010/04/classic-cobb-salad/'))"
   ]
  },
  {
   "cell_type": "raw",
   "metadata": {},
   "source": [
    "GetRecipeData_SK(soup)"
   ]
  },
  {
   "cell_type": "raw",
   "metadata": {},
   "source": [
    "soup.find('jetpack')"
   ]
  },
  {
   "cell_type": "raw",
   "metadata": {},
   "source": [
    "soup = OpenPage(urls_sk[1])\n",
    "GetComments_SK(soup)"
   ]
  },
  {
   "cell_type": "code",
   "execution_count": null,
   "metadata": {
    "collapsed": true
   },
   "outputs": [],
   "source": []
  }
 ],
 "metadata": {
  "anaconda-cloud": {},
  "kernelspec": {
   "display_name": "Python [py2ins]",
   "language": "python",
   "name": "Python [py2ins]"
  },
  "language_info": {
   "codemirror_mode": {
    "name": "ipython",
    "version": 2
   },
   "file_extension": ".py",
   "mimetype": "text/x-python",
   "name": "python",
   "nbconvert_exporter": "python",
   "pygments_lexer": "ipython2",
   "version": "2.7.12"
  },
  "nbpresent": {
   "slides": {},
   "themes": {
    "default": "0b171950-fffb-4766-b829-1b8f5c802004",
    "theme": {
     "0b171950-fffb-4766-b829-1b8f5c802004": {
      "id": "0b171950-fffb-4766-b829-1b8f5c802004",
      "palette": {
       "19cc588f-0593-49c9-9f4b-e4d7cc113b1c": {
        "id": "19cc588f-0593-49c9-9f4b-e4d7cc113b1c",
        "rgb": [
         252,
         252,
         252
        ]
       },
       "31af15d2-7e15-44c5-ab5e-e04b16a89eff": {
        "id": "31af15d2-7e15-44c5-ab5e-e04b16a89eff",
        "rgb": [
         68,
         68,
         68
        ]
       },
       "50f92c45-a630-455b-aec3-788680ec7410": {
        "id": "50f92c45-a630-455b-aec3-788680ec7410",
        "rgb": [
         155,
         177,
         192
        ]
       },
       "c5cc3653-2ee1-402a-aba2-7caae1da4f6c": {
        "id": "c5cc3653-2ee1-402a-aba2-7caae1da4f6c",
        "rgb": [
         43,
         126,
         184
        ]
       },
       "efa7f048-9acb-414c-8b04-a26811511a21": {
        "id": "efa7f048-9acb-414c-8b04-a26811511a21",
        "rgb": [
         25.118061674008803,
         73.60176211453744,
         107.4819383259912
        ]
       }
      },
      "rules": {
       "blockquote": {
        "color": "50f92c45-a630-455b-aec3-788680ec7410"
       },
       "code": {
        "font-family": "Anonymous Pro"
       },
       "h1": {
        "color": "c5cc3653-2ee1-402a-aba2-7caae1da4f6c",
        "font-family": "Lato",
        "font-size": 8
       },
       "h2": {
        "color": "c5cc3653-2ee1-402a-aba2-7caae1da4f6c",
        "font-family": "Lato",
        "font-size": 6
       },
       "h3": {
        "color": "50f92c45-a630-455b-aec3-788680ec7410",
        "font-family": "Lato",
        "font-size": 5.5
       },
       "h4": {
        "color": "c5cc3653-2ee1-402a-aba2-7caae1da4f6c",
        "font-family": "Lato",
        "font-size": 5
       },
       "h5": {
        "font-family": "Lato"
       },
       "h6": {
        "font-family": "Lato"
       },
       "h7": {
        "font-family": "Lato"
       },
       "pre": {
        "font-family": "Anonymous Pro",
        "font-size": 4
       }
      },
      "text-base": {
       "font-family": "Merriweather",
       "font-size": 4
      }
     },
     "d5c6b694-8f80-480f-832d-fcee9bfff6da": {
      "backgrounds": {
       "dc7afa04-bf90-40b1-82a5-726e3cff5267": {
        "background-color": "31af15d2-7e15-44c5-ab5e-e04b16a89eff",
        "id": "dc7afa04-bf90-40b1-82a5-726e3cff5267"
       }
      },
      "id": "d5c6b694-8f80-480f-832d-fcee9bfff6da",
      "palette": {
       "19cc588f-0593-49c9-9f4b-e4d7cc113b1c": {
        "id": "19cc588f-0593-49c9-9f4b-e4d7cc113b1c",
        "rgb": [
         252,
         252,
         252
        ]
       },
       "31af15d2-7e15-44c5-ab5e-e04b16a89eff": {
        "id": "31af15d2-7e15-44c5-ab5e-e04b16a89eff",
        "rgb": [
         68,
         68,
         68
        ]
       },
       "50f92c45-a630-455b-aec3-788680ec7410": {
        "id": "50f92c45-a630-455b-aec3-788680ec7410",
        "rgb": [
         197,
         226,
         245
        ]
       },
       "c5cc3653-2ee1-402a-aba2-7caae1da4f6c": {
        "id": "c5cc3653-2ee1-402a-aba2-7caae1da4f6c",
        "rgb": [
         43,
         126,
         184
        ]
       },
       "efa7f048-9acb-414c-8b04-a26811511a21": {
        "id": "efa7f048-9acb-414c-8b04-a26811511a21",
        "rgb": [
         25.118061674008803,
         73.60176211453744,
         107.4819383259912
        ]
       }
      },
      "rules": {
       "a": {
        "color": "19cc588f-0593-49c9-9f4b-e4d7cc113b1c"
       },
       "blockquote": {
        "color": "50f92c45-a630-455b-aec3-788680ec7410",
        "font-size": 3
       },
       "code": {
        "font-family": "Anonymous Pro"
       },
       "h1": {
        "color": "19cc588f-0593-49c9-9f4b-e4d7cc113b1c",
        "font-family": "Merriweather",
        "font-size": 8
       },
       "h2": {
        "color": "19cc588f-0593-49c9-9f4b-e4d7cc113b1c",
        "font-family": "Merriweather",
        "font-size": 6
       },
       "h3": {
        "color": "50f92c45-a630-455b-aec3-788680ec7410",
        "font-family": "Lato",
        "font-size": 5.5
       },
       "h4": {
        "color": "c5cc3653-2ee1-402a-aba2-7caae1da4f6c",
        "font-family": "Lato",
        "font-size": 5
       },
       "h5": {
        "font-family": "Lato"
       },
       "h6": {
        "font-family": "Lato"
       },
       "h7": {
        "font-family": "Lato"
       },
       "li": {
        "color": "50f92c45-a630-455b-aec3-788680ec7410",
        "font-size": 3.25
       },
       "pre": {
        "font-family": "Anonymous Pro",
        "font-size": 4
       }
      },
      "text-base": {
       "color": "19cc588f-0593-49c9-9f4b-e4d7cc113b1c",
       "font-family": "Lato",
       "font-size": 4
      }
     }
    }
   }
  }
 },
 "nbformat": 4,
 "nbformat_minor": 0
}
