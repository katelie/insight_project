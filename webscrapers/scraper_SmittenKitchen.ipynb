{
 "cells": [
  {
   "cell_type": "code",
   "execution_count": 1,
   "metadata": {
    "collapsed": false,
    "nbpresent": {
     "id": "eb315e31-1018-4bdf-a24c-267366440e89"
    }
   },
   "outputs": [
    {
     "data": {
      "text/html": [
       "<style>.container { width:100% !important; float:center}</style>"
      ],
      "text/plain": [
       "<IPython.core.display.HTML object>"
      ]
     },
     "execution_count": 1,
     "metadata": {},
     "output_type": "execute_result"
    }
   ],
   "source": [
    "from IPython.core.display import HTML\n",
    "HTML(\"<style>.container { width:100% !important; float:center}</style>\")"
   ]
  },
  {
   "cell_type": "code",
   "execution_count": 2,
   "metadata": {
    "collapsed": false,
    "nbpresent": {
     "id": "1c820c69-2d74-4779-a5d3-5f42b2cdd688"
    }
   },
   "outputs": [],
   "source": [
    "from __future__ import division, print_function\n",
    "\n",
    "# from sys import argv\n",
    "# import os\n",
    "# import glob\n",
    "# import math\n",
    "import re\n",
    "import pandas as pd\n",
    "# import numpy as np\n",
    "# import scipy as sp\n",
    "# import scipy.stats as sps\n",
    "# import matplotlib.pyplot as plt\n",
    "# import seaborn as sns\n",
    "# import simplejson as jsn\n",
    "import requests \n",
    "from time import sleep\n",
    "import json\n",
    "import re\n",
    "from urllib import urlretrieve, urlopen\n",
    "from urllib2 import HTTPError\n",
    "from bs4 import BeautifulSoup\n",
    "import datetime\n",
    "import time\n",
    "\n",
    "# %matplotlib inline\n",
    "\n",
    "# sns.set_context('notebook')\n",
    "# sns.set_style('ticks')"
   ]
  },
  {
   "cell_type": "markdown",
   "metadata": {},
   "source": [
    "## general"
   ]
  },
  {
   "cell_type": "code",
   "execution_count": 3,
   "metadata": {
    "collapsed": false
   },
   "outputs": [],
   "source": [
    "def OpenPage(url):\n",
    "    try: \n",
    "        html = urlopen(url)\n",
    "    except HTTPError as e: \n",
    "        return None\n",
    "\n",
    "    try:\n",
    "        pageData = BeautifulSoup(html) #, 'lxml') #,\"html.parser\")  #\n",
    "    except AttributeError as e: \n",
    "        return None\n",
    "    return pageData\n",
    "\n",
    "\n",
    "def TryFind(search):\n",
    "    try: \n",
    "        result = search\n",
    "    except AttributeError as e: \n",
    "        return None\n",
    "    if result == None: \n",
    "        return None\n",
    "    return result\n",
    "\n",
    "\n",
    "# def TryFind(search):\n",
    "#     try: \n",
    "#         result = search\n",
    "#     except AttributeError as e: \n",
    "#         return None\n",
    "#     if result == None: \n",
    "#         return None\n",
    "#     return result\n",
    "\n",
    "\n",
    "def GetText(search):\n",
    "    if TryFind(search) == None:\n",
    "        return None\n",
    "    else: \n",
    "        try: \n",
    "            text = TryFind(search).get_text().strip()\n",
    "        except AttributeError as e: \n",
    "            return None\n",
    "        if text == None: \n",
    "            return None\n",
    "    return text\n",
    "    \n",
    "    \n",
    "def GetAttribute(search, attribute):\n",
    "    if TryFind(search) == None:\n",
    "        return None\n",
    "    else:\n",
    "        try: \n",
    "            attr = TryFind(search).attrs[attribute]\n",
    "        except AttributeError as e:\n",
    "            return None\n",
    "        if attr == None: \n",
    "            return None\n",
    "        \n",
    "    return attr\n",
    "\n",
    "\n",
    "def GetKeys(search):\n",
    "    try: \n",
    "        results = TryFind(search).attrs\n",
    "    except AttributeError as e:\n",
    "        return None\n",
    "    \n",
    "    if results == None: \n",
    "        return '0000-00-00t00:00:00'\n",
    "    \n",
    "    return results.keys()\n",
    "\n",
    "\n",
    "def ScrapeSitemap(url):\n",
    "    '''returns urls under <loc> tag in sitemap, as text string'''\n",
    "    sitemap = OpenPage(url)\n",
    "    taglist = sitemap.findAll('loc')\n",
    "    urllist = [elem.text for elem in taglist]\n",
    "    return urllist\n",
    "\n",
    "\n",
    "def URLFilter(urllist, expression):\n",
    "    '''filters url list via regex to eliminate non-recipe pages (category aggregations, misc posts, etc)'''\n",
    "    matches = []\n",
    "    for url in urllist: \n",
    "        match = re.match(expression, url)\n",
    "        if match: \n",
    "            matches += [match.group(0)]\n",
    "    return matches"
   ]
  },
  {
   "cell_type": "markdown",
   "metadata": {},
   "source": [
    "## SK-specific"
   ]
  },
  {
   "cell_type": "code",
   "execution_count": 4,
   "metadata": {
    "collapsed": false
   },
   "outputs": [],
   "source": [
    "def GetEntryDescription_SK(soup):\n",
    "    '''get the stuff thats an appendage to the actual recipe body (blog-y part)'''\n",
    "    \n",
    "    recipe_text = []\n",
    "    for paragraph in TryFind(soup.select('div.smittenkitchen-print-hide > p')):\n",
    "        expression = '.*(\\s)*.*[Aa]go:.*'\n",
    "        if paragraph.a:\n",
    "            text = paragraph.get_text().strip()\n",
    "            match = re.match(expression, text)\n",
    "            if match: \n",
    "                continue\n",
    "            else: recipe_text += [GetText(paragraph)]\n",
    "        \n",
    "        else: recipe_text += [GetText(paragraph)]\n",
    "    return ''.join(recipe_text)\n",
    "\n",
    "\n",
    "def GetRecipe_old(soup):\n",
    "    '''get directions & ingredients separately'''\n",
    "    \n",
    "    intro, ingredients, directions, meta = [], [], [], []\n",
    "    \n",
    "    for item in TryFind(soup.select('div.entry-content > p')):\n",
    "        if item.br:\n",
    "            ingredients += [GetText(item)]\n",
    "        else: \n",
    "            directions += [GetText(item)]\n",
    "    recipe_servings = 'NA'\n",
    "    recipe_time = 'NA'\n",
    "    intro = 'NA'\n",
    "\n",
    "    return intro, ingredients, ''.join(directions), recipe_servings, recipe_time \n",
    "\n",
    "\n",
    "def GetRecipe_new(soup):\n",
    "    '''get directions & ingredients separately'''\n",
    "    intro = []\n",
    "    for item in TryFind(soup.findAll('div',{'class':'jetpack-recipe-notes'})):\n",
    "        if item.a: \n",
    "            intro += GetText(item)\n",
    "        else: intro += GetText(item)\n",
    "    intro = ''.join(intro)\n",
    "    \n",
    "    ingredients = []    \n",
    "    for item in TryFind(soup.findAll('li',{'class':'jetpack-recipe-ingredient'})):\n",
    "        ingredients += [GetText(item)]\n",
    "#         if item.a: \n",
    "#             ingredients += [GetText(item)]\n",
    "#         else: ingredients += [GetText(item)]\n",
    "\n",
    "            \n",
    "    directions = []\n",
    "    for item in TryFind(soup.find('div',{'class':'jetpack-recipe-directions'}).findAll('p')):\n",
    "        if item == None: \n",
    "            directions += 'none'\n",
    "#         elif item.a: \n",
    "#             directions += [GetText(item)]\n",
    "        else: \n",
    "            directions += [GetText(item)]\n",
    "\n",
    "    recipe_servings = GetText(TryFind(soup.find('li',{'class':'jetpack-recipe-servings'})))\n",
    "    recipe_time = GetText(TryFind(soup.find('li',{'class':'jetpack-recipe-time'})))\n",
    "            \n",
    "    return ''.join(intro), ingredients, ''.join(directions), recipe_servings, recipe_time\n",
    "\n",
    "\n",
    "\n",
    "def GetRecipeData_SK(soup):\n",
    "    '''SK underwent a site redesign; find the right way to scrape the recipe data'''\n",
    "    \n",
    "    if TryFind(soup.find('div',{'class':'hrecipe jetpack-recipe'})) == None: \n",
    "#         print('old')\n",
    "        intro, ingredients, directions, recipe_servings, recipe_time = GetRecipe_old(soup)\n",
    "\n",
    "    elif (TryFind(soup.find('div',{'class':'hrecipe jetpack-recipe'})) != None): \n",
    "        if (TryFind(soup.find('div',{'class':'hrecipe jetpack-recipe-notes'})) != None) & (TryFind(soup.find('div',{'class':'hrecipe jetpack-recipe-ingredient'})) != None) & (TryFind(soup.find('div',{'class':'hrecipe jetpack-recipe-directions'})) != None): \n",
    "#         print('new')\n",
    "            intro, ingredients, directions, recipe_servings, recipe_time = GetRecipe_new(soup)\n",
    "        \n",
    "        else: \n",
    "            intro, ingredients, directions, recipe_servings, recipe_time = GetRecipe_old(soup)\n",
    "    else: \n",
    "        intro, ingredients, directions, recipe_servings, recipe_time = GetRecipe_old(soup)\n",
    "\n",
    "    return intro, ingredients, directions, recipe_servings, recipe_time"
   ]
  },
  {
   "cell_type": "code",
   "execution_count": 5,
   "metadata": {
    "collapsed": false
   },
   "outputs": [],
   "source": [
    "def GetCommentData_SK(comment, ID, children, child_id):\n",
    "    '''get the data from each comment - '''\n",
    "    comment_info = {}\n",
    "\n",
    "    name = TryFind(comment.find('b',{'class':'fn author-name'}))\n",
    "    if TryFind(name.find('a')) == None:\n",
    "        comment_info['username'] = GetText(TryFind(comment.find('b',{'class':'fn author-name'})))\n",
    "        comment_info['usersite'] = 'none'\n",
    "\n",
    "    else: \n",
    "        comment_info['username'] = TryFind(comment.find('a')).contents[0]\n",
    "        comment_info['usersite'] = TryFind(comment.find('a')).attrs['href']\n",
    "\n",
    "        \n",
    "    comment_info['usercomment'] = GetText(TryFind(comment.find('div',{'class':'comment-content'}).find('p')))\n",
    "    comment_info['children'] = children\n",
    "    comment_info['child_id'] = child_id\n",
    "    comment_info['commentID'] = ID\n",
    "    \n",
    "    timestamp_raw = GetText(soup.find('span',{'class':'date'})) +', '+ GetText(soup.find('span',{'class':'time'}))\n",
    "    comment_info['comment_time'] = datetime.datetime.strptime(timestamp_raw, '%B %d, %Y, %I:%M %p')\n",
    "                            # datetime.datetime.strptime(time, '%Y-%m-%dt%H:%M:%S').strftime()\n",
    "\n",
    "    return comment_info\n",
    "\n"
   ]
  },
  {
   "cell_type": "code",
   "execution_count": 6,
   "metadata": {
    "collapsed": false
   },
   "outputs": [],
   "source": [
    "def GetComments_SK(soup):\n",
    "    '''get comments and their place in the hierarchy'''\n",
    "\n",
    "    comments_data = {}\n",
    "    comment_has_children, child_id = 'no', 0 \n",
    "\n",
    "    allcomments = TryFind(soup.find('ol',{'class':'comment-list'}))\n",
    "    number_of_comments = len(soup.findAll('article',{'class':'comment-body'}))\n",
    "\n",
    "    comment = TryFind(allcomments.find('article',{'class':'comment-body'}))\n",
    "\n",
    "    for comment_ID in range(0, number_of_comments):\n",
    "\n",
    "        nextComment = comment.findNext('article',{'class':'comment-body'})\n",
    "\n",
    "        if comment_ID < number_of_comments-1:\n",
    "            if nextComment.parent.parent['class'][0] == 'children':\n",
    "                comment_has_children, child_id = 'yes', comment_ID+1\n",
    "            else: comment_has_children, child_id = 'no', 0 \n",
    "        else: comment_has_children, child_id = 'no', 0 \n",
    "            \n",
    "\n",
    "        comments_data[comment_ID] = GetCommentData_SK(comment, comment_ID, comment_has_children, child_id)\n",
    "\n",
    "        comment = comment.findNext('article')\n",
    "\n",
    "    return comments_data, number_of_comments"
   ]
  },
  {
   "cell_type": "code",
   "execution_count": 7,
   "metadata": {
    "collapsed": false,
    "nbpresent": {
     "id": "01441769-651a-4c71-afea-9c8b5bbb8cac"
    }
   },
   "outputs": [],
   "source": [
    "def GetRecipe_SK(soup, ID):\n",
    "    '''get all the post data from a given url'''\n",
    "    recipe = {}\n",
    "    recipe_data = {}\n",
    "    \n",
    "    recipe_data['title'] = TryFind(TryFind(soup.find('h1',{'class':'entry-title'})).find('a').contents[0])    \n",
    "    recipe_data['url'] = GetAttribute(TryFind(soup.find('h1',{'class':'entry-title'})).find('a'), 'href')\n",
    "    recipe_data['article_id'] = TryFind(TryFind(soup.find('article')).attrs['id'])\n",
    "    recipe_data['published'] = TryFind(soup.find('time')).attrs['datetime']\n",
    "    recipe_data['updated'] = TryFind(TryFind(soup.find('time',{'class':'updated'})).attrs['datetime'])\n",
    "    recipe_data['author'] = TryFind(TryFind(soup.find('span',{'class':'author vcard'})).find('a').contents[0])\n",
    "    recipe_data['author_url'] = GetAttribute(TryFind(soup.find('span',{'class':'author vcard'})).find('a'), 'href')\n",
    "    \n",
    "    recipe_data['introductory_text'] = GetEntryDescription_SK(soup)\n",
    "    \n",
    "    recipe_intro, recipe_ingredients, recipe_directions, recipe_servings, recipe_time = GetRecipeData_SK(soup)\n",
    "    \n",
    "    recipe_data['recipe_notes'] = recipe_intro\n",
    "    recipe_data['ingredients'] = recipe_ingredients\n",
    "    recipe_data['directions'] = recipe_directions\n",
    "    recipe_data['servings'] = recipe_servings\n",
    "    recipe_data['time'] = recipe_time\n",
    "    \n",
    "    recipe_data['firstimageURL'] = GetAttribute(soup.find('img'), 'src')\n",
    "    \n",
    "    recipe[ID] = recipe_data\n",
    "    \n",
    "    return recipe, recipe_data['title']\n"
   ]
  },
  {
   "cell_type": "markdown",
   "metadata": {},
   "source": [
    "## set preliminaries"
   ]
  },
  {
   "cell_type": "markdown",
   "metadata": {
    "nbpresent": {
     "id": "4478f82a-239d-406e-8743-49adf79a7a33"
    }
   },
   "source": [
    "## get URLs"
   ]
  },
  {
   "cell_type": "code",
   "execution_count": 8,
   "metadata": {
    "collapsed": false,
    "nbpresent": {
     "id": "9d11fd9c-e186-4b9c-afae-3bc98a8e9a97"
    }
   },
   "outputs": [
    {
     "name": "stderr",
     "output_type": "stream",
     "text": [
      "/Users/kateliea/anaconda/envs/py2ins/lib/python2.7/site-packages/bs4/__init__.py:166: UserWarning: No parser was explicitly specified, so I'm using the best available HTML parser for this system (\"lxml\"). This usually isn't a problem, but if you run this code on another system, or in a different virtual environment, it may use a different parser and behave differently.\n",
      "\n",
      "To get rid of this warning, change this:\n",
      "\n",
      " BeautifulSoup([your markup])\n",
      "\n",
      "to this:\n",
      "\n",
      " BeautifulSoup([your markup], \"lxml\")\n",
      "\n",
      "  markup_type=markup_type))\n"
     ]
    }
   ],
   "source": [
    "url = 'https://smittenkitchen.com'\n",
    "sk_sitemap = 'https://smittenkitchen.com/sitemap.xml'\n",
    "\n",
    "# for SK, recipes are listed in <url>/yr/mo/<name> format, other aggregations/lists do not have this same formatting \n",
    "sk_regex = 'https://smittenkitchen.com/[0-9]{3,}.*'\n",
    "\n",
    "\n",
    "urls_sk = URLFilter(ScrapeSitemap(sk_sitemap), sk_regex)"
   ]
  },
  {
   "cell_type": "code",
   "execution_count": 9,
   "metadata": {
    "collapsed": false
   },
   "outputs": [
    {
     "data": {
      "text/plain": [
       "(984, u'https://smittenkitchen.com/2009/11/sweet-potato-buttermilk-pie/')"
      ]
     },
     "execution_count": 9,
     "metadata": {},
     "output_type": "execute_result"
    }
   ],
   "source": [
    "len(urls_sk), urls_sk[0]"
   ]
  },
  {
   "cell_type": "markdown",
   "metadata": {},
   "source": [
    "# Scraper"
   ]
  },
  {
   "cell_type": "code",
   "execution_count": 14,
   "metadata": {
    "collapsed": true
   },
   "outputs": [
    {
     "name": "stdout",
     "output_type": "stream",
     "text": [
      "984\n",
      "983\n",
      "982\n",
      "981\n",
      "980\n",
      "979\n",
      "978\n",
      "977\n",
      "976\n",
      "975\n",
      "974\n",
      "973\n",
      "972\n",
      "971\n",
      "970\n",
      "969\n",
      "968\n",
      "967\n",
      "966\n",
      "965\n",
      "964\n",
      "963\n",
      "962\n",
      "961\n",
      "960\n",
      "959\n",
      "958\n",
      "957\n",
      "956\n",
      "955\n",
      "954\n",
      "953\n",
      "952\n",
      "951\n",
      "950\n",
      "949\n",
      "948\n",
      "947\n",
      "946\n",
      "945\n",
      "944\n",
      "943\n",
      "942\n",
      "941\n",
      "940\n",
      "939\n",
      "938\n",
      "937\n",
      "936\n",
      "935\n",
      "934\n",
      "933\n",
      "932\n",
      "931\n",
      "930\n",
      "929\n",
      "928\n",
      "927\n",
      "926\n",
      "925\n",
      "924\n",
      "923\n",
      "922\n",
      "921\n",
      "920\n",
      "919\n",
      "918\n",
      "917\n",
      "916\n",
      "915\n",
      "914\n",
      "913\n",
      "912\n",
      "911\n",
      "910\n",
      "909\n",
      "908\n",
      "907\n",
      "906\n",
      "905\n",
      "904\n",
      "903\n",
      "902\n",
      "901\n",
      "900\n",
      "899\n",
      "898\n",
      "897\n",
      "896\n",
      "895\n",
      "894\n",
      "893\n",
      "892\n",
      "891\n",
      "890\n",
      "889\n",
      "888\n",
      "887\n",
      "886\n",
      "885\n",
      "884\n",
      "883\n",
      "882\n",
      "881\n",
      "880\n",
      "879\n",
      "878\n",
      "877\n",
      "876\n",
      "875\n",
      "874\n",
      "873\n",
      "872\n",
      "871\n",
      "870\n",
      "869\n",
      "868\n",
      "867\n",
      "866\n"
     ]
    },
    {
     "ename": "KeyboardInterrupt",
     "evalue": "",
     "output_type": "error",
     "traceback": [
      "\u001b[0;31m---------------------------------------------------------------------------\u001b[0m",
      "\u001b[0;31mKeyboardInterrupt\u001b[0m                         Traceback (most recent call last)",
      "\u001b[0;32m<ipython-input-14-9b4a15b09d83>\u001b[0m in \u001b[0;36m<module>\u001b[0;34m()\u001b[0m\n\u001b[1;32m      6\u001b[0m     \u001b[0msoup\u001b[0m \u001b[0;34m=\u001b[0m \u001b[0mOpenPage\u001b[0m\u001b[0;34m(\u001b[0m\u001b[0murl\u001b[0m\u001b[0;34m)\u001b[0m\u001b[0;34m\u001b[0m\u001b[0m\n\u001b[1;32m      7\u001b[0m \u001b[0;34m\u001b[0m\u001b[0m\n\u001b[0;32m----> 8\u001b[0;31m     \u001b[0mcomments\u001b[0m\u001b[0;34m,\u001b[0m \u001b[0mcommentnumber\u001b[0m \u001b[0;34m=\u001b[0m \u001b[0mGetComments_SK\u001b[0m\u001b[0;34m(\u001b[0m\u001b[0msoup\u001b[0m\u001b[0;34m)\u001b[0m\u001b[0;34m\u001b[0m\u001b[0m\n\u001b[0m\u001b[1;32m      9\u001b[0m     \u001b[0mrecipe\u001b[0m\u001b[0;34m,\u001b[0m \u001b[0mtitle\u001b[0m \u001b[0;34m=\u001b[0m \u001b[0mGetRecipe_SK\u001b[0m\u001b[0;34m(\u001b[0m\u001b[0msoup\u001b[0m\u001b[0;34m,\u001b[0m \u001b[0mrecipenumber\u001b[0m\u001b[0;34m)\u001b[0m\u001b[0;34m\u001b[0m\u001b[0m\n\u001b[1;32m     10\u001b[0m \u001b[0;34m\u001b[0m\u001b[0m\n",
      "\u001b[0;32m<ipython-input-6-9eddcb0cc9eb>\u001b[0m in \u001b[0;36mGetComments_SK\u001b[0;34m(soup)\u001b[0m\n\u001b[1;32m     21\u001b[0m \u001b[0;34m\u001b[0m\u001b[0m\n\u001b[1;32m     22\u001b[0m \u001b[0;34m\u001b[0m\u001b[0m\n\u001b[0;32m---> 23\u001b[0;31m         \u001b[0mcomments_data\u001b[0m\u001b[0;34m[\u001b[0m\u001b[0mcomment_ID\u001b[0m\u001b[0;34m]\u001b[0m \u001b[0;34m=\u001b[0m \u001b[0mGetCommentData_SK\u001b[0m\u001b[0;34m(\u001b[0m\u001b[0mcomment\u001b[0m\u001b[0;34m,\u001b[0m \u001b[0mcomment_ID\u001b[0m\u001b[0;34m,\u001b[0m \u001b[0mcomment_has_children\u001b[0m\u001b[0;34m,\u001b[0m \u001b[0mchild_id\u001b[0m\u001b[0;34m)\u001b[0m\u001b[0;34m\u001b[0m\u001b[0m\n\u001b[0m\u001b[1;32m     24\u001b[0m \u001b[0;34m\u001b[0m\u001b[0m\n\u001b[1;32m     25\u001b[0m         \u001b[0mcomment\u001b[0m \u001b[0;34m=\u001b[0m \u001b[0mcomment\u001b[0m\u001b[0;34m.\u001b[0m\u001b[0mfindNext\u001b[0m\u001b[0;34m(\u001b[0m\u001b[0;34m'article'\u001b[0m\u001b[0;34m)\u001b[0m\u001b[0;34m\u001b[0m\u001b[0m\n",
      "\u001b[0;32m<ipython-input-5-83bf3115f1af>\u001b[0m in \u001b[0;36mGetCommentData_SK\u001b[0;34m(comment, ID, children, child_id)\u001b[0m\n\u001b[1;32m     18\u001b[0m     \u001b[0mcomment_info\u001b[0m\u001b[0;34m[\u001b[0m\u001b[0;34m'commentID'\u001b[0m\u001b[0;34m]\u001b[0m \u001b[0;34m=\u001b[0m \u001b[0mID\u001b[0m\u001b[0;34m\u001b[0m\u001b[0m\n\u001b[1;32m     19\u001b[0m \u001b[0;34m\u001b[0m\u001b[0m\n\u001b[0;32m---> 20\u001b[0;31m     \u001b[0mtimestamp_raw\u001b[0m \u001b[0;34m=\u001b[0m \u001b[0mGetText\u001b[0m\u001b[0;34m(\u001b[0m\u001b[0msoup\u001b[0m\u001b[0;34m.\u001b[0m\u001b[0mfind\u001b[0m\u001b[0;34m(\u001b[0m\u001b[0;34m'span'\u001b[0m\u001b[0;34m,\u001b[0m\u001b[0;34m{\u001b[0m\u001b[0;34m'class'\u001b[0m\u001b[0;34m:\u001b[0m\u001b[0;34m'date'\u001b[0m\u001b[0;34m}\u001b[0m\u001b[0;34m)\u001b[0m\u001b[0;34m)\u001b[0m \u001b[0;34m+\u001b[0m\u001b[0;34m', '\u001b[0m\u001b[0;34m+\u001b[0m \u001b[0mGetText\u001b[0m\u001b[0;34m(\u001b[0m\u001b[0msoup\u001b[0m\u001b[0;34m.\u001b[0m\u001b[0mfind\u001b[0m\u001b[0;34m(\u001b[0m\u001b[0;34m'span'\u001b[0m\u001b[0;34m,\u001b[0m\u001b[0;34m{\u001b[0m\u001b[0;34m'class'\u001b[0m\u001b[0;34m:\u001b[0m\u001b[0;34m'time'\u001b[0m\u001b[0;34m}\u001b[0m\u001b[0;34m)\u001b[0m\u001b[0;34m)\u001b[0m\u001b[0;34m\u001b[0m\u001b[0m\n\u001b[0m\u001b[1;32m     21\u001b[0m     \u001b[0mcomment_info\u001b[0m\u001b[0;34m[\u001b[0m\u001b[0;34m'comment_time'\u001b[0m\u001b[0;34m]\u001b[0m \u001b[0;34m=\u001b[0m \u001b[0mdatetime\u001b[0m\u001b[0;34m.\u001b[0m\u001b[0mdatetime\u001b[0m\u001b[0;34m.\u001b[0m\u001b[0mstrptime\u001b[0m\u001b[0;34m(\u001b[0m\u001b[0mtimestamp_raw\u001b[0m\u001b[0;34m,\u001b[0m \u001b[0;34m'%B %d, %Y, %I:%M %p'\u001b[0m\u001b[0;34m)\u001b[0m\u001b[0;34m\u001b[0m\u001b[0m\n\u001b[1;32m     22\u001b[0m                             \u001b[0;31m# datetime.datetime.strptime(time, '%Y-%m-%dt%H:%M:%S').strftime()\u001b[0m\u001b[0;34m\u001b[0m\u001b[0;34m\u001b[0m\u001b[0m\n",
      "\u001b[0;32m/Users/kateliea/anaconda/envs/py2ins/lib/python2.7/site-packages/bs4/element.pyc\u001b[0m in \u001b[0;36mfind\u001b[0;34m(self, name, attrs, recursive, text, **kwargs)\u001b[0m\n\u001b[1;32m   1236\u001b[0m         criteria.\"\"\"\n\u001b[1;32m   1237\u001b[0m         \u001b[0mr\u001b[0m \u001b[0;34m=\u001b[0m \u001b[0mNone\u001b[0m\u001b[0;34m\u001b[0m\u001b[0m\n\u001b[0;32m-> 1238\u001b[0;31m         \u001b[0ml\u001b[0m \u001b[0;34m=\u001b[0m \u001b[0mself\u001b[0m\u001b[0;34m.\u001b[0m\u001b[0mfind_all\u001b[0m\u001b[0;34m(\u001b[0m\u001b[0mname\u001b[0m\u001b[0;34m,\u001b[0m \u001b[0mattrs\u001b[0m\u001b[0;34m,\u001b[0m \u001b[0mrecursive\u001b[0m\u001b[0;34m,\u001b[0m \u001b[0mtext\u001b[0m\u001b[0;34m,\u001b[0m \u001b[0;36m1\u001b[0m\u001b[0;34m,\u001b[0m \u001b[0;34m**\u001b[0m\u001b[0mkwargs\u001b[0m\u001b[0;34m)\u001b[0m\u001b[0;34m\u001b[0m\u001b[0m\n\u001b[0m\u001b[1;32m   1239\u001b[0m         \u001b[0;32mif\u001b[0m \u001b[0ml\u001b[0m\u001b[0;34m:\u001b[0m\u001b[0;34m\u001b[0m\u001b[0m\n\u001b[1;32m   1240\u001b[0m             \u001b[0mr\u001b[0m \u001b[0;34m=\u001b[0m \u001b[0ml\u001b[0m\u001b[0;34m[\u001b[0m\u001b[0;36m0\u001b[0m\u001b[0;34m]\u001b[0m\u001b[0;34m\u001b[0m\u001b[0m\n",
      "\u001b[0;32m/Users/kateliea/anaconda/envs/py2ins/lib/python2.7/site-packages/bs4/element.pyc\u001b[0m in \u001b[0;36mfind_all\u001b[0;34m(self, name, attrs, recursive, text, limit, **kwargs)\u001b[0m\n\u001b[1;32m   1257\u001b[0m         \u001b[0;32mif\u001b[0m \u001b[0;32mnot\u001b[0m \u001b[0mrecursive\u001b[0m\u001b[0;34m:\u001b[0m\u001b[0;34m\u001b[0m\u001b[0m\n\u001b[1;32m   1258\u001b[0m             \u001b[0mgenerator\u001b[0m \u001b[0;34m=\u001b[0m \u001b[0mself\u001b[0m\u001b[0;34m.\u001b[0m\u001b[0mchildren\u001b[0m\u001b[0;34m\u001b[0m\u001b[0m\n\u001b[0;32m-> 1259\u001b[0;31m         \u001b[0;32mreturn\u001b[0m \u001b[0mself\u001b[0m\u001b[0;34m.\u001b[0m\u001b[0m_find_all\u001b[0m\u001b[0;34m(\u001b[0m\u001b[0mname\u001b[0m\u001b[0;34m,\u001b[0m \u001b[0mattrs\u001b[0m\u001b[0;34m,\u001b[0m \u001b[0mtext\u001b[0m\u001b[0;34m,\u001b[0m \u001b[0mlimit\u001b[0m\u001b[0;34m,\u001b[0m \u001b[0mgenerator\u001b[0m\u001b[0;34m,\u001b[0m \u001b[0;34m**\u001b[0m\u001b[0mkwargs\u001b[0m\u001b[0;34m)\u001b[0m\u001b[0;34m\u001b[0m\u001b[0m\n\u001b[0m\u001b[1;32m   1260\u001b[0m     \u001b[0mfindAll\u001b[0m \u001b[0;34m=\u001b[0m \u001b[0mfind_all\u001b[0m       \u001b[0;31m# BS3\u001b[0m\u001b[0;34m\u001b[0m\u001b[0m\n\u001b[1;32m   1261\u001b[0m     \u001b[0mfindChildren\u001b[0m \u001b[0;34m=\u001b[0m \u001b[0mfind_all\u001b[0m  \u001b[0;31m# BS2\u001b[0m\u001b[0;34m\u001b[0m\u001b[0m\n",
      "\u001b[0;32m/Users/kateliea/anaconda/envs/py2ins/lib/python2.7/site-packages/bs4/element.pyc\u001b[0m in \u001b[0;36m_find_all\u001b[0;34m(self, name, attrs, text, limit, generator, **kwargs)\u001b[0m\n\u001b[1;32m    535\u001b[0m                 \u001b[0;32mbreak\u001b[0m\u001b[0;34m\u001b[0m\u001b[0m\n\u001b[1;32m    536\u001b[0m             \u001b[0;32mif\u001b[0m \u001b[0mi\u001b[0m\u001b[0;34m:\u001b[0m\u001b[0;34m\u001b[0m\u001b[0m\n\u001b[0;32m--> 537\u001b[0;31m                 \u001b[0mfound\u001b[0m \u001b[0;34m=\u001b[0m \u001b[0mstrainer\u001b[0m\u001b[0;34m.\u001b[0m\u001b[0msearch\u001b[0m\u001b[0;34m(\u001b[0m\u001b[0mi\u001b[0m\u001b[0;34m)\u001b[0m\u001b[0;34m\u001b[0m\u001b[0m\n\u001b[0m\u001b[1;32m    538\u001b[0m                 \u001b[0;32mif\u001b[0m \u001b[0mfound\u001b[0m\u001b[0;34m:\u001b[0m\u001b[0;34m\u001b[0m\u001b[0m\n\u001b[1;32m    539\u001b[0m                     \u001b[0mresults\u001b[0m\u001b[0;34m.\u001b[0m\u001b[0mappend\u001b[0m\u001b[0;34m(\u001b[0m\u001b[0mfound\u001b[0m\u001b[0;34m)\u001b[0m\u001b[0;34m\u001b[0m\u001b[0m\n",
      "\u001b[0;32m/Users/kateliea/anaconda/envs/py2ins/lib/python2.7/site-packages/bs4/element.pyc\u001b[0m in \u001b[0;36msearch\u001b[0;34m(self, markup)\u001b[0m\n\u001b[1;32m   1652\u001b[0m         \u001b[0;32melif\u001b[0m \u001b[0misinstance\u001b[0m\u001b[0;34m(\u001b[0m\u001b[0mmarkup\u001b[0m\u001b[0;34m,\u001b[0m \u001b[0mTag\u001b[0m\u001b[0;34m)\u001b[0m\u001b[0;34m:\u001b[0m\u001b[0;34m\u001b[0m\u001b[0m\n\u001b[1;32m   1653\u001b[0m             \u001b[0;32mif\u001b[0m \u001b[0;32mnot\u001b[0m \u001b[0mself\u001b[0m\u001b[0;34m.\u001b[0m\u001b[0mtext\u001b[0m \u001b[0;32mor\u001b[0m \u001b[0mself\u001b[0m\u001b[0;34m.\u001b[0m\u001b[0mname\u001b[0m \u001b[0;32mor\u001b[0m \u001b[0mself\u001b[0m\u001b[0;34m.\u001b[0m\u001b[0mattrs\u001b[0m\u001b[0;34m:\u001b[0m\u001b[0;34m\u001b[0m\u001b[0m\n\u001b[0;32m-> 1654\u001b[0;31m                 \u001b[0mfound\u001b[0m \u001b[0;34m=\u001b[0m \u001b[0mself\u001b[0m\u001b[0;34m.\u001b[0m\u001b[0msearch_tag\u001b[0m\u001b[0;34m(\u001b[0m\u001b[0mmarkup\u001b[0m\u001b[0;34m)\u001b[0m\u001b[0;34m\u001b[0m\u001b[0m\n\u001b[0m\u001b[1;32m   1655\u001b[0m         \u001b[0;31m# If it's text, make sure the text matches.\u001b[0m\u001b[0;34m\u001b[0m\u001b[0;34m\u001b[0m\u001b[0m\n\u001b[1;32m   1656\u001b[0m         \u001b[0;32melif\u001b[0m \u001b[0misinstance\u001b[0m\u001b[0;34m(\u001b[0m\u001b[0mmarkup\u001b[0m\u001b[0;34m,\u001b[0m \u001b[0mNavigableString\u001b[0m\u001b[0;34m)\u001b[0m \u001b[0;32mor\u001b[0m\u001b[0;31m \u001b[0m\u001b[0;31m\\\u001b[0m\u001b[0;34m\u001b[0m\u001b[0m\n",
      "\u001b[0;32m/Users/kateliea/anaconda/envs/py2ins/lib/python2.7/site-packages/bs4/element.pyc\u001b[0m in \u001b[0;36msearch_tag\u001b[0;34m(self, markup_name, markup_attrs)\u001b[0m\n\u001b[1;32m   1608\u001b[0m         if ((not self.name)\n\u001b[1;32m   1609\u001b[0m             \u001b[0;32mor\u001b[0m \u001b[0mcall_function_with_tag_data\u001b[0m\u001b[0;34m\u001b[0m\u001b[0m\n\u001b[0;32m-> 1610\u001b[0;31m             \u001b[0;32mor\u001b[0m \u001b[0;34m(\u001b[0m\u001b[0mmarkup\u001b[0m \u001b[0;32mand\u001b[0m \u001b[0mself\u001b[0m\u001b[0;34m.\u001b[0m\u001b[0m_matches\u001b[0m\u001b[0;34m(\u001b[0m\u001b[0mmarkup\u001b[0m\u001b[0;34m,\u001b[0m \u001b[0mself\u001b[0m\u001b[0;34m.\u001b[0m\u001b[0mname\u001b[0m\u001b[0;34m)\u001b[0m\u001b[0;34m)\u001b[0m\u001b[0;34m\u001b[0m\u001b[0m\n\u001b[0m\u001b[1;32m   1611\u001b[0m             or (not markup and self._matches(markup_name, self.name))):\n\u001b[1;32m   1612\u001b[0m             \u001b[0;32mif\u001b[0m \u001b[0mcall_function_with_tag_data\u001b[0m\u001b[0;34m:\u001b[0m\u001b[0;34m\u001b[0m\u001b[0m\n",
      "\u001b[0;32m/Users/kateliea/anaconda/envs/py2ins/lib/python2.7/site-packages/bs4/element.pyc\u001b[0m in \u001b[0;36m_matches\u001b[0;34m(self, markup, match_against)\u001b[0m\n\u001b[1;32m   1666\u001b[0m         \u001b[0;31m# print u\"Matching %s against %s\" % (markup, match_against)\u001b[0m\u001b[0;34m\u001b[0m\u001b[0;34m\u001b[0m\u001b[0m\n\u001b[1;32m   1667\u001b[0m         \u001b[0mresult\u001b[0m \u001b[0;34m=\u001b[0m \u001b[0mFalse\u001b[0m\u001b[0;34m\u001b[0m\u001b[0m\n\u001b[0;32m-> 1668\u001b[0;31m         \u001b[0;32mif\u001b[0m \u001b[0misinstance\u001b[0m\u001b[0;34m(\u001b[0m\u001b[0mmarkup\u001b[0m\u001b[0;34m,\u001b[0m \u001b[0mlist\u001b[0m\u001b[0;34m)\u001b[0m \u001b[0;32mor\u001b[0m \u001b[0misinstance\u001b[0m\u001b[0;34m(\u001b[0m\u001b[0mmarkup\u001b[0m\u001b[0;34m,\u001b[0m \u001b[0mtuple\u001b[0m\u001b[0;34m)\u001b[0m\u001b[0;34m:\u001b[0m\u001b[0;34m\u001b[0m\u001b[0m\n\u001b[0m\u001b[1;32m   1669\u001b[0m             \u001b[0;31m# This should only happen when searching a multi-valued attribute\u001b[0m\u001b[0;34m\u001b[0m\u001b[0;34m\u001b[0m\u001b[0m\n\u001b[1;32m   1670\u001b[0m             \u001b[0;31m# like 'class'.\u001b[0m\u001b[0;34m\u001b[0m\u001b[0;34m\u001b[0m\u001b[0m\n",
      "\u001b[0;31mKeyboardInterrupt\u001b[0m: "
     ]
    }
   ],
   "source": [
    "CommentsFrame = pd.DataFrame()\n",
    "RecipeFrame = pd.DataFrame()\n",
    "\n",
    "for recipenumber, url in enumerate(urls_sk): \n",
    "    print(len(urls_sk)-recipenumber)\n",
    "    soup = OpenPage(url)\n",
    "    \n",
    "    comments, commentnumber = GetComments_SK(soup)\n",
    "    recipe, title = GetRecipe_SK(soup, recipenumber)\n",
    "\n",
    "    \n",
    "    CommentsFrame_temp = pd.DataFrame.from_dict(comments,orient='index')\n",
    "    RecipeFrame_temp = pd.DataFrame.from_dict(recipe,orient='index')\n",
    "\n",
    "    CommentsFrame_temp['recipeName'] = title\n",
    "    CommentsFrame_temp['recipeID'] = recipenumber\n",
    "    CommentsFrame_temp['recipeURL'] = url\n",
    "\n",
    "    RecipeFrame_temp['numberofcomments'] = commentnumber\n",
    "\n",
    "\n",
    "    CommentsFrame = pd.concat([CommentsFrame, CommentsFrame_temp], ignore_index=True)\n",
    "    RecipeFrame = pd.concat([RecipeFrame, RecipeFrame_temp], ignore_index=True)   \n",
    "\n",
    "    time.sleep(2)\n",
    "    \n",
    "CommentsFrame.to_csv('SmittenKitchen_Comments.csv', sep=',', encoding='utf-8')\n",
    "RecipeFrame.to_csv('SmittenKitchen_Recipes.csv', sep=',', encoding='utf-8')"
   ]
  },
  {
   "cell_type": "code",
   "execution_count": null,
   "metadata": {
    "collapsed": true
   },
   "outputs": [],
   "source": [
    "CommentsFrame = pd.DataFrame()\n",
    "RecipeFrame = pd.DataFrame()\n",
    "\n",
    "for recipenumber, url in enumerate(urls_sk): \n",
    "    print(len(urls_sk)-recipenumber)\n",
    "    soup = OpenPage(url)\n",
    "    \n",
    "    comments, commentnumber = GetComments_SK(soup)\n",
    "    recipe, title = GetRecipe_SK(soup, recipenumber)\n",
    "    \n",
    "    comments['recipeName'] = title\n",
    "    comments['recipeID'] = recipenumber\n",
    "    comments['recipeURL'] = url\n",
    "    \n",
    "    recipe['numberofcomments'] = commentnumber\n",
    "    \n",
    "    recipes_all[str(recipenumber)] = recipe\n",
    "    comments_all[str(recipenumber)] = \n",
    "\n",
    "\n",
    "    CommentsFrame = pd.concat([CommentsFrame, CommentsFrame_temp], ignore_index=True)\n",
    "    RecipeFrame = pd.concat([RecipeFrame, RecipeFrame_temp], ignore_index=True)   \n",
    "\n",
    "    time.sleep(2)\n",
    "\n",
    "    \n",
    "CommentsFrame_temp = pd.DataFrame.from_dict(comments,orient='index')\n",
    "RecipeFrame_temp = pd.DataFrame.from_dict(recipe,orient='index')\n",
    "\n",
    "CommentsFrame.to_csv('SmittenKitchen_Comments.csv', sep=',', encoding='utf-8')\n",
    "RecipeFrame.to_csv('SmittenKitchen_Recipes.csv', sep=',', encoding='utf-8')"
   ]
  },
  {
   "cell_type": "raw",
   "metadata": {
    "collapsed": true
   },
   "source": [
    "CommentsFrame.to_csv('SmittenKitchen_Comments.csv', sep=',', encoding='utf-8')\n",
    "RecipeFrame.to_csv('SmittenKitchen_Recipes.csv', sep=',', encoding='utf-8')"
   ]
  },
  {
   "cell_type": "markdown",
   "metadata": {
    "nbpresent": {
     "id": "25dde0b0-b43c-4228-8f71-cecb3f982a5e"
    }
   },
   "source": [
    "### testing"
   ]
  },
  {
   "cell_type": "raw",
   "metadata": {
    "collapsed": false
   },
   "source": [
    "timestamp_raw = GetText(soup.find('span',{'class':'date'})) +', '+ GetText(soup.find('span',{'class':'time'}))\n",
    "timestamp = datetime.datetime.strptime(timestamp_raw, '%B %d, %Y, %I:%M %p')\n",
    "timestamp"
   ]
  },
  {
   "cell_type": "raw",
   "metadata": {
    "collapsed": false,
    "scrolled": true
   },
   "source": [
    "GetComments_SK(soup)"
   ]
  },
  {
   "cell_type": "raw",
   "metadata": {},
   "source": [
    "soup.find('span',{'class':'date'}).get_text() +', '+ soup.find('span',{'class':'time'}).get_text()"
   ]
  },
  {
   "cell_type": "raw",
   "metadata": {},
   "source": [
    "comments = soup.find('ol',{'class':'comment-list'})"
   ]
  },
  {
   "cell_type": "raw",
   "metadata": {
    "collapsed": false
   },
   "source": [
    "\n",
    "comments_data = {}\n",
    "comment_has_children, child_id = 'no', 0 \n",
    "\n",
    "# allcomments = TryFind(soup.find('ol',{'class':'comment-list'}))\n",
    "number_of_comments = len(soup.findAll('article',{'class':'comment-body'}))\n",
    "\n",
    "comment = TryFind(soup.find('article',{'class':'comment-body'}))\n",
    "\n",
    "for comment_ID in range(0, number_of_comments):\n",
    "\n",
    "    nextComment = comment.findNext('article',{'class':'comment-body'})\n",
    "\n",
    "    if comment_ID < number_of_comments-1:\n",
    "        if nextComment.parent.parent['class'][0] == 'children':\n",
    "            comment_has_children, child_id = 'yes', comment_ID+1\n",
    "        else: comment_has_children, child_id = 'no', 0 \n",
    "    else: comment_has_children, child_id = 'no', 0 \n",
    "\n",
    "\n",
    "    comments_data[comment_ID] = GetCommentData_SK(comment, comment_ID, comment_has_children, child_id)\n",
    "\n",
    "    comment = comment.findNext('article')\n",
    "\n"
   ]
  },
  {
   "cell_type": "raw",
   "metadata": {
    "collapsed": false
   },
   "source": [
    "TryFind(allcomments.find('ol',{'class':'children'}))"
   ]
  },
  {
   "cell_type": "raw",
   "metadata": {
    "collapsed": false
   },
   "source": [
    "allcomments\n"
   ]
  },
  {
   "cell_type": "raw",
   "metadata": {
    "collapsed": false
   },
   "source": [
    "nc.parent.parent"
   ]
  },
  {
   "cell_type": "raw",
   "metadata": {
    "collapsed": false
   },
   "source": [
    "    allcomments = TryFind(soup.find('ol',{'class':'comment-list'}))\n",
    "    number_of_comments = allcomments.findAll('article',{'class':'comment-body'})\n",
    "    number_of_comments\n",
    "#     allcomments\n",
    "#     allcomments.findAll('article',{'class':'comment-body'})"
   ]
  },
  {
   "cell_type": "raw",
   "metadata": {
    "collapsed": false
   },
   "source": [
    "# a = soup.find('article',{'class':'comment-body'})\n",
    "a = a.findNext('article',{'class':'comment-body'})\n",
    "a"
   ]
  },
  {
   "cell_type": "raw",
   "metadata": {
    "collapsed": false
   },
   "source": [
    "CommentsFrame.iloc[-1,:]"
   ]
  },
  {
   "cell_type": "raw",
   "metadata": {},
   "source": [
    "datetime.datetime.strptime(time, '%Y-%m-%dt%H:%M:%S').strftime()"
   ]
  }
 ],
 "metadata": {
  "anaconda-cloud": {},
  "kernelspec": {
   "display_name": "Python [py2ins]",
   "language": "python",
   "name": "Python [py2ins]"
  },
  "language_info": {
   "codemirror_mode": {
    "name": "ipython",
    "version": 2
   },
   "file_extension": ".py",
   "mimetype": "text/x-python",
   "name": "python",
   "nbconvert_exporter": "python",
   "pygments_lexer": "ipython2",
   "version": "2.7.12"
  },
  "nbpresent": {
   "slides": {},
   "themes": {
    "default": "0b171950-fffb-4766-b829-1b8f5c802004",
    "theme": {
     "0b171950-fffb-4766-b829-1b8f5c802004": {
      "id": "0b171950-fffb-4766-b829-1b8f5c802004",
      "palette": {
       "19cc588f-0593-49c9-9f4b-e4d7cc113b1c": {
        "id": "19cc588f-0593-49c9-9f4b-e4d7cc113b1c",
        "rgb": [
         252,
         252,
         252
        ]
       },
       "31af15d2-7e15-44c5-ab5e-e04b16a89eff": {
        "id": "31af15d2-7e15-44c5-ab5e-e04b16a89eff",
        "rgb": [
         68,
         68,
         68
        ]
       },
       "50f92c45-a630-455b-aec3-788680ec7410": {
        "id": "50f92c45-a630-455b-aec3-788680ec7410",
        "rgb": [
         155,
         177,
         192
        ]
       },
       "c5cc3653-2ee1-402a-aba2-7caae1da4f6c": {
        "id": "c5cc3653-2ee1-402a-aba2-7caae1da4f6c",
        "rgb": [
         43,
         126,
         184
        ]
       },
       "efa7f048-9acb-414c-8b04-a26811511a21": {
        "id": "efa7f048-9acb-414c-8b04-a26811511a21",
        "rgb": [
         25.118061674008803,
         73.60176211453744,
         107.4819383259912
        ]
       }
      },
      "rules": {
       "blockquote": {
        "color": "50f92c45-a630-455b-aec3-788680ec7410"
       },
       "code": {
        "font-family": "Anonymous Pro"
       },
       "h1": {
        "color": "c5cc3653-2ee1-402a-aba2-7caae1da4f6c",
        "font-family": "Lato",
        "font-size": 8
       },
       "h2": {
        "color": "c5cc3653-2ee1-402a-aba2-7caae1da4f6c",
        "font-family": "Lato",
        "font-size": 6
       },
       "h3": {
        "color": "50f92c45-a630-455b-aec3-788680ec7410",
        "font-family": "Lato",
        "font-size": 5.5
       },
       "h4": {
        "color": "c5cc3653-2ee1-402a-aba2-7caae1da4f6c",
        "font-family": "Lato",
        "font-size": 5
       },
       "h5": {
        "font-family": "Lato"
       },
       "h6": {
        "font-family": "Lato"
       },
       "h7": {
        "font-family": "Lato"
       },
       "pre": {
        "font-family": "Anonymous Pro",
        "font-size": 4
       }
      },
      "text-base": {
       "font-family": "Merriweather",
       "font-size": 4
      }
     },
     "d5c6b694-8f80-480f-832d-fcee9bfff6da": {
      "backgrounds": {
       "dc7afa04-bf90-40b1-82a5-726e3cff5267": {
        "background-color": "31af15d2-7e15-44c5-ab5e-e04b16a89eff",
        "id": "dc7afa04-bf90-40b1-82a5-726e3cff5267"
       }
      },
      "id": "d5c6b694-8f80-480f-832d-fcee9bfff6da",
      "palette": {
       "19cc588f-0593-49c9-9f4b-e4d7cc113b1c": {
        "id": "19cc588f-0593-49c9-9f4b-e4d7cc113b1c",
        "rgb": [
         252,
         252,
         252
        ]
       },
       "31af15d2-7e15-44c5-ab5e-e04b16a89eff": {
        "id": "31af15d2-7e15-44c5-ab5e-e04b16a89eff",
        "rgb": [
         68,
         68,
         68
        ]
       },
       "50f92c45-a630-455b-aec3-788680ec7410": {
        "id": "50f92c45-a630-455b-aec3-788680ec7410",
        "rgb": [
         197,
         226,
         245
        ]
       },
       "c5cc3653-2ee1-402a-aba2-7caae1da4f6c": {
        "id": "c5cc3653-2ee1-402a-aba2-7caae1da4f6c",
        "rgb": [
         43,
         126,
         184
        ]
       },
       "efa7f048-9acb-414c-8b04-a26811511a21": {
        "id": "efa7f048-9acb-414c-8b04-a26811511a21",
        "rgb": [
         25.118061674008803,
         73.60176211453744,
         107.4819383259912
        ]
       }
      },
      "rules": {
       "a": {
        "color": "19cc588f-0593-49c9-9f4b-e4d7cc113b1c"
       },
       "blockquote": {
        "color": "50f92c45-a630-455b-aec3-788680ec7410",
        "font-size": 3
       },
       "code": {
        "font-family": "Anonymous Pro"
       },
       "h1": {
        "color": "19cc588f-0593-49c9-9f4b-e4d7cc113b1c",
        "font-family": "Merriweather",
        "font-size": 8
       },
       "h2": {
        "color": "19cc588f-0593-49c9-9f4b-e4d7cc113b1c",
        "font-family": "Merriweather",
        "font-size": 6
       },
       "h3": {
        "color": "50f92c45-a630-455b-aec3-788680ec7410",
        "font-family": "Lato",
        "font-size": 5.5
       },
       "h4": {
        "color": "c5cc3653-2ee1-402a-aba2-7caae1da4f6c",
        "font-family": "Lato",
        "font-size": 5
       },
       "h5": {
        "font-family": "Lato"
       },
       "h6": {
        "font-family": "Lato"
       },
       "h7": {
        "font-family": "Lato"
       },
       "li": {
        "color": "50f92c45-a630-455b-aec3-788680ec7410",
        "font-size": 3.25
       },
       "pre": {
        "font-family": "Anonymous Pro",
        "font-size": 4
       }
      },
      "text-base": {
       "color": "19cc588f-0593-49c9-9f4b-e4d7cc113b1c",
       "font-family": "Lato",
       "font-size": 4
      }
     }
    }
   }
  }
 },
 "nbformat": 4,
 "nbformat_minor": 0
}
